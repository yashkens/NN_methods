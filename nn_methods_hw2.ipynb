{
  "nbformat": 4,
  "nbformat_minor": 0,
  "metadata": {
    "colab": {
      "name": "hw_NN_methods.ipynb",
      "provenance": [],
      "collapsed_sections": [
        "Fh5TWd0eR18g",
        "FMzK2VvHR7qC",
        "L7rCI6LdSF4y",
        "qbluYO5mSMDH",
        "MXg3MSSlnhBl",
        "J3MeuRrconMR",
        "ROGMtSechzuR",
        "E58dkjswh29g",
        "bxm2Fy2z2XII",
        "40q0095wBoiK",
        "aU_f1g3Ga9DR",
        "BQkjK-ncbMrw",
        "YXBhEmAUjXq2",
        "FPlJOHyHjdWL",
        "pKRp-fRFozMM"
      ]
    },
    "kernelspec": {
      "name": "python3",
      "display_name": "Python 3"
    },
    "language_info": {
      "name": "python"
    },
    "accelerator": "GPU"
  },
  "cells": [
    {
      "cell_type": "markdown",
      "metadata": {
        "id": "Fh5TWd0eR18g"
      },
      "source": [
        "## Imports & downloads\n"
      ]
    },
    {
      "cell_type": "code",
      "metadata": {
        "colab": {
          "base_uri": "https://localhost:8080/"
        },
        "id": "0eAvvKSIsvWX",
        "outputId": "651baece-1cc4-4a22-b83b-101a6e8c8193"
      },
      "source": [
        "!wget https://www.dropbox.com/s/r6u59ljhhjdg6j0/negative.csv\n",
        "!wget https://www.dropbox.com/s/fnpq3z4bcnoktiv/positive.csv "
      ],
      "execution_count": 1,
      "outputs": [
        {
          "output_type": "stream",
          "name": "stdout",
          "text": [
            "--2021-11-25 18:03:49--  https://www.dropbox.com/s/r6u59ljhhjdg6j0/negative.csv\n",
            "Resolving www.dropbox.com (www.dropbox.com)... 162.125.3.18, 2620:100:6018:18::a27d:312\n",
            "Connecting to www.dropbox.com (www.dropbox.com)|162.125.3.18|:443... connected.\n",
            "HTTP request sent, awaiting response... 301 Moved Permanently\n",
            "Location: /s/raw/r6u59ljhhjdg6j0/negative.csv [following]\n",
            "--2021-11-25 18:03:49--  https://www.dropbox.com/s/raw/r6u59ljhhjdg6j0/negative.csv\n",
            "Reusing existing connection to www.dropbox.com:443.\n",
            "HTTP request sent, awaiting response... 302 Found\n",
            "Location: https://uc4f7d649cdfee4042bb676bffdd.dl.dropboxusercontent.com/cd/0/inline/BapFHnwhV_bVf3t1Jo4GHRprYS7o3zlZzWGGZfuhcbs9MZuSQnVnr7xtrTrOzOWvgIktjGKovxffpP7CEy1dAOhJIA1oZopz7I3eLJFQPY5dwbDDJCW-aCa3c0Tgueh0ncruzFgN4uQjY2NEnuARo_rZ/file# [following]\n",
            "--2021-11-25 18:03:49--  https://uc4f7d649cdfee4042bb676bffdd.dl.dropboxusercontent.com/cd/0/inline/BapFHnwhV_bVf3t1Jo4GHRprYS7o3zlZzWGGZfuhcbs9MZuSQnVnr7xtrTrOzOWvgIktjGKovxffpP7CEy1dAOhJIA1oZopz7I3eLJFQPY5dwbDDJCW-aCa3c0Tgueh0ncruzFgN4uQjY2NEnuARo_rZ/file\n",
            "Resolving uc4f7d649cdfee4042bb676bffdd.dl.dropboxusercontent.com (uc4f7d649cdfee4042bb676bffdd.dl.dropboxusercontent.com)... 162.125.5.15, 2620:100:601c:15::a27d:60f\n",
            "Connecting to uc4f7d649cdfee4042bb676bffdd.dl.dropboxusercontent.com (uc4f7d649cdfee4042bb676bffdd.dl.dropboxusercontent.com)|162.125.5.15|:443... connected.\n",
            "HTTP request sent, awaiting response... 200 OK\n",
            "Length: 24450101 (23M) [text/plain]\n",
            "Saving to: ‘negative.csv’\n",
            "\n",
            "negative.csv        100%[===================>]  23.32M  27.4MB/s    in 0.9s    \n",
            "\n",
            "2021-11-25 18:03:51 (27.4 MB/s) - ‘negative.csv’ saved [24450101/24450101]\n",
            "\n",
            "--2021-11-25 18:03:51--  https://www.dropbox.com/s/fnpq3z4bcnoktiv/positive.csv\n",
            "Resolving www.dropbox.com (www.dropbox.com)... 162.125.3.18, 2620:100:6018:18::a27d:312\n",
            "Connecting to www.dropbox.com (www.dropbox.com)|162.125.3.18|:443... connected.\n",
            "HTTP request sent, awaiting response... 301 Moved Permanently\n",
            "Location: /s/raw/fnpq3z4bcnoktiv/positive.csv [following]\n",
            "--2021-11-25 18:03:51--  https://www.dropbox.com/s/raw/fnpq3z4bcnoktiv/positive.csv\n",
            "Reusing existing connection to www.dropbox.com:443.\n",
            "HTTP request sent, awaiting response... 302 Found\n",
            "Location: https://ucb22f73095b5bdaba12f736c37e.dl.dropboxusercontent.com/cd/0/inline/Bard6j5x3IeASBMhfTv062DqOr-Cqyjrdj2Iz2IX5JemWu7MhtCPyviWKGj5QM-PiPiZ-0yw4q50aC6unKmxc9-Mu7c8751jHzkr7o5qEjb-cFtZJTY0scpPSwyDYn274VBE1m09Esy3O84f1tsHATOK/file# [following]\n",
            "--2021-11-25 18:03:51--  https://ucb22f73095b5bdaba12f736c37e.dl.dropboxusercontent.com/cd/0/inline/Bard6j5x3IeASBMhfTv062DqOr-Cqyjrdj2Iz2IX5JemWu7MhtCPyviWKGj5QM-PiPiZ-0yw4q50aC6unKmxc9-Mu7c8751jHzkr7o5qEjb-cFtZJTY0scpPSwyDYn274VBE1m09Esy3O84f1tsHATOK/file\n",
            "Resolving ucb22f73095b5bdaba12f736c37e.dl.dropboxusercontent.com (ucb22f73095b5bdaba12f736c37e.dl.dropboxusercontent.com)... 162.125.5.15, 2620:100:6018:15::a27d:30f\n",
            "Connecting to ucb22f73095b5bdaba12f736c37e.dl.dropboxusercontent.com (ucb22f73095b5bdaba12f736c37e.dl.dropboxusercontent.com)|162.125.5.15|:443... connected.\n",
            "HTTP request sent, awaiting response... 200 OK\n",
            "Length: 26233379 (25M) [text/plain]\n",
            "Saving to: ‘positive.csv’\n",
            "\n",
            "positive.csv        100%[===================>]  25.02M  34.5MB/s    in 0.7s    \n",
            "\n",
            "2021-11-25 18:03:52 (34.5 MB/s) - ‘positive.csv’ saved [26233379/26233379]\n",
            "\n"
          ]
        }
      ]
    },
    {
      "cell_type": "code",
      "metadata": {
        "colab": {
          "base_uri": "https://localhost:8080/"
        },
        "id": "ngVDCIlcU-JO",
        "outputId": "2a191b7a-262b-4f6a-b13d-a0709bdf2ecb"
      },
      "source": [
        "!pip install stanza torchmetrics gensim==3.8"
      ],
      "execution_count": 2,
      "outputs": [
        {
          "output_type": "stream",
          "name": "stdout",
          "text": [
            "Collecting stanza\n",
            "  Downloading stanza-1.3.0-py3-none-any.whl (432 kB)\n",
            "\u001b[K     |████████████████████████████████| 432 kB 5.5 MB/s \n",
            "\u001b[?25hCollecting torchmetrics\n",
            "  Downloading torchmetrics-0.6.0-py3-none-any.whl (329 kB)\n",
            "\u001b[K     |████████████████████████████████| 329 kB 41.7 MB/s \n",
            "\u001b[?25hCollecting gensim==3.8\n",
            "  Downloading gensim-3.8.0-cp37-cp37m-manylinux1_x86_64.whl (24.2 MB)\n",
            "\u001b[K     |████████████████████████████████| 24.2 MB 1.7 MB/s \n",
            "\u001b[?25hRequirement already satisfied: numpy>=1.11.3 in /usr/local/lib/python3.7/dist-packages (from gensim==3.8) (1.19.5)\n",
            "Requirement already satisfied: scipy>=0.18.1 in /usr/local/lib/python3.7/dist-packages (from gensim==3.8) (1.4.1)\n",
            "Requirement already satisfied: six>=1.5.0 in /usr/local/lib/python3.7/dist-packages (from gensim==3.8) (1.15.0)\n",
            "Requirement already satisfied: smart-open>=1.7.0 in /usr/local/lib/python3.7/dist-packages (from gensim==3.8) (5.2.1)\n",
            "Requirement already satisfied: torch>=1.3.0 in /usr/local/lib/python3.7/dist-packages (from stanza) (1.10.0+cu111)\n",
            "Requirement already satisfied: requests in /usr/local/lib/python3.7/dist-packages (from stanza) (2.23.0)\n",
            "Collecting emoji\n",
            "  Downloading emoji-1.6.1.tar.gz (170 kB)\n",
            "\u001b[K     |████████████████████████████████| 170 kB 49.3 MB/s \n",
            "\u001b[?25hRequirement already satisfied: protobuf in /usr/local/lib/python3.7/dist-packages (from stanza) (3.17.3)\n",
            "Requirement already satisfied: tqdm in /usr/local/lib/python3.7/dist-packages (from stanza) (4.62.3)\n",
            "Requirement already satisfied: typing-extensions in /usr/local/lib/python3.7/dist-packages (from torch>=1.3.0->stanza) (3.10.0.2)\n",
            "Requirement already satisfied: packaging in /usr/local/lib/python3.7/dist-packages (from torchmetrics) (21.3)\n",
            "Requirement already satisfied: pyparsing!=3.0.5,>=2.0.2 in /usr/local/lib/python3.7/dist-packages (from packaging->torchmetrics) (3.0.6)\n",
            "Requirement already satisfied: certifi>=2017.4.17 in /usr/local/lib/python3.7/dist-packages (from requests->stanza) (2021.10.8)\n",
            "Requirement already satisfied: chardet<4,>=3.0.2 in /usr/local/lib/python3.7/dist-packages (from requests->stanza) (3.0.4)\n",
            "Requirement already satisfied: urllib3!=1.25.0,!=1.25.1,<1.26,>=1.21.1 in /usr/local/lib/python3.7/dist-packages (from requests->stanza) (1.24.3)\n",
            "Requirement already satisfied: idna<3,>=2.5 in /usr/local/lib/python3.7/dist-packages (from requests->stanza) (2.10)\n",
            "Building wheels for collected packages: emoji\n",
            "  Building wheel for emoji (setup.py) ... \u001b[?25l\u001b[?25hdone\n",
            "  Created wheel for emoji: filename=emoji-1.6.1-py3-none-any.whl size=169314 sha256=331452ff78c909fb4c9512e0f552b99208963b3f6f3cabdccc035784a83d52ef\n",
            "  Stored in directory: /root/.cache/pip/wheels/ea/5f/d3/03d313ddb3c2a1a427bb4690f1621eea60fe6f2a30cc95940f\n",
            "Successfully built emoji\n",
            "Installing collected packages: emoji, torchmetrics, stanza, gensim\n",
            "  Attempting uninstall: gensim\n",
            "    Found existing installation: gensim 3.6.0\n",
            "    Uninstalling gensim-3.6.0:\n",
            "      Successfully uninstalled gensim-3.6.0\n",
            "Successfully installed emoji-1.6.1 gensim-3.8.0 stanza-1.3.0 torchmetrics-0.6.0\n"
          ]
        }
      ]
    },
    {
      "cell_type": "code",
      "metadata": {
        "id": "Q14UgD-C1pyi",
        "colab": {
          "base_uri": "https://localhost:8080/"
        },
        "outputId": "aaef3285-008e-422d-a671-fe2c168b2c51"
      },
      "source": [
        "import pandas as pd\n",
        "from tqdm import tqdm\n",
        "from collections import Counter\n",
        "import string\n",
        "import numpy as np\n",
        "\n",
        "from sklearn.model_selection import train_test_split\n",
        "\n",
        "import torch\n",
        "from torch.utils.data import Dataset, DataLoader, RandomSampler, SequentialSampler\n",
        "from torch.nn.utils.rnn import pad_sequence\n",
        "import torch.nn as nn\n",
        "import torch.optim as optim\n",
        "from torchmetrics import F1\n",
        "from torchmetrics.functional import f1, recall\n",
        "\n",
        "from IPython.display import clear_output\n",
        "import matplotlib.pyplot as plt\n",
        "\n",
        "import nltk\n",
        "from nltk.tokenize import word_tokenize\n",
        "nltk.download('punkt')\n",
        "\n",
        "from gensim.models import KeyedVectors"
      ],
      "execution_count": 3,
      "outputs": [
        {
          "output_type": "stream",
          "name": "stdout",
          "text": [
            "[nltk_data] Downloading package punkt to /root/nltk_data...\n",
            "[nltk_data]   Unzipping tokenizers/punkt.zip.\n"
          ]
        }
      ]
    },
    {
      "cell_type": "code",
      "metadata": {
        "colab": {
          "base_uri": "https://localhost:8080/"
        },
        "id": "9Y4MryMUcuBH",
        "outputId": "1c97a9eb-cc61-4368-e585-414e1bfcf066"
      },
      "source": [
        "DEVICE = torch.device('cuda') if torch.cuda.is_available() else torch.device('cpu')\n",
        "DEVICE"
      ],
      "execution_count": 4,
      "outputs": [
        {
          "output_type": "execute_result",
          "data": {
            "text/plain": [
              "device(type='cuda')"
            ]
          },
          "metadata": {},
          "execution_count": 4
        }
      ]
    },
    {
      "cell_type": "markdown",
      "metadata": {
        "id": "dvBtu2OfnX54"
      },
      "source": [
        "## Первая модель\n",
        "Без устранения пунктуации"
      ]
    },
    {
      "cell_type": "markdown",
      "metadata": {
        "id": "FMzK2VvHR7qC"
      },
      "source": [
        "### Prepare Data"
      ]
    },
    {
      "cell_type": "code",
      "metadata": {
        "colab": {
          "base_uri": "https://localhost:8080/",
          "height": 0
        },
        "id": "4gAzMh4M1Pm2",
        "outputId": "39c03a86-390e-4912-891e-6a14ff5e8816"
      },
      "source": [
        "col_names = ['id', 'date', 'name', 'text', 'type', 'rep', 'ftw', 'fav', 'stcount', 'fol', 'frien', 'listcount']\n",
        "neg_data = pd.read_csv('negative.csv', header=None, sep=';', names=col_names, index_col=0)\n",
        "pos_data = pd.read_csv('positive.csv', header=None, sep=';', names=col_names, index_col=0)\n",
        "data = pd.concat([neg_data, pos_data])\n",
        "data.loc[data['type'] == -1, 'type'] = 0\n",
        "data.head()"
      ],
      "execution_count": 5,
      "outputs": [
        {
          "output_type": "execute_result",
          "data": {
            "text/html": [
              "<div>\n",
              "<style scoped>\n",
              "    .dataframe tbody tr th:only-of-type {\n",
              "        vertical-align: middle;\n",
              "    }\n",
              "\n",
              "    .dataframe tbody tr th {\n",
              "        vertical-align: top;\n",
              "    }\n",
              "\n",
              "    .dataframe thead th {\n",
              "        text-align: right;\n",
              "    }\n",
              "</style>\n",
              "<table border=\"1\" class=\"dataframe\">\n",
              "  <thead>\n",
              "    <tr style=\"text-align: right;\">\n",
              "      <th></th>\n",
              "      <th>date</th>\n",
              "      <th>name</th>\n",
              "      <th>text</th>\n",
              "      <th>type</th>\n",
              "      <th>rep</th>\n",
              "      <th>ftw</th>\n",
              "      <th>fav</th>\n",
              "      <th>stcount</th>\n",
              "      <th>fol</th>\n",
              "      <th>frien</th>\n",
              "      <th>listcount</th>\n",
              "    </tr>\n",
              "    <tr>\n",
              "      <th>id</th>\n",
              "      <th></th>\n",
              "      <th></th>\n",
              "      <th></th>\n",
              "      <th></th>\n",
              "      <th></th>\n",
              "      <th></th>\n",
              "      <th></th>\n",
              "      <th></th>\n",
              "      <th></th>\n",
              "      <th></th>\n",
              "      <th></th>\n",
              "    </tr>\n",
              "  </thead>\n",
              "  <tbody>\n",
              "    <tr>\n",
              "      <th>408906762813579264</th>\n",
              "      <td>1386325944</td>\n",
              "      <td>dugarchikbellko</td>\n",
              "      <td>на работе был полный пиддес :| и так каждое за...</td>\n",
              "      <td>0</td>\n",
              "      <td>0</td>\n",
              "      <td>0</td>\n",
              "      <td>0</td>\n",
              "      <td>8064</td>\n",
              "      <td>111</td>\n",
              "      <td>94</td>\n",
              "      <td>2</td>\n",
              "    </tr>\n",
              "    <tr>\n",
              "      <th>408906818262687744</th>\n",
              "      <td>1386325957</td>\n",
              "      <td>nugemycejela</td>\n",
              "      <td>Коллеги сидят рубятся в Urban terror, а я из-з...</td>\n",
              "      <td>0</td>\n",
              "      <td>0</td>\n",
              "      <td>0</td>\n",
              "      <td>0</td>\n",
              "      <td>26</td>\n",
              "      <td>42</td>\n",
              "      <td>39</td>\n",
              "      <td>0</td>\n",
              "    </tr>\n",
              "    <tr>\n",
              "      <th>408906858515398656</th>\n",
              "      <td>1386325966</td>\n",
              "      <td>4post21</td>\n",
              "      <td>@elina_4post как говорят обещаного три года жд...</td>\n",
              "      <td>0</td>\n",
              "      <td>0</td>\n",
              "      <td>0</td>\n",
              "      <td>0</td>\n",
              "      <td>718</td>\n",
              "      <td>49</td>\n",
              "      <td>249</td>\n",
              "      <td>0</td>\n",
              "    </tr>\n",
              "    <tr>\n",
              "      <th>408906914437685248</th>\n",
              "      <td>1386325980</td>\n",
              "      <td>Poliwake</td>\n",
              "      <td>Желаю хорошего полёта и удачной посадки,я буду...</td>\n",
              "      <td>0</td>\n",
              "      <td>0</td>\n",
              "      <td>0</td>\n",
              "      <td>0</td>\n",
              "      <td>10628</td>\n",
              "      <td>207</td>\n",
              "      <td>200</td>\n",
              "      <td>0</td>\n",
              "    </tr>\n",
              "    <tr>\n",
              "      <th>408906914723295232</th>\n",
              "      <td>1386325980</td>\n",
              "      <td>capyvixowe</td>\n",
              "      <td>Обновил за каким-то лешим surf, теперь не рабо...</td>\n",
              "      <td>0</td>\n",
              "      <td>0</td>\n",
              "      <td>0</td>\n",
              "      <td>0</td>\n",
              "      <td>35</td>\n",
              "      <td>17</td>\n",
              "      <td>34</td>\n",
              "      <td>0</td>\n",
              "    </tr>\n",
              "  </tbody>\n",
              "</table>\n",
              "</div>"
            ],
            "text/plain": [
              "                          date             name  ... frien  listcount\n",
              "id                                               ...                 \n",
              "408906762813579264  1386325944  dugarchikbellko  ...    94          2\n",
              "408906818262687744  1386325957     nugemycejela  ...    39          0\n",
              "408906858515398656  1386325966          4post21  ...   249          0\n",
              "408906914437685248  1386325980         Poliwake  ...   200          0\n",
              "408906914723295232  1386325980       capyvixowe  ...    34          0\n",
              "\n",
              "[5 rows x 11 columns]"
            ]
          },
          "metadata": {},
          "execution_count": 5
        }
      ]
    },
    {
      "cell_type": "code",
      "metadata": {
        "colab": {
          "base_uri": "https://localhost:8080/"
        },
        "id": "mgkTvrTRXl3m",
        "outputId": "b64c0c6a-a783-494a-c746-4346fc40647b"
      },
      "source": [
        "tokenized_texts = []\n",
        "for i in tqdm(range(len(data))):\n",
        "  tokenized_texts.append(word_tokenize(data['text'].iloc[i]))"
      ],
      "execution_count": 6,
      "outputs": [
        {
          "output_type": "stream",
          "name": "stderr",
          "text": [
            "100%|██████████| 226834/226834 [01:05<00:00, 3456.40it/s]\n"
          ]
        }
      ]
    },
    {
      "cell_type": "code",
      "metadata": {
        "colab": {
          "base_uri": "https://localhost:8080/"
        },
        "id": "XiHJnLHNTIUq",
        "outputId": "5723fdb1-3af9-41c3-d266-a6e32f7a9acc"
      },
      "source": [
        "vocab = Counter()\n",
        "for tokens in tokenized_texts:\n",
        "    vocab.update(list(tokens))\n",
        "print('Всего уникальных токенов:', len(vocab))"
      ],
      "execution_count": 7,
      "outputs": [
        {
          "output_type": "stream",
          "name": "stdout",
          "text": [
            "Всего уникальных токенов: 359652\n"
          ]
        }
      ]
    },
    {
      "cell_type": "code",
      "metadata": {
        "colab": {
          "base_uri": "https://localhost:8080/"
        },
        "id": "MnQ_XgL3aY3h",
        "outputId": "806dd139-d2c8-4b64-bb9b-f587c3ab2404"
      },
      "source": [
        "filtered_vocab = set()\n",
        "for token in vocab:\n",
        "    if vocab[token] > 5:\n",
        "        filtered_vocab.add(token)\n",
        "print('Уникальных токенов, втретившихся больше 5 раз:', len(filtered_vocab))"
      ],
      "execution_count": 8,
      "outputs": [
        {
          "output_type": "stream",
          "name": "stdout",
          "text": [
            "Уникальных токенов, втретившихся больше 5 раз: 33670\n"
          ]
        }
      ]
    },
    {
      "cell_type": "code",
      "metadata": {
        "id": "olMsXBw7akS8"
      },
      "source": [
        "word2id = {'PAD':0}\n",
        "\n",
        "for token in filtered_vocab:\n",
        "    word2id[token] = len(word2id)"
      ],
      "execution_count": 9,
      "outputs": []
    },
    {
      "cell_type": "code",
      "metadata": {
        "id": "HrJqzmhmcrPf"
      },
      "source": [
        "id2word = {i:word for word, i in word2id.items()}"
      ],
      "execution_count": 10,
      "outputs": []
    },
    {
      "cell_type": "code",
      "metadata": {
        "id": "ULd7uHgWvhPO",
        "colab": {
          "base_uri": "https://localhost:8080/"
        },
        "outputId": "e23ef525-1172-4189-ac06-795d6264816b"
      },
      "source": [
        "data['tokens'] = tokenized_texts\n",
        "train_data, val_data = train_test_split(data, test_size=0.2)\n",
        "print(f'Train size:      {len(train_data)}')\n",
        "print(f'Validation size: {len(val_data)}')"
      ],
      "execution_count": 11,
      "outputs": [
        {
          "output_type": "stream",
          "name": "stdout",
          "text": [
            "Train size:      181467\n",
            "Validation size: 45367\n"
          ]
        }
      ]
    },
    {
      "cell_type": "markdown",
      "metadata": {
        "id": "L7rCI6LdSF4y"
      },
      "source": [
        "### Create Dataset"
      ]
    },
    {
      "cell_type": "code",
      "metadata": {
        "id": "WN-Sf6aWdBDG"
      },
      "source": [
        "class TweetDataset(Dataset):\n",
        "\n",
        "    def __init__(self, dataset, word2id, DEVICE):\n",
        "        self.dataset = dataset['tokens'].values\n",
        "        self.word2id = word2id\n",
        "        self.length = dataset.shape[0]\n",
        "        self.target = dataset['type'].values\n",
        "        self.device = DEVICE\n",
        "\n",
        "    def __len__(self):\n",
        "        return self.length\n",
        "\n",
        "    def __getitem__(self, index): \n",
        "        words = list(self.dataset[index])\n",
        "        ids = torch.LongTensor([self.word2id[word] for word in words if word in self.word2id])\n",
        "        y = [self.target[index]]\n",
        "        return ids, y\n",
        "\n",
        "    def collate_fn(self, batch): \n",
        "      ids, y = list(zip(*batch))\n",
        "      padded_ids = pad_sequence(ids, batch_first=True).to(self.device)\n",
        "      y = torch.Tensor(y).to(self.device)\n",
        "      return padded_ids, y"
      ],
      "execution_count": 12,
      "outputs": []
    },
    {
      "cell_type": "code",
      "metadata": {
        "id": "ISKZnv61vB15"
      },
      "source": [
        "train_dataset = TweetDataset(train_data, word2id, DEVICE)\n",
        "train_sampler = RandomSampler(train_dataset)\n",
        "train_iterator = DataLoader(train_dataset, collate_fn = train_dataset.collate_fn, sampler=train_sampler, batch_size=1024)"
      ],
      "execution_count": 13,
      "outputs": []
    },
    {
      "cell_type": "code",
      "metadata": {
        "id": "Kaf2BaEj2ZOg"
      },
      "source": [
        "val_dataset = TweetDataset(val_data, word2id, DEVICE)\n",
        "val_sampler = SequentialSampler(val_dataset)\n",
        "val_iterator = DataLoader(val_dataset, collate_fn = val_dataset.collate_fn, sampler=val_sampler, batch_size=1024)"
      ],
      "execution_count": 14,
      "outputs": []
    },
    {
      "cell_type": "markdown",
      "metadata": {
        "id": "qbluYO5mSMDH"
      },
      "source": [
        "### Model class\n"
      ]
    },
    {
      "cell_type": "code",
      "metadata": {
        "id": "YtxB1A2GIPZF"
      },
      "source": [
        "class CNN(nn.Module):\n",
        "    \n",
        "    def __init__(self, vocab_size, embedding_dim):\n",
        "        super().__init__()\n",
        "        self.embedding = nn.Embedding(vocab_size, embedding_dim)\n",
        "        self.bigrams = nn.Conv1d(in_channels=embedding_dim, out_channels=100, kernel_size=2, padding='same')\n",
        "        self.trigrams = nn.Conv1d(in_channels=embedding_dim, out_channels=100, kernel_size=3, padding='same')\n",
        "        self.final_cnn = nn.Conv1d(in_channels=200, out_channels=80, kernel_size=3, padding='same')\n",
        "        self.hidden = nn.Linear(in_features=80, out_features=1)\n",
        "        self.out = nn.Sigmoid()\n",
        "\n",
        "    def forward(self, word):\n",
        "        # эмбеддинг слой\n",
        "        embedded = self.embedding(word)\n",
        "        embedded = embedded.transpose(1,2)\n",
        "        \n",
        "        # CNN c фильтрами с разным окном\n",
        "        bigrams = self.bigrams(embedded)\n",
        "        trigrams = self.trigrams(embedded)\n",
        "        # еще один сверточный слой\n",
        "        final = self.final_cnn(torch.cat((bigrams, trigrams), 1))\n",
        "\n",
        "        # max pooling over time\n",
        "        pooling = final.max(2)[0] \n",
        "        # линейный слой + сигмоида\n",
        "        logits = self.hidden(pooling) \n",
        "        logits = self.out(logits)      \n",
        "        return logits"
      ],
      "execution_count": 15,
      "outputs": []
    },
    {
      "cell_type": "code",
      "metadata": {
        "id": "RIfoJ_1S3S9q"
      },
      "source": [
        "def train(model, iterator, optimizer, criterion):\n",
        "    epoch_loss = 0\n",
        "    \n",
        "    model.train()\n",
        "\n",
        "    for i, (texts, ys) in enumerate(iterator):\n",
        "        optimizer.zero_grad()\n",
        "        preds = model(texts)\n",
        "        loss = criterion(preds, ys)\n",
        "        loss.backward()\n",
        "        optimizer.step()\n",
        "        epoch_loss += loss.item()\n",
        "\n",
        "    return  epoch_loss / len(iterator)"
      ],
      "execution_count": 16,
      "outputs": []
    },
    {
      "cell_type": "code",
      "metadata": {
        "id": "-2xRuXFE3846"
      },
      "source": [
        "def evaluate(model, iterator, criterion):\n",
        "    epoch_loss = 0\n",
        "    epoch_metric = 0\n",
        "    model.eval() \n",
        "    with torch.no_grad():\n",
        "        for i, (texts, ys) in enumerate(iterator):   \n",
        "            preds = model(texts)\n",
        "            loss = criterion(preds, ys)\n",
        "            epoch_loss += loss.item()\n",
        "            batch_metric = f1(preds.round().long(), ys.long(), ignore_index=0)\n",
        "            epoch_metric += batch_metric\n",
        "    return epoch_metric / len(iterator), epoch_loss / len(iterator)"
      ],
      "execution_count": 17,
      "outputs": []
    },
    {
      "cell_type": "code",
      "metadata": {
        "id": "ImW9Cwld3-if"
      },
      "source": [
        "model = CNN(len(word2id), 8)\n",
        "optimizer = optim.Adam(model.parameters(), lr=0.0005)\n",
        "criterion = nn.BCELoss()  "
      ],
      "execution_count": 38,
      "outputs": []
    },
    {
      "cell_type": "code",
      "metadata": {
        "id": "GXYYGGMN4ZCE"
      },
      "source": [
        "model = model.to(DEVICE)\n",
        "criterion = criterion.to(DEVICE)"
      ],
      "execution_count": 39,
      "outputs": []
    },
    {
      "cell_type": "code",
      "metadata": {
        "colab": {
          "base_uri": "https://localhost:8080/",
          "height": 0
        },
        "id": "G-L8PkG84IAg",
        "outputId": "16b44a0b-30e8-4090-a90b-d4214b453f4b"
      },
      "source": [
        "losses = []\n",
        "losses_eval = []\n",
        "f1s = []\n",
        "f1s_eval = []\n",
        "log = {'train_loss': [], 'val_loss': [], 'val_f1': []}\n",
        "\n",
        "for i in range(20):\n",
        "    print(f'\\nEpoch {i}')\n",
        "    epoch_loss = train(model, train_iterator, optimizer, criterion)\n",
        "    losses.append(epoch_loss)\n",
        "    f1_on_train,_ = evaluate(model, train_iterator, criterion)\n",
        "    f1s.append(f1_on_train)\n",
        "    f1_on_test, epoch_loss_on_test = evaluate(model, val_iterator, criterion)\n",
        "    losses_eval.append(epoch_loss_on_test)\n",
        "    f1s_eval.append(f1_on_test)\n",
        "    log['train_loss'] = losses\n",
        "    log['val_loss'] = losses_eval\n",
        "    log['val_f1'] = f1s_eval\n",
        "\n",
        "    if i % 3 == 0:\n",
        "        clear_output(wait=True)\n",
        "        fig, axs = plt.subplots(1, len(log), figsize=(15, 5))\n",
        "        for i, (name, vals) in enumerate(log.items()):\n",
        "            axs[i].plot(vals)\n",
        "            axs[i].set_title(name)\n",
        "        plt.show()\n",
        "        print(\"  Train loss:      {0:.6f}\".format(epoch_loss))\n",
        "        print(\"  Validation Loss: {0:.6f}\".format(epoch_loss_on_test))\n",
        "        print(\"  Validation F1:   {0:.6f}\".format(f1_on_test))"
      ],
      "execution_count": 40,
      "outputs": [
        {
          "output_type": "display_data",
          "data": {
            "image/png": "[encoded data removed]",
            "text/plain": [
              "<Figure size 1080x360 with 3 Axes>"
            ]
          },
          "metadata": {
            "needs_background": "light"
          }
        },
        {
          "output_type": "stream",
          "name": "stdout",
          "text": [
            "  Train loss:      0.001550\n",
            "  Validation Loss: 0.008072\n",
            "  Validation F1:   0.997425\n",
            "\n",
            "Epoch 19\n"
          ]
        }
      ]
    },
    {
      "cell_type": "markdown",
      "metadata": {
        "id": "H41a31qw7Dhi"
      },
      "source": [
        "Лосс сразу очень маленький, а F1-метрика очень близка к 1. Кажется, в договорились сначала убрать пунктуацию, чтобы модель не видела смайлики и показывала результаты хуже. Попробуем!"
      ]
    },
    {
      "cell_type": "markdown",
      "metadata": {
        "id": "MXg3MSSlnhBl"
      },
      "source": [
        "## Первая модель \n",
        "Уберем пунктуацию (испортим качество), чтобы было куда улучшать"
      ]
    },
    {
      "cell_type": "markdown",
      "metadata": {
        "id": "DOCS52VGnvzc"
      },
      "source": [
        "### Prepare data"
      ]
    },
    {
      "cell_type": "code",
      "metadata": {
        "colab": {
          "base_uri": "https://localhost:8080/"
        },
        "id": "bKyzRlrBn8gM",
        "outputId": "c0b8a266-c38f-4662-9df8-b4e7754ee938"
      },
      "source": [
        "tokenized_texts = []\n",
        "for i in tqdm(range(len(data))):\n",
        "  tokens = word_tokenize(data['text'].iloc[i])\n",
        "  tokens = [token for token in tokens if token not in string.punctuation]\n",
        "  tokenized_texts.append(tokens)"
      ],
      "execution_count": 33,
      "outputs": [
        {
          "output_type": "stream",
          "name": "stderr",
          "text": [
            "100%|██████████| 226834/226834 [01:05<00:00, 3444.66it/s]\n"
          ]
        }
      ]
    },
    {
      "cell_type": "code",
      "metadata": {
        "id": "QTVCcJm7oU6r"
      },
      "source": [
        "vocab = Counter()\n",
        "for tokens in tokenized_texts:\n",
        "    vocab.update(list(tokens))\n",
        "\n",
        "filtered_vocab = set()\n",
        "for token in vocab:\n",
        "    if vocab[token] > 5:\n",
        "        filtered_vocab.add(token)"
      ],
      "execution_count": 34,
      "outputs": []
    },
    {
      "cell_type": "code",
      "metadata": {
        "id": "U0okrFqqoU6s"
      },
      "source": [
        "word2id = {'PAD':0}\n",
        "\n",
        "for token in filtered_vocab:\n",
        "    word2id[token] = len(word2id)\n",
        "\n",
        "id2word = {i:word for word, i in word2id.items()}"
      ],
      "execution_count": 35,
      "outputs": []
    },
    {
      "cell_type": "code",
      "metadata": {
        "id": "SQdac8kPoU6s"
      },
      "source": [
        "data['tokens'] = tokenized_texts\n",
        "train_data, val_data = train_test_split(data, test_size=0.2)"
      ],
      "execution_count": 36,
      "outputs": []
    },
    {
      "cell_type": "markdown",
      "metadata": {
        "id": "J3MeuRrconMR"
      },
      "source": [
        "### Create Dataset"
      ]
    },
    {
      "cell_type": "code",
      "metadata": {
        "id": "VpVN9WuTov2S"
      },
      "source": [
        "train_dataset = TweetDataset(train_data, word2id, DEVICE)\n",
        "train_sampler = RandomSampler(train_dataset)\n",
        "train_iterator = DataLoader(train_dataset, collate_fn = train_dataset.collate_fn, sampler=train_sampler, batch_size=1024)"
      ],
      "execution_count": null,
      "outputs": []
    },
    {
      "cell_type": "code",
      "metadata": {
        "id": "qdkJ2EL2ov2T"
      },
      "source": [
        "val_dataset = TweetDataset(val_data, word2id, DEVICE)\n",
        "val_sampler = SequentialSampler(val_dataset)\n",
        "val_iterator = DataLoader(val_dataset, collate_fn = val_dataset.collate_fn, sampler=val_sampler, batch_size=1024)"
      ],
      "execution_count": null,
      "outputs": []
    },
    {
      "cell_type": "markdown",
      "metadata": {
        "id": "4lr2XiWmpAhT"
      },
      "source": [
        "### Train"
      ]
    },
    {
      "cell_type": "code",
      "metadata": {
        "id": "_32acxcso14s"
      },
      "source": [
        "torch.manual_seed(100)\n",
        "np.random.seed(100)\n",
        "\n",
        "model = CNN(len(word2id), 8)\n",
        "optimizer = optim.Adam(model.parameters(), lr=0.0005)\n",
        "criterion = nn.BCELoss()  "
      ],
      "execution_count": null,
      "outputs": []
    },
    {
      "cell_type": "code",
      "metadata": {
        "id": "HjpYjsMwpTit"
      },
      "source": [
        "model = model.to(DEVICE)\n",
        "criterion = criterion.to(DEVICE)"
      ],
      "execution_count": null,
      "outputs": []
    },
    {
      "cell_type": "code",
      "metadata": {
        "colab": {
          "base_uri": "https://localhost:8080/",
          "height": 423
        },
        "id": "Ff1APWK1pzh8",
        "outputId": "8204665c-893a-4003-d6dd-0bfb762da629"
      },
      "source": [
        "losses = []\n",
        "losses_eval = []\n",
        "f1s = []\n",
        "f1s_eval = []\n",
        "log = {'train_loss': [], 'val_loss': [], 'val_f1': []}\n",
        "\n",
        "for i in range(50):\n",
        "    print(f'\\nEpoch {i}')\n",
        "    epoch_loss = train(model, train_iterator, optimizer, criterion)\n",
        "    losses.append(epoch_loss)\n",
        "    f1_on_train,_ = evaluate(model, train_iterator, criterion)\n",
        "    f1s.append(f1_on_train)\n",
        "    f1_on_test, epoch_loss_on_test = evaluate(model, val_iterator, criterion)\n",
        "    losses_eval.append(epoch_loss_on_test)\n",
        "    f1s_eval.append(f1_on_test)\n",
        "    log['train_loss'] = losses\n",
        "    log['val_loss'] = losses_eval\n",
        "    log['val_f1'] = f1s_eval\n",
        "\n",
        "    if i % 3 == 0:\n",
        "        clear_output(wait=True)\n",
        "        fig, axs = plt.subplots(1, len(log), figsize=(15, 5))\n",
        "        for i, (name, vals) in enumerate(log.items()):\n",
        "            axs[i].plot(vals)\n",
        "            axs[i].set_title(name)\n",
        "        plt.show()\n",
        "        print(\"  Train loss:      {0:.6f}\".format(epoch_loss))\n",
        "        print(\"  Validation Loss: {0:.6f}\".format(epoch_loss_on_test))\n",
        "        print(\"  Validation F1:   {0:.6f}\".format(f1_on_test))"
      ],
      "execution_count": null,
      "outputs": [
        {
          "output_type": "display_data",
          "data": {
            "image/png": "[encoded data removed]",
            "text/plain": [
              "<Figure size 1080x360 with 3 Axes>"
            ]
          },
          "metadata": {
            "needs_background": "light"
          }
        },
        {
          "output_type": "stream",
          "name": "stdout",
          "text": [
            "  Train loss:      0.310847\n",
            "  Validation Loss: 0.561347\n",
            "  Validation F1:   0.754148\n",
            "\n",
            "Epoch 49\n"
          ]
        }
      ]
    },
    {
      "cell_type": "code",
      "metadata": {
        "colab": {
          "base_uri": "https://localhost:8080/"
        },
        "id": "rRJa8LrS9GAR",
        "outputId": "789ae765-6be4-49bf-9e5f-7f35bd5f3f04"
      },
      "source": [
        "print(f'Best F1 on validation: {max(f1s_eval):.4f}')\n",
        "print(f'Best epoch: {np.argmax(f1s_eval)}')"
      ],
      "execution_count": null,
      "outputs": [
        {
          "output_type": "stream",
          "name": "stdout",
          "text": [
            "Best F1 on validation: 0.7576\n",
            "Best epoch: 45\n"
          ]
        }
      ]
    },
    {
      "cell_type": "markdown",
      "metadata": {
        "id": "WQZpQC7PAFgr"
      },
      "source": [
        "После 30 эпохи лосс начал расти, а F1 перестала значительно увеличиваться. Возможно, далее 40 эпох будет достаточно. "
      ]
    },
    {
      "cell_type": "markdown",
      "metadata": {
        "id": "ROGMtSechzuR"
      },
      "source": [
        "## Добавление готовых эмбеддингов"
      ]
    },
    {
      "cell_type": "markdown",
      "metadata": {
        "id": "E58dkjswh29g"
      },
      "source": [
        "##### More imports & downloads"
      ]
    },
    {
      "cell_type": "code",
      "metadata": {
        "colab": {
          "base_uri": "https://localhost:8080/"
        },
        "id": "9wibLjXTbieL",
        "outputId": "54b3a890-7af4-4e3d-bda8-50a52c938f4b"
      },
      "source": [
        "!wget https://rusvectores.org/static/models/rusvectores4/fasttext/araneum_none_fasttextcbow_300_5_2018.tgz"
      ],
      "execution_count": 18,
      "outputs": [
        {
          "output_type": "stream",
          "name": "stdout",
          "text": [
            "--2021-11-25 18:07:00--  https://rusvectores.org/static/models/rusvectores4/fasttext/araneum_none_fasttextcbow_300_5_2018.tgz\n",
            "Resolving rusvectores.org (rusvectores.org)... 116.203.104.23\n",
            "Connecting to rusvectores.org (rusvectores.org)|116.203.104.23|:443... connected.\n",
            "HTTP request sent, awaiting response... 200 OK\n",
            "Length: 2691248108 (2.5G) [application/x-gzip]\n",
            "Saving to: ‘araneum_none_fasttextcbow_300_5_2018.tgz’\n",
            "\n",
            "araneum_none_fastte 100%[===================>]   2.51G  24.7MB/s    in 1m 45s  \n",
            "\n",
            "2021-11-25 18:08:46 (24.4 MB/s) - ‘araneum_none_fasttextcbow_300_5_2018.tgz’ saved [2691248108/2691248108]\n",
            "\n"
          ]
        }
      ]
    },
    {
      "cell_type": "code",
      "metadata": {
        "colab": {
          "base_uri": "https://localhost:8080/"
        },
        "id": "HuWK7gE8dLsh",
        "outputId": "577c4ff9-cf3c-4ede-b300-35afd5f60850"
      },
      "source": [
        "!tar -xvzf /content/araneum_none_fasttextcbow_300_5_2018.tgz"
      ],
      "execution_count": 19,
      "outputs": [
        {
          "output_type": "stream",
          "name": "stdout",
          "text": [
            "araneum_none_fasttextcbow_300_5_2018.model\n",
            "araneum_none_fasttextcbow_300_5_2018.model.vectors_ngrams.npy\n",
            "araneum_none_fasttextcbow_300_5_2018.model.vectors.npy\n",
            "araneum_none_fasttextcbow_300_5_2018.model.vectors_vocab.npy\n"
          ]
        }
      ]
    },
    {
      "cell_type": "markdown",
      "metadata": {
        "id": "bxm2Fy2z2XII"
      },
      "source": [
        "##### Embedding models and model class\n"
      ]
    },
    {
      "cell_type": "code",
      "metadata": {
        "id": "vmcA7rtMYB26"
      },
      "source": [
        "model_emb = KeyedVectors.load('araneum_none_fasttextcbow_300_5_2018.model')"
      ],
      "execution_count": 20,
      "outputs": []
    },
    {
      "cell_type": "code",
      "metadata": {
        "id": "UmdbRXYpds02"
      },
      "source": [
        "weights = np.zeros((len(word2id), 300))\n",
        "count = 0\n",
        "for word, i in word2id.items():\n",
        "    if word == 'PAD':\n",
        "        continue   \n",
        "    weights[i] = model_emb[word]    "
      ],
      "execution_count": 27,
      "outputs": []
    },
    {
      "cell_type": "code",
      "metadata": {
        "id": "6Os3o6Dhhgia"
      },
      "source": [
        "class CNN(nn.Module):\n",
        "    \n",
        "    def __init__(self, vocab_size, weights):\n",
        "        super().__init__()\n",
        "        self.embedding = nn.Embedding(vocab_size, weights.shape[1])\n",
        "        self.embedding.from_pretrained(torch.tensor(weights), freeze=True)\n",
        "        self.bigrams = nn.Conv1d(in_channels=weights.shape[1], out_channels=100, kernel_size=2, padding='same')\n",
        "        self.trigrams = nn.Conv1d(in_channels=weights.shape[1], out_channels=100, kernel_size=3, padding='same')\n",
        "        self.final_cnn = nn.Conv1d(in_channels=200, out_channels=80, kernel_size=3, padding='same')\n",
        "        self.hidden = nn.Linear(in_features=80, out_features=1)\n",
        "        self.out = nn.Sigmoid()\n",
        "\n",
        "    def forward(self, word):\n",
        "        embedded = self.embedding(word)\n",
        "        embedded = embedded.transpose(1,2)\n",
        "\n",
        "        bigrams = self.bigrams(embedded)\n",
        "        trigrams = self.trigrams(embedded)\n",
        "        final = self.final_cnn(torch.cat((bigrams, trigrams), 1))\n",
        "\n",
        "        pooling = final.max(2)[0] \n",
        "        logits = self.hidden(pooling) \n",
        "        logits = self.out(logits)      \n",
        "        return logits"
      ],
      "execution_count": null,
      "outputs": []
    },
    {
      "cell_type": "code",
      "metadata": {
        "id": "51KvGXoBjEY9"
      },
      "source": [
        "torch.manual_seed(100)\n",
        "np.random.seed(100)\n",
        "\n",
        "model = CNN(len(word2id), weights)\n",
        "optimizer = optim.Adam(model.parameters(), lr=0.0005)\n",
        "criterion = nn.BCELoss()  \n",
        "\n",
        "model = model.to(DEVICE)\n",
        "criterion = criterion.to(DEVICE)"
      ],
      "execution_count": null,
      "outputs": []
    },
    {
      "cell_type": "code",
      "metadata": {
        "colab": {
          "base_uri": "https://localhost:8080/",
          "height": 388
        },
        "id": "s4Xq7r4ijeA_",
        "outputId": "cb0f401d-6544-43b5-95e0-2cdadfe1fb2f"
      },
      "source": [
        "losses = []\n",
        "losses_eval = []\n",
        "f1s = []\n",
        "f1s_eval = []\n",
        "log = {'train_loss': [], 'val_loss': [], 'val_f1': []}\n",
        "\n",
        "for i in range(40):\n",
        "    print(f'\\nEpoch {i}')\n",
        "    epoch_loss = train(model, train_iterator, optimizer, criterion)\n",
        "    losses.append(epoch_loss)\n",
        "    f1_on_train,_ = evaluate(model, train_iterator, criterion)\n",
        "    f1s.append(f1_on_train)\n",
        "    f1_on_test, epoch_loss_on_test = evaluate(model, val_iterator, criterion)\n",
        "    losses_eval.append(epoch_loss_on_test)\n",
        "    f1s_eval.append(f1_on_test)\n",
        "    log['train_loss'] = losses\n",
        "    log['val_loss'] = losses_eval\n",
        "    log['val_f1'] = f1s_eval\n",
        "\n",
        "    if i % 3 == 0:\n",
        "        clear_output(wait=True)\n",
        "        fig, axs = plt.subplots(1, len(log), figsize=(15, 5))\n",
        "        for i, (name, vals) in enumerate(log.items()):\n",
        "            axs[i].plot(vals)\n",
        "            axs[i].set_title(name)\n",
        "        plt.show()\n",
        "        print(\"  Train loss:      {0:.6f}\".format(epoch_loss))\n",
        "        print(\"  Validation Loss: {0:.6f}\".format(epoch_loss_on_test))\n",
        "        print(\"  Validation F1:   {0:.6f}\".format(f1_on_test))"
      ],
      "execution_count": null,
      "outputs": [
        {
          "output_type": "display_data",
          "data": {
            "image/png": "[encoded data removed]",
            "text/plain": [
              "<Figure size 1080x360 with 3 Axes>"
            ]
          },
          "metadata": {
            "needs_background": "light"
          }
        },
        {
          "output_type": "stream",
          "name": "stdout",
          "text": [
            "  Train loss:      0.009487\n",
            "  Validation Loss: 2.275831\n",
            "  Validation F1:   0.751172\n"
          ]
        }
      ]
    },
    {
      "cell_type": "code",
      "metadata": {
        "colab": {
          "base_uri": "https://localhost:8080/"
        },
        "id": "Xv8C8Cn1E9DP",
        "outputId": "bbceaacb-352b-4d33-c032-4a7564d68bfd"
      },
      "source": [
        "print(f'Best F1 on validation: {max(f1s_eval):.4f}')\n",
        "print(f'Best epoch: {np.argmax(f1s_eval)}')"
      ],
      "execution_count": null,
      "outputs": [
        {
          "output_type": "stream",
          "name": "stdout",
          "text": [
            "Best F1 on validation: 0.7696\n",
            "Best epoch: 6\n"
          ]
        }
      ]
    },
    {
      "cell_type": "markdown",
      "metadata": {
        "id": "40q0095wBoiK"
      },
      "source": [
        "## Улучшение первой модели"
      ]
    },
    {
      "cell_type": "markdown",
      "metadata": {
        "id": "uipC133nFOM2"
      },
      "source": [
        "Для дальнейших экспериментов возьму модель с обученными эмбеддингами, потому что она обучается намного быстрее и результаты оказались немного получше.  \n",
        "Для начала добавим Dropout и ReLU в модель."
      ]
    },
    {
      "cell_type": "code",
      "metadata": {
        "id": "KmcwD5PLFiUJ"
      },
      "source": [
        "class CNN(nn.Module):\n",
        "    \n",
        "    def __init__(self, vocab_size, weights):\n",
        "        super().__init__()\n",
        "        self.embedding = nn.Embedding(vocab_size, weights.shape[1])\n",
        "        self.embedding.from_pretrained(torch.tensor(weights), freeze=True)\n",
        "        self.bigrams = nn.Conv1d(in_channels=weights.shape[1], out_channels=100, kernel_size=2, padding='same')\n",
        "        self.trigrams = nn.Conv1d(in_channels=weights.shape[1], out_channels=100, kernel_size=3, padding='same')\n",
        "        self.final_cnn = nn.Conv1d(in_channels=200, out_channels=80, kernel_size=3, padding='same')\n",
        "        self.hidden = nn.Linear(in_features=80, out_features=1)\n",
        "        self.relu = nn.ReLU()\n",
        "        self.dropout = nn.Dropout(p=0.5)\n",
        "        self.out = nn.Sigmoid()\n",
        "\n",
        "    def forward(self, word):\n",
        "        embedded = self.embedding(word)\n",
        "        embedded = embedded.transpose(1,2)\n",
        "\n",
        "        bigrams = self.bigrams(embedded)\n",
        "        trigrams = self.trigrams(embedded)\n",
        "        final = self.final_cnn(torch.cat((bigrams, trigrams), 1))\n",
        "        filal = self.dropout(self.relu(final))\n",
        "\n",
        "        pooling = final.max(2)[0] \n",
        "        logits = self.hidden(pooling) \n",
        "        logits = self.out(logits)      \n",
        "        return logits"
      ],
      "execution_count": null,
      "outputs": []
    },
    {
      "cell_type": "code",
      "metadata": {
        "id": "Voy9S3NaGJEB"
      },
      "source": [
        "torch.manual_seed(100)\n",
        "np.random.seed(100)\n",
        "\n",
        "model = CNN(len(word2id), weights)\n",
        "optimizer = optim.Adam(model.parameters(), lr=0.0005)\n",
        "criterion = nn.BCELoss()  \n",
        "\n",
        "model = model.to(DEVICE)\n",
        "criterion = criterion.to(DEVICE)"
      ],
      "execution_count": null,
      "outputs": []
    },
    {
      "cell_type": "code",
      "metadata": {
        "colab": {
          "base_uri": "https://localhost:8080/",
          "height": 423
        },
        "id": "wz_LzutHGMg7",
        "outputId": "e0b0b66c-4a54-47e0-ad52-224db6e2c2ac"
      },
      "source": [
        "losses = []\n",
        "losses_eval = []\n",
        "f1s = []\n",
        "f1s_eval = []\n",
        "log = {'train_loss': [], 'val_loss': [], 'val_f1': []}\n",
        "\n",
        "for i in range(20):\n",
        "    print(f'\\nEpoch {i}')\n",
        "    epoch_loss = train(model, train_iterator, optimizer, criterion)\n",
        "    losses.append(epoch_loss)\n",
        "    f1_on_train,_ = evaluate(model, train_iterator, criterion)\n",
        "    f1s.append(f1_on_train)\n",
        "    f1_on_test, epoch_loss_on_test = evaluate(model, val_iterator, criterion)\n",
        "    losses_eval.append(epoch_loss_on_test)\n",
        "    f1s_eval.append(f1_on_test)\n",
        "    log['train_loss'] = losses\n",
        "    log['val_loss'] = losses_eval\n",
        "    log['val_f1'] = f1s_eval\n",
        "\n",
        "    if i % 3 == 0:\n",
        "        clear_output(wait=True)\n",
        "        fig, axs = plt.subplots(1, len(log), figsize=(15, 5))\n",
        "        for i, (name, vals) in enumerate(log.items()):\n",
        "            axs[i].plot(vals)\n",
        "            axs[i].set_title(name)\n",
        "        plt.show()\n",
        "        print(\"  Train loss:      {0:.6f}\".format(epoch_loss))\n",
        "        print(\"  Validation Loss: {0:.6f}\".format(epoch_loss_on_test))\n",
        "        print(\"  Validation F1:   {0:.6f}\".format(f1_on_test))"
      ],
      "execution_count": null,
      "outputs": [
        {
          "output_type": "display_data",
          "data": {
            "image/png": "[encoded data removed]",
            "text/plain": [
              "<Figure size 1080x360 with 3 Axes>"
            ]
          },
          "metadata": {
            "needs_background": "light"
          }
        },
        {
          "output_type": "stream",
          "name": "stdout",
          "text": [
            "  Train loss:      0.018167\n",
            "  Validation Loss: 1.153983\n",
            "  Validation F1:   0.755280\n",
            "\n",
            "Epoch 19\n"
          ]
        }
      ]
    },
    {
      "cell_type": "code",
      "metadata": {
        "colab": {
          "base_uri": "https://localhost:8080/"
        },
        "id": "rvkv95_XNmAy",
        "outputId": "7385a149-6746-4efc-9582-5c14373e0762"
      },
      "source": [
        "print(f'Best F1 on validation: {max(f1s_eval):.4f}')\n",
        "print(f'Best epoch: {np.argmax(f1s_eval)}')"
      ],
      "execution_count": null,
      "outputs": [
        {
          "output_type": "stream",
          "name": "stdout",
          "text": [
            "Best F1 on validation: 0.7662\n",
            "Best epoch: 6\n"
          ]
        }
      ]
    },
    {
      "cell_type": "markdown",
      "metadata": {
        "id": "z5Kr2TpSOMHB"
      },
      "source": [
        "Общее качество не повысилось, но качество начало падать не так резко после 5 эпохи, как в предыдущей модели (см графики)"
      ]
    },
    {
      "cell_type": "markdown",
      "metadata": {
        "id": "Ffl0Yt7oslD-"
      },
      "source": [
        "Уменьшу learning rate и добавлю ReLU, Dropout ко всем сверточным слоям, а не только к последнему."
      ]
    },
    {
      "cell_type": "code",
      "metadata": {
        "id": "5K1_nBHLOme9"
      },
      "source": [
        "class CNN(nn.Module):\n",
        "    \n",
        "    def __init__(self, vocab_size, weights):\n",
        "        super().__init__()\n",
        "        self.embedding = nn.Embedding(vocab_size, weights.shape[1])\n",
        "        self.embedding.from_pretrained(torch.tensor(weights), freeze=True)\n",
        "        self.bigrams = nn.Conv1d(in_channels=weights.shape[1], out_channels=100, kernel_size=2, padding='same')\n",
        "        self.trigrams = nn.Conv1d(in_channels=weights.shape[1], out_channels=100, kernel_size=3, padding='same')\n",
        "        self.final_cnn = nn.Conv1d(in_channels=200, out_channels=80, kernel_size=3, padding='same')\n",
        "        self.hidden = nn.Linear(in_features=80, out_features=1)\n",
        "        # активации\n",
        "        self.relu2 = nn.ReLU()\n",
        "        self.relu3 = nn.ReLU()\n",
        "        self.relu_final = nn.ReLU()\n",
        "        # дропауты\n",
        "        self.dropout2 = nn.Dropout(p=0.3)\n",
        "        self.dropout3 = nn.Dropout(p=0.3)\n",
        "        self.dropout_final = nn.Dropout(p=0.3)\n",
        "        self.out = nn.Sigmoid()\n",
        "\n",
        "    def forward(self, word):\n",
        "        embedded = self.embedding(word)\n",
        "        embedded = embedded.transpose(1,2)\n",
        "\n",
        "        bigrams = self.dropout2(self.relu2(self.bigrams(embedded)))\n",
        "        trigrams = self.dropout3(self.relu3(self.trigrams(embedded)))\n",
        "        final = self.final_cnn(torch.cat((bigrams, trigrams), 1))\n",
        "        filal = self.dropout_final(self.relu_final(final))\n",
        "\n",
        "        pooling = final.max(2)[0] \n",
        "        logits = self.hidden(pooling) \n",
        "        logits = self.out(logits)      \n",
        "        return logits"
      ],
      "execution_count": null,
      "outputs": []
    },
    {
      "cell_type": "code",
      "metadata": {
        "id": "EDDb_gCwOJ3V"
      },
      "source": [
        "torch.manual_seed(100)\n",
        "np.random.seed(100)\n",
        "\n",
        "model = CNN(len(word2id), weights)\n",
        "optimizer = optim.Adam(model.parameters(), lr=0.0001)\n",
        "criterion = nn.BCELoss()  \n",
        "\n",
        "model = model.to(DEVICE)\n",
        "criterion = criterion.to(DEVICE)"
      ],
      "execution_count": null,
      "outputs": []
    },
    {
      "cell_type": "code",
      "metadata": {
        "colab": {
          "base_uri": "https://localhost:8080/",
          "height": 388
        },
        "id": "Xpy0lGLAO2p4",
        "outputId": "b6f3e367-df19-4ab4-c4f2-92f17060c6f6"
      },
      "source": [
        "losses = []\n",
        "losses_eval = []\n",
        "f1s = []\n",
        "f1s_eval = []\n",
        "log = {'train_loss': [], 'val_loss': [], 'val_f1': []}\n",
        "\n",
        "for i in range(25):\n",
        "    print(f'\\nEpoch {i}')\n",
        "    epoch_loss = train(model, train_iterator, optimizer, criterion)\n",
        "    losses.append(epoch_loss)\n",
        "    f1_on_train,_ = evaluate(model, train_iterator, criterion)\n",
        "    f1s.append(f1_on_train)\n",
        "    f1_on_test, epoch_loss_on_test = evaluate(model, val_iterator, criterion)\n",
        "    losses_eval.append(epoch_loss_on_test)\n",
        "    f1s_eval.append(f1_on_test)\n",
        "    log['train_loss'] = losses\n",
        "    log['val_loss'] = losses_eval\n",
        "    log['val_f1'] = f1s_eval\n",
        "\n",
        "    if i % 3 == 0:\n",
        "        clear_output(wait=True)\n",
        "        fig, axs = plt.subplots(1, len(log), figsize=(15, 5))\n",
        "        for i, (name, vals) in enumerate(log.items()):\n",
        "            axs[i].plot(vals)\n",
        "            axs[i].set_title(name)\n",
        "        plt.show()\n",
        "        print(\"  Train loss:      {0:.6f}\".format(epoch_loss))\n",
        "        print(\"  Validation Loss: {0:.6f}\".format(epoch_loss_on_test))\n",
        "        print(\"  Validation F1:   {0:.6f}\".format(f1_on_test))"
      ],
      "execution_count": null,
      "outputs": [
        {
          "output_type": "display_data",
          "data": {
            "image/png": "[encoded data removed]",
            "text/plain": [
              "<Figure size 1080x360 with 3 Axes>"
            ]
          },
          "metadata": {
            "needs_background": "light"
          }
        },
        {
          "output_type": "stream",
          "name": "stdout",
          "text": [
            "  Train loss:      0.354092\n",
            "  Validation Loss: 0.472214\n",
            "  Validation F1:   0.776641\n"
          ]
        }
      ]
    },
    {
      "cell_type": "code",
      "metadata": {
        "colab": {
          "base_uri": "https://localhost:8080/"
        },
        "id": "kJmQpphVSlfy",
        "outputId": "d4a7cbbc-31b7-4ad6-9f6c-f073586fc6ee"
      },
      "source": [
        "print(f'Best F1 on validation: {max(f1s_eval):.4f}')\n",
        "print(f'Best epoch: {np.argmax(f1s_eval)}')"
      ],
      "execution_count": null,
      "outputs": [
        {
          "output_type": "stream",
          "name": "stdout",
          "text": [
            "Best F1 on validation: 0.7766\n",
            "Best epoch: 24\n"
          ]
        }
      ]
    },
    {
      "cell_type": "markdown",
      "metadata": {
        "id": "GhuwYl7pZJcP"
      },
      "source": [
        "Возможно, модель училась бы еще дальше, но качество уже улучшилось, а впереди еще много экспериментов, так что остановимся тут."
      ]
    },
    {
      "cell_type": "markdown",
      "metadata": {
        "id": "DoXIlrUyS11V"
      },
      "source": [
        "Еще попробуем добавить нормализацию батчей"
      ]
    },
    {
      "cell_type": "code",
      "metadata": {
        "id": "xc3MMCYDS0WQ"
      },
      "source": [
        "class CNN(nn.Module):\n",
        "    \n",
        "    def __init__(self, vocab_size, weights):\n",
        "        super().__init__()\n",
        "        self.embedding = nn.Embedding(vocab_size, weights.shape[1])\n",
        "        self.embedding.from_pretrained(torch.tensor(weights), freeze=True)\n",
        "        self.bigrams = nn.Conv1d(in_channels=weights.shape[1], out_channels=100, kernel_size=2, padding='same')\n",
        "        self.trigrams = nn.Conv1d(in_channels=weights.shape[1], out_channels=100, kernel_size=3, padding='same')\n",
        "        self.final_cnn = nn.Conv1d(in_channels=200, out_channels=80, kernel_size=3, padding='same')\n",
        "        self.hidden = nn.Linear(in_features=80, out_features=1)\n",
        "        self.bnorm2 = nn.BatchNorm1d(100)\n",
        "        self.bnorm3 = nn.BatchNorm1d(100)\n",
        "        self.bnorm_final = nn.BatchNorm1d(80)\n",
        "        self.relu2 = nn.ReLU()\n",
        "        self.relu3 = nn.ReLU()\n",
        "        self.relu_final = nn.ReLU()\n",
        "        self.dropout2 = nn.Dropout(p=0.3)\n",
        "        self.dropout3 = nn.Dropout(p=0.3)\n",
        "        self.dropout_final = nn.Dropout(p=0.3)\n",
        "        self.out = nn.Sigmoid()\n",
        "\n",
        "    def forward(self, word):\n",
        "        embedded = self.embedding(word)\n",
        "        embedded = embedded.transpose(1,2)\n",
        "\n",
        "        bigrams = self.dropout2(self.relu2(self.bnorm2(self.bigrams(embedded))))\n",
        "        trigrams = self.dropout3(self.relu3(self.bnorm3(self.trigrams(embedded))))\n",
        "        final = self.final_cnn(torch.cat((bigrams, trigrams), 1))\n",
        "        filal = self.dropout_final(self.relu_final(self.bnorm_final(final)))\n",
        "\n",
        "        pooling = final.max(2)[0] \n",
        "        logits = self.hidden(pooling) \n",
        "        logits = self.out(logits)      \n",
        "        return logits"
      ],
      "execution_count": null,
      "outputs": []
    },
    {
      "cell_type": "code",
      "metadata": {
        "id": "swkJuE3FTr12"
      },
      "source": [
        "torch.manual_seed(100)\n",
        "np.random.seed(100)\n",
        "\n",
        "model = CNN(len(word2id), weights)\n",
        "optimizer = optim.Adam(model.parameters(), lr=0.0001)\n",
        "criterion = nn.BCELoss()  \n",
        "\n",
        "model = model.to(DEVICE)\n",
        "criterion = criterion.to(DEVICE)"
      ],
      "execution_count": null,
      "outputs": []
    },
    {
      "cell_type": "code",
      "metadata": {
        "colab": {
          "base_uri": "https://localhost:8080/",
          "height": 388
        },
        "id": "8PO-ldVzTwH3",
        "outputId": "964a9e6a-1bf5-4371-bdd2-7b071f02f686"
      },
      "source": [
        "losses = []\n",
        "losses_eval = []\n",
        "f1s = []\n",
        "f1s_eval = []\n",
        "log = {'train_loss': [], 'val_loss': [], 'val_f1': []}\n",
        "\n",
        "for i in range(25):\n",
        "    print(f'\\nEpoch {i}')\n",
        "    epoch_loss = train(model, train_iterator, optimizer, criterion)\n",
        "    losses.append(epoch_loss)\n",
        "    f1_on_train,_ = evaluate(model, train_iterator, criterion)\n",
        "    f1s.append(f1_on_train)\n",
        "    f1_on_test, epoch_loss_on_test = evaluate(model, val_iterator, criterion)\n",
        "    losses_eval.append(epoch_loss_on_test)\n",
        "    f1s_eval.append(f1_on_test)\n",
        "    log['train_loss'] = losses\n",
        "    log['val_loss'] = losses_eval\n",
        "    log['val_f1'] = f1s_eval\n",
        "\n",
        "    if i % 3 == 0:\n",
        "        clear_output(wait=True)\n",
        "        fig, axs = plt.subplots(1, len(log), figsize=(15, 5))\n",
        "        for i, (name, vals) in enumerate(log.items()):\n",
        "            axs[i].plot(vals)\n",
        "            axs[i].set_title(name)\n",
        "        plt.show()\n",
        "        print(\"  Train loss:      {0:.6f}\".format(epoch_loss))\n",
        "        print(\"  Validation Loss: {0:.6f}\".format(epoch_loss_on_test))\n",
        "        print(\"  Validation F1:   {0:.6f}\".format(f1_on_test))"
      ],
      "execution_count": null,
      "outputs": [
        {
          "output_type": "display_data",
          "data": {
            "image/png": "[encoded data removed]",
            "text/plain": [
              "<Figure size 1080x360 with 3 Axes>"
            ]
          },
          "metadata": {
            "needs_background": "light"
          }
        },
        {
          "output_type": "stream",
          "name": "stdout",
          "text": [
            "  Train loss:      0.369157\n",
            "  Validation Loss: 0.468750\n",
            "  Validation F1:   0.770195\n"
          ]
        }
      ]
    },
    {
      "cell_type": "code",
      "metadata": {
        "colab": {
          "base_uri": "https://localhost:8080/"
        },
        "id": "BXXzC1dYbn2D",
        "outputId": "89e76b3a-6c8b-429e-faa1-78229a009e4b"
      },
      "source": [
        "print(f'Best F1 on validation: {max(f1s_eval):.4f}')\n",
        "print(f'Best epoch: {np.argmax(f1s_eval)}')"
      ],
      "execution_count": null,
      "outputs": [
        {
          "output_type": "stream",
          "name": "stdout",
          "text": [
            "Best F1 on validation: 0.7728\n",
            "Best epoch: 22\n"
          ]
        }
      ]
    },
    {
      "cell_type": "markdown",
      "metadata": {
        "id": "Eurr3Mezb-wH"
      },
      "source": [
        "Прошлая модель показала результаты лучше, но эта все равно превосходит бейзлайн."
      ]
    },
    {
      "cell_type": "markdown",
      "metadata": {
        "id": "_aedMUzqBRkO"
      },
      "source": [
        "## Вторая модель"
      ]
    },
    {
      "cell_type": "markdown",
      "metadata": {
        "id": "aU_f1g3Ga9DR"
      },
      "source": [
        "#### Create Dataset"
      ]
    },
    {
      "cell_type": "code",
      "metadata": {
        "colab": {
          "base_uri": "https://localhost:8080/"
        },
        "id": "6sqZlsfDNIkS",
        "outputId": "2d28952b-5d46-45a0-ea66-fdd6f1eccdd0"
      },
      "source": [
        "vocab = Counter()\n",
        "for symbol in data['text']:\n",
        "    vocab.update(list(symbol))\n",
        "print('Всего уникальных символов:', len(vocab))\n",
        "\n",
        "filtered_vocab = set()\n",
        "\n",
        "for symbol in vocab:\n",
        "    if vocab[symbol] > 5:\n",
        "        filtered_vocab.add(symbol)\n",
        "print('Уникальных символов, втретившихся больше 5 раз:', len(filtered_vocab))"
      ],
      "execution_count": 21,
      "outputs": [
        {
          "output_type": "stream",
          "name": "stdout",
          "text": [
            "Всего уникальных символов: 456\n",
            "Уникальных символов, втретившихся больше 5 раз: 234\n"
          ]
        }
      ]
    },
    {
      "cell_type": "code",
      "metadata": {
        "id": "JZitGKPENwec"
      },
      "source": [
        "symbol2id = {'PAD':0}\n",
        "\n",
        "for symbol in filtered_vocab:\n",
        "    symbol2id[symbol] = len(symbol2id)\n",
        "\n",
        "id2symbol = {i:symbol for symbol, i in symbol2id.items()}"
      ],
      "execution_count": 22,
      "outputs": []
    },
    {
      "cell_type": "code",
      "metadata": {
        "id": "nSluw4oybMB6"
      },
      "source": [
        "class TweetDataset(Dataset):\n",
        "\n",
        "    def __init__(self, dataset, word2id, symbol2id, DEVICE):\n",
        "        self.dataset_tokens = dataset['tokens'].values\n",
        "        self.dataset_texts = dataset['text'].values\n",
        "        self.word2id = word2id\n",
        "        self.symbol2id = symbol2id\n",
        "        self.length = dataset.shape[0]\n",
        "        self.target = dataset['type'].values\n",
        "        self.device = DEVICE\n",
        "\n",
        "    def __len__(self):\n",
        "        return self.length\n",
        "\n",
        "    def __getitem__(self, index): \n",
        "        words = list(self.dataset_tokens[index])\n",
        "        word_ids = torch.LongTensor([self.word2id[word] for word in words if word in self.word2id])\n",
        "        symbols = list(self.dataset_texts[index])\n",
        "        sym_ids = torch.LongTensor([self.symbol2id[symbol] for symbol in symbols if symbol in self.symbol2id])\n",
        "        y = [self.target[index]]\n",
        "        return word_ids, sym_ids, y\n",
        "\n",
        "    def collate_fn(self, batch): \n",
        "      word_ids, sym_ids, y = list(zip(*batch))\n",
        "      padded_word_ids = pad_sequence(word_ids, batch_first=True).to(self.device)\n",
        "      padded_sym_ids = pad_sequence(sym_ids, batch_first=True).to(self.device)\n",
        "      y = torch.Tensor(y).to(self.device)\n",
        "      return padded_word_ids, padded_sym_ids, y"
      ],
      "execution_count": 43,
      "outputs": []
    },
    {
      "cell_type": "code",
      "metadata": {
        "id": "JPKAswlVc2Zr"
      },
      "source": [
        "train_dataset = TweetDataset(train_data, word2id, symbol2id, DEVICE)\n",
        "train_sampler = RandomSampler(train_dataset)\n",
        "train_iterator = DataLoader(train_dataset, collate_fn = train_dataset.collate_fn, sampler=train_sampler, batch_size=1024)\n",
        "\n",
        "val_dataset = TweetDataset(val_data, word2id, symbol2id, DEVICE)\n",
        "val_sampler = SequentialSampler(val_dataset)\n",
        "val_iterator = DataLoader(val_dataset, collate_fn = val_dataset.collate_fn, sampler=val_sampler, batch_size=1024)"
      ],
      "execution_count": 44,
      "outputs": []
    },
    {
      "cell_type": "markdown",
      "metadata": {
        "id": "BQkjK-ncbMrw"
      },
      "source": [
        "#### Model class"
      ]
    },
    {
      "cell_type": "code",
      "metadata": {
        "id": "z9MQEPREebZC"
      },
      "source": [
        "def train(model, iterator, optimizer, criterion):\n",
        "    epoch_loss = 0\n",
        "    \n",
        "    model.train()\n",
        "\n",
        "    for i, (words, symbols, ys) in enumerate(iterator):\n",
        "        optimizer.zero_grad()\n",
        "        preds = model(words, symbols)\n",
        "        loss = criterion(preds, ys)\n",
        "        loss.backward()\n",
        "        optimizer.step()\n",
        "        epoch_loss += loss.item()\n",
        "\n",
        "    return  epoch_loss / len(iterator)"
      ],
      "execution_count": 49,
      "outputs": []
    },
    {
      "cell_type": "code",
      "metadata": {
        "id": "1k2niMpuebZC"
      },
      "source": [
        "def evaluate(model, iterator, criterion):\n",
        "    epoch_loss = 0\n",
        "    epoch_metric = 0\n",
        "    model.eval() \n",
        "    with torch.no_grad():\n",
        "        for i, (words, symbols, ys) in enumerate(iterator):   \n",
        "            preds = model(words, symbols)\n",
        "            loss = criterion(preds, ys)\n",
        "            epoch_loss += loss.item()\n",
        "            batch_metric = f1(preds.round().long(), ys.long(), ignore_index=0)\n",
        "            epoch_metric += batch_metric\n",
        "    return epoch_metric / len(iterator), epoch_loss / len(iterator)"
      ],
      "execution_count": 50,
      "outputs": []
    },
    {
      "cell_type": "code",
      "metadata": {
        "id": "eaP7gkEAW6-s"
      },
      "source": [
        "class CNN(nn.Module):\n",
        "    \n",
        "    def __init__(self, word_vocab_size, sym_vocab_size, embedding_dim, weights):\n",
        "        super().__init__()\n",
        "        self.word_embedding = nn.Embedding(word_vocab_size, weights.shape[1])\n",
        "        self.word_embedding.from_pretrained(torch.tensor(weights), freeze=True)\n",
        "        self.word_hidden = nn.Linear(in_features=weights.shape[1], out_features=80)\n",
        "\n",
        "        self.sym_embedding = nn.Embedding(sym_vocab_size, embedding_dim)\n",
        "        self.bigrams = nn.Conv1d(in_channels=embedding_dim, out_channels=100, kernel_size=2, padding='same')\n",
        "        self.trigrams = nn.Conv1d(in_channels=embedding_dim, out_channels=100, kernel_size=3, padding='same')\n",
        "        self.final_cnn = nn.Conv1d(in_channels=200, out_channels=80, kernel_size=3, padding='same')\n",
        "        \n",
        "        self.hidden = nn.Linear(in_features=80+80, out_features=1)\n",
        "        self.out = nn.Sigmoid()\n",
        "\n",
        "    def forward(self, word, symbols):\n",
        "        # предобученные эмбеддинги для слов\n",
        "        word_embedded = self.word_embedding(word)\n",
        "        # усредненные эмбеддинги - эмбеддинг предложения\n",
        "        mean_word_emb = torch.mean(word_embedded, dim=1)\n",
        "        # линейный слой поверх вектора предложения\n",
        "        word_hidden = self.word_hidden(mean_word_emb)\n",
        "\n",
        "        # обучаемые эмбеддинги символов\n",
        "        sym_embedded = self.sym_embedding(symbols)\n",
        "        sym_embedded = sym_embedded.transpose(1,2)\n",
        "\n",
        "        # сверточные слои с разным окном\n",
        "        bigrams = self.bigrams(sym_embedded)\n",
        "        trigrams = self.trigrams(sym_embedded)\n",
        "        final = self.final_cnn(torch.cat((bigrams, trigrams), 1))\n",
        "        \n",
        "        # max pooling over time\n",
        "        pooling = final.max(2)[0] \n",
        "        # линейный слой + сигмоида\n",
        "        logits = self.hidden(torch.cat((pooling, word_hidden), 1))\n",
        "        logits = self.out(logits)      \n",
        "        return logits"
      ],
      "execution_count": 47,
      "outputs": []
    },
    {
      "cell_type": "markdown",
      "metadata": {
        "id": "YXBhEmAUjXq2"
      },
      "source": [
        "#### Training"
      ]
    },
    {
      "cell_type": "code",
      "metadata": {
        "id": "Jfrq71NMd4Eu"
      },
      "source": [
        "torch.manual_seed(100)\n",
        "np.random.seed(100)\n",
        "\n",
        "model = CNN(len(word2id), len(symbol2id), 8, weights)\n",
        "optimizer = optim.Adam(model.parameters(), lr=0.0005)\n",
        "criterion = nn.BCELoss()  \n",
        "\n",
        "model = model.to(DEVICE)\n",
        "criterion = criterion.to(DEVICE)"
      ],
      "execution_count": null,
      "outputs": []
    },
    {
      "cell_type": "code",
      "metadata": {
        "colab": {
          "base_uri": "https://localhost:8080/",
          "height": 388
        },
        "id": "0896K2KQeFyi",
        "outputId": "f242064f-e68b-4055-b1c0-7cbd56b4bb62"
      },
      "source": [
        "losses = []\n",
        "losses_eval = []\n",
        "f1s = []\n",
        "f1s_eval = []\n",
        "log = {'train_loss': [], 'val_loss': [], 'val_f1': []}\n",
        "\n",
        "for i in range(7):\n",
        "    print(f'\\nEpoch {i}')\n",
        "    epoch_loss = train(model, train_iterator, optimizer, criterion)\n",
        "    losses.append(epoch_loss)\n",
        "    f1_on_train,_ = evaluate(model, train_iterator, criterion)\n",
        "    f1s.append(f1_on_train)\n",
        "    f1_on_test, epoch_loss_on_test = evaluate(model, val_iterator, criterion)\n",
        "    losses_eval.append(epoch_loss_on_test)\n",
        "    f1s_eval.append(f1_on_test)\n",
        "    log['train_loss'] = losses\n",
        "    log['val_loss'] = losses_eval\n",
        "    log['val_f1'] = f1s_eval\n",
        "\n",
        "    if i % 3 == 0:\n",
        "        clear_output(wait=True)\n",
        "        fig, axs = plt.subplots(1, len(log), figsize=(15, 5))\n",
        "        for i, (name, vals) in enumerate(log.items()):\n",
        "            axs[i].plot(vals)\n",
        "            axs[i].set_title(name)\n",
        "        plt.show()\n",
        "        print(\"  Train loss:      {0:.6f}\".format(epoch_loss))\n",
        "        print(\"  Validation Loss: {0:.6f}\".format(epoch_loss_on_test))\n",
        "        print(\"  Validation F1:   {0:.6f}\".format(f1_on_test))"
      ],
      "execution_count": null,
      "outputs": [
        {
          "output_type": "display_data",
          "data": {
            "image/png": "[encoded data removed]",
            "text/plain": [
              "<Figure size 1080x360 with 3 Axes>"
            ]
          },
          "metadata": {
            "needs_background": "light"
          }
        },
        {
          "output_type": "stream",
          "name": "stdout",
          "text": [
            "  Train loss:      0.000963\n",
            "  Validation Loss: 0.001187\n",
            "  Validation F1:   0.999740\n"
          ]
        }
      ]
    },
    {
      "cell_type": "markdown",
      "metadata": {
        "id": "RusYcjRSjC4p"
      },
      "source": [
        "Буквально сразу же F1 почти 1. Проблема известная - если модель видит смайлики, то справляется отлично, а в создании символов я пунктуацию сейчас сохраняла.  \n",
        "Ниже уберу пунктуацию и обучу снова."
      ]
    },
    {
      "cell_type": "markdown",
      "metadata": {
        "id": "FPlJOHyHjdWL"
      },
      "source": [
        "## Вторая модель без пунктуации в символах"
      ]
    },
    {
      "cell_type": "markdown",
      "metadata": {
        "id": "GQwgVvp5k0D9"
      },
      "source": [
        "#### Dataset"
      ]
    },
    {
      "cell_type": "code",
      "metadata": {
        "id": "iPHfXXIQjnpM"
      },
      "source": [
        "class TweetDataset(Dataset):\n",
        "\n",
        "    def __init__(self, dataset, word2id, symbol2id, DEVICE):\n",
        "        self.dataset_tokens = dataset['tokens'].values\n",
        "        # теперь берем символы не по тексту, а по склеенным токенам без пунктуации\n",
        "        self.dataset_texts = dataset['tokens'].str.join(' ').values\n",
        "        self.word2id = word2id\n",
        "        self.symbol2id = symbol2id\n",
        "        self.length = dataset.shape[0]\n",
        "        self.target = dataset['type'].values\n",
        "        self.device = DEVICE\n",
        "\n",
        "    def __len__(self):\n",
        "        return self.length\n",
        "\n",
        "    def __getitem__(self, index): \n",
        "        words = list(self.dataset_tokens[index])\n",
        "        word_ids = torch.LongTensor([self.word2id[word] for word in words if word in self.word2id])\n",
        "        symbols = list(self.dataset_texts[index])\n",
        "        sym_ids = torch.LongTensor([self.symbol2id[symbol] for symbol in symbols if symbol in self.symbol2id])\n",
        "        y = [self.target[index]]\n",
        "        return word_ids, sym_ids, y\n",
        "\n",
        "    def collate_fn(self, batch): \n",
        "      word_ids, sym_ids, y = list(zip(*batch))\n",
        "      padded_word_ids = pad_sequence(word_ids, batch_first=True).to(self.device)\n",
        "      padded_sym_ids = pad_sequence(sym_ids, batch_first=True).to(self.device)\n",
        "      y = torch.Tensor(y).to(self.device)\n",
        "      return padded_word_ids, padded_sym_ids, y"
      ],
      "execution_count": 44,
      "outputs": []
    },
    {
      "cell_type": "code",
      "metadata": {
        "id": "67aDFYnDjnpM"
      },
      "source": [
        "train_dataset = TweetDataset(train_data, word2id, symbol2id, DEVICE)\n",
        "train_sampler = RandomSampler(train_dataset)\n",
        "train_iterator = DataLoader(train_dataset, collate_fn = train_dataset.collate_fn, sampler=train_sampler, batch_size=1024)\n",
        "\n",
        "val_dataset = TweetDataset(val_data, word2id, symbol2id, DEVICE)\n",
        "val_sampler = SequentialSampler(val_dataset)\n",
        "val_iterator = DataLoader(val_dataset, collate_fn = val_dataset.collate_fn, sampler=val_sampler, batch_size=1024)"
      ],
      "execution_count": 45,
      "outputs": []
    },
    {
      "cell_type": "markdown",
      "metadata": {
        "id": "H6IOlrsxkyBp"
      },
      "source": [
        "#### Training"
      ]
    },
    {
      "cell_type": "code",
      "metadata": {
        "id": "3z2TKL6Ikt7_"
      },
      "source": [
        "torch.manual_seed(100)\n",
        "np.random.seed(100)\n",
        "\n",
        "model = CNN(len(word2id), len(symbol2id), 8, weights)\n",
        "optimizer = optim.Adam(model.parameters(), lr=0.0005)\n",
        "criterion = nn.BCELoss()  \n",
        "\n",
        "model = model.to(DEVICE)\n",
        "criterion = criterion.to(DEVICE)"
      ],
      "execution_count": null,
      "outputs": []
    },
    {
      "cell_type": "code",
      "metadata": {
        "colab": {
          "base_uri": "https://localhost:8080/",
          "height": 423
        },
        "id": "ARcLsVrwk3Sk",
        "outputId": "5aca751c-89a7-43c9-de91-85cf310ec34b"
      },
      "source": [
        "losses = []\n",
        "losses_eval = []\n",
        "f1s = []\n",
        "f1s_eval = []\n",
        "log = {'train_loss': [], 'val_loss': [], 'val_f1': []}\n",
        "\n",
        "for i in range(20):\n",
        "    print(f'\\nEpoch {i}')\n",
        "    epoch_loss = train(model, train_iterator, optimizer, criterion)\n",
        "    losses.append(epoch_loss)\n",
        "    f1_on_train,_ = evaluate(model, train_iterator, criterion)\n",
        "    f1s.append(f1_on_train)\n",
        "    f1_on_test, epoch_loss_on_test = evaluate(model, val_iterator, criterion)\n",
        "    losses_eval.append(epoch_loss_on_test)\n",
        "    f1s_eval.append(f1_on_test)\n",
        "    log['train_loss'] = losses\n",
        "    log['val_loss'] = losses_eval\n",
        "    log['val_f1'] = f1s_eval\n",
        "\n",
        "    if i % 3 == 0:\n",
        "        clear_output(wait=True)\n",
        "        fig, axs = plt.subplots(1, len(log), figsize=(15, 5))\n",
        "        for i, (name, vals) in enumerate(log.items()):\n",
        "            axs[i].plot(vals)\n",
        "            axs[i].set_title(name)\n",
        "        plt.show()\n",
        "        print(\"  Train loss:      {0:.6f}\".format(epoch_loss))\n",
        "        print(\"  Validation Loss: {0:.6f}\".format(epoch_loss_on_test))\n",
        "        print(\"  Validation F1:   {0:.6f}\".format(f1_on_test))"
      ],
      "execution_count": null,
      "outputs": [
        {
          "output_type": "display_data",
          "data": {
            "image/png": "[encoded data removed]",
            "text/plain": [
              "<Figure size 1080x360 with 3 Axes>"
            ]
          },
          "metadata": {
            "needs_background": "light"
          }
        },
        {
          "output_type": "stream",
          "name": "stdout",
          "text": [
            "  Train loss:      0.316655\n",
            "  Validation Loss: 0.512877\n",
            "  Validation F1:   0.779131\n",
            "\n",
            "Epoch 19\n"
          ]
        }
      ]
    },
    {
      "cell_type": "code",
      "metadata": {
        "colab": {
          "base_uri": "https://localhost:8080/"
        },
        "id": "J7C9TE2nobGt",
        "outputId": "7ef1a2ad-8de7-4554-ef9e-d54e887dded2"
      },
      "source": [
        "print(f'Best F1 on validation: {max(f1s_eval):.4f}')\n",
        "print(f'Best epoch: {np.argmax(f1s_eval)}')"
      ],
      "execution_count": null,
      "outputs": [
        {
          "output_type": "stream",
          "name": "stdout",
          "text": [
            "Best F1 on validation: 0.7924\n",
            "Best epoch: 8\n"
          ]
        }
      ]
    },
    {
      "cell_type": "markdown",
      "metadata": {
        "id": "MTJwu_DXokx1"
      },
      "source": [
        "Модель с информацией о символах справляется с предсказанием негативности/позитивности лучше, чем только на словах!  \n",
        "Наверное, готовые пословные эмбеддинги для псевдослов и неотсеянной пунктуации несколько хуже, чем обучаемые символьные эмбеддинги."
      ]
    },
    {
      "cell_type": "markdown",
      "metadata": {
        "id": "pKRp-fRFozMM"
      },
      "source": [
        "## Улучшение второй модели (без пунктуации)  \n",
        "\n",
        "Добавляю еще один линейный слой в конце. Перед ним выход из предыдущего линейного слоя сначала проходит активацию."
      ]
    },
    {
      "cell_type": "code",
      "metadata": {
        "id": "M_Q2_RFEc6Kr"
      },
      "source": [
        "class CNN(nn.Module):\n",
        "    \n",
        "    def __init__(self, word_vocab_size, sym_vocab_size, embedding_dim, weights):\n",
        "        super().__init__()\n",
        "        self.word_embedding = nn.Embedding(word_vocab_size, weights.shape[1])\n",
        "        self.word_embedding.from_pretrained(torch.tensor(weights), freeze=True)\n",
        "        self.word_hidden = nn.Linear(in_features=weights.shape[1], out_features=80)\n",
        "\n",
        "        self.sym_embedding = nn.Embedding(sym_vocab_size, embedding_dim)\n",
        "        self.bigrams = nn.Conv1d(in_channels=embedding_dim, out_channels=100, kernel_size=2, padding='same')\n",
        "        self.trigrams = nn.Conv1d(in_channels=embedding_dim, out_channels=100, kernel_size=3, padding='same')\n",
        "        self.final_cnn = nn.Conv1d(in_channels=200, out_channels=80, kernel_size=3, padding='same')\n",
        "        \n",
        "        self.hidden1 = nn.Linear(in_features=80+80, out_features=80)\n",
        "        self.hidden2 = nn.Linear(in_features=80, out_features=1)\n",
        "        self.act = nn.ReLU()\n",
        "        self.out = nn.Sigmoid()\n",
        "\n",
        "    def forward(self, word, symbols):\n",
        "        word_embedded = self.word_embedding(word)\n",
        "        mean_word_emb = torch.mean(word_embedded, dim=1)\n",
        "        word_hidden = self.word_hidden(mean_word_emb)\n",
        "\n",
        "        sym_embedded = self.sym_embedding(symbols)\n",
        "        sym_embedded = sym_embedded.transpose(1,2)\n",
        "\n",
        "        bigrams = self.bigrams(sym_embedded)\n",
        "        trigrams = self.trigrams(sym_embedded)\n",
        "        final = self.final_cnn(torch.cat((bigrams, trigrams), 1))\n",
        "        \n",
        "        pooling = final.max(2)[0] \n",
        "        logits = self.hidden1(torch.cat((pooling, word_hidden), 1))\n",
        "        # добавляю активацию и еще один линейный слой\n",
        "        logits = self.hidden2(self.act(logits))\n",
        "        logits = self.out(logits)      \n",
        "        return logits"
      ],
      "execution_count": 57,
      "outputs": []
    },
    {
      "cell_type": "code",
      "metadata": {
        "id": "enuuV40FdYsU"
      },
      "source": [
        "torch.manual_seed(100)\n",
        "np.random.seed(100)\n",
        "\n",
        "model = CNN(len(word2id), len(symbol2id), 8, weights)\n",
        "optimizer = optim.Adam(model.parameters(), lr=0.001)\n",
        "criterion = nn.BCELoss()  \n",
        "\n",
        "model = model.to(DEVICE)\n",
        "criterion = criterion.to(DEVICE)"
      ],
      "execution_count": 58,
      "outputs": []
    },
    {
      "cell_type": "code",
      "metadata": {
        "colab": {
          "base_uri": "https://localhost:8080/",
          "height": 423
        },
        "id": "0TdB4sENdeVw",
        "outputId": "2db41751-a498-4f6c-8dbd-3d1363ce77aa"
      },
      "source": [
        "losses = []\n",
        "losses_eval = []\n",
        "f1s = []\n",
        "f1s_eval = []\n",
        "log = {'train_loss': [], 'val_loss': [], 'val_f1': []}\n",
        "\n",
        "for i in range(20):\n",
        "    print(f'\\nEpoch {i}')\n",
        "    epoch_loss = train(model, train_iterator, optimizer, criterion)\n",
        "    losses.append(epoch_loss)\n",
        "    f1_on_train,_ = evaluate(model, train_iterator, criterion)\n",
        "    f1s.append(f1_on_train)\n",
        "    f1_on_test, epoch_loss_on_test = evaluate(model, val_iterator, criterion)\n",
        "    losses_eval.append(epoch_loss_on_test)\n",
        "    f1s_eval.append(f1_on_test)\n",
        "    log['train_loss'] = losses\n",
        "    log['val_loss'] = losses_eval\n",
        "    log['val_f1'] = f1s_eval\n",
        "\n",
        "    if i % 3 == 0:\n",
        "        clear_output(wait=True)\n",
        "        fig, axs = plt.subplots(1, len(log), figsize=(15, 5))\n",
        "        for i, (name, vals) in enumerate(log.items()):\n",
        "            axs[i].plot(vals)\n",
        "            axs[i].set_title(name)\n",
        "        plt.show()\n",
        "        print(\"  Train loss:      {0:.6f}\".format(epoch_loss))\n",
        "        print(\"  Validation Loss: {0:.6f}\".format(epoch_loss_on_test))\n",
        "        print(\"  Validation F1:   {0:.6f}\".format(f1_on_test))"
      ],
      "execution_count": 59,
      "outputs": [
        {
          "output_type": "display_data",
          "data": {
            "image/png": "[encoded data removed]",
            "text/plain": [
              "<Figure size 1080x360 with 3 Axes>"
            ]
          },
          "metadata": {
            "needs_background": "light"
          }
        },
        {
          "output_type": "stream",
          "name": "stdout",
          "text": [
            "  Train loss:      0.294752\n",
            "  Validation Loss: 0.529606\n",
            "  Validation F1:   0.781409\n",
            "\n",
            "Epoch 19\n"
          ]
        }
      ]
    },
    {
      "cell_type": "code",
      "metadata": {
        "colab": {
          "base_uri": "https://localhost:8080/"
        },
        "id": "r4RNloVThJQt",
        "outputId": "6cc8c8d5-b2da-4690-8801-b008def3a72d"
      },
      "source": [
        "print(f'Best F1 on validation: {max(f1s_eval):.4f}')\n",
        "print(f'Best epoch: {np.argmax(f1s_eval)}')"
      ],
      "execution_count": 60,
      "outputs": [
        {
          "output_type": "stream",
          "name": "stdout",
          "text": [
            "Best F1 on validation: 0.7948\n",
            "Best epoch: 6\n"
          ]
        }
      ]
    },
    {
      "cell_type": "markdown",
      "metadata": {
        "id": "58lzHQ54qLlv"
      },
      "source": [
        "Бейзлайн: 0.7924  \n",
        "Улучшенная: 0.7948\n",
        "\n",
        "Я провела еще много разных экспериментов, но все оказывалось чуть хуже бейзлайна :(  \n",
        "Например, я пробовала\n",
        "* добавлять дропаут и активацию\n",
        "* менять learning rate\n",
        "* увеличивать размер окна в сверточных слоях\n",
        "* добавлять сверточный слой и для эмбеддингов слов\n",
        "* добавить еще два сверточных слоя для символьных эмбеддингов"
      ]
    },
    {
      "cell_type": "markdown",
      "metadata": {
        "id": "nsUDd12lhaAd"
      },
      "source": [
        "## На каких текстах модель справляется хорошо, а на каких плохо"
      ]
    },
    {
      "cell_type": "code",
      "metadata": {
        "id": "HCJ4bYQahYEP"
      },
      "source": [
        "def predict(model, iterator):\n",
        "    model.eval()\n",
        "    fp = []\n",
        "    fn = []\n",
        "    tp = [] \n",
        "    tn = []\n",
        "    with torch.no_grad():\n",
        "        for i, (texts, symbols, ys) in enumerate(iterator):   \n",
        "            preds = model(texts, symbols)  # делаем предсказания на тесте \n",
        "            for pred, gold, text in zip(preds, ys, texts):\n",
        "              text = ' '.join([id2word[int(word)] for word in text if word !=0])\n",
        "              if round(pred.item()) > gold:\n",
        "                fp.append(text)\n",
        "              elif round(pred.item()) < gold:\n",
        "                fn.append(text)\n",
        "              elif round(pred.item()) == gold == 1:\n",
        "                tp.append(text)\n",
        "              elif round(pred.item()) == gold == 0:\n",
        "                tn.append(text)\n",
        "    return fp, fn, tp, tn"
      ],
      "execution_count": 67,
      "outputs": []
    },
    {
      "cell_type": "code",
      "metadata": {
        "id": "yF9Xq0dAjT_W"
      },
      "source": [
        "fp, fn, tp, tn = predict(model, val_iterator)"
      ],
      "execution_count": 68,
      "outputs": []
    },
    {
      "cell_type": "markdown",
      "metadata": {
        "id": "KRkMSNXvlza6"
      },
      "source": [
        "**Угаданные Позитивные**\n",
        "* Позитивные очень хорошо определяются, если в них есть D (очевидно, остатки смайлика :D)\n",
        "* Модель посчитала, что ссылки (их кусочек - http) это признак позитивных предложений\n",
        "* Довольно много слов капсом\n",
        "\n",
        "**Угаданные Негативные**\n",
        "* Модель хорошо справляется с негативными, в которых есть многоточие \"...\", которое не почитилось с остальной пунктуацией, потому что было одним токеном\n",
        "* В негативных также больше мата, что русского, что английского\n",
        "* Во многих предложениях есть отрицательная частица \"не\"\n",
        "\n",
        "**НЕ-Угаданные Позитивные**\n",
        "* Во многих есть многоточия, а их модель считает признаком негатива. (в этом модель в основном права, кстати. многие позитивные предложения из датасета с \"...\" не кажутся мне такими уж веселыми)\n",
        "* Нейтральные предложения с \"не\"\n",
        "* Нерусские предложения или короткие предложения на очень ломанном русском\n",
        "\n",
        "**НЕ-Угаданные Негативные**\n",
        "* Видимо, данные размечались как-то автоматически и принудительно должны были получить какой-то лейбл. Если смотреть глазами, то многие предложения словами не выражают негативные эмоции. Видимо, в них правда не хватает смайликов.\n",
        "* Много коротких и неосмысленных предложений"
      ]
    },
    {
      "cell_type": "code",
      "metadata": {
        "colab": {
          "base_uri": "https://localhost:8080/"
        },
        "id": "KoLE0iRbjjxs",
        "outputId": "b6adc2d2-7a7f-4e48-e4ee-ff3cd17d67bb"
      },
      "source": [
        "print('Правильно предсказанные positive предложения\\n')\n",
        "print('\\n'.join(tp[:10]))"
      ],
      "execution_count": 82,
      "outputs": [
        {
          "output_type": "stream",
          "name": "stdout",
          "text": [
            "Правильно предсказанные positive предложения\n",
            "\n",
            "ВАНГУЮ ДЛЯ НИ ЗНАЮ 15 D\n",
            "RT И как там выборы Мне из не видно\n",
            "Да D и мы от нефиг делать стали фоткаться в зеркале D\n",
            "RT Мой твит посвящается after_AD Дорогая пусть тебя за фолловят 1000 чуваков\n",
            "спасибо удачно отучиться крошка моя\n",
            "Самый лучший друг на свете http\n",
            "скучно дома like good музыка маша медведь http\n",
            "Iron_wings D Я приду домой и фор ю D\n",
            "RT KnjazevAn сновидений © http\n",
            "С Днём Рождения Желаю счастья успехов здоровья любви и всех благ\n"
          ]
        }
      ]
    },
    {
      "cell_type": "code",
      "metadata": {
        "colab": {
          "base_uri": "https://localhost:8080/"
        },
        "id": "wMpnSxEpkyf2",
        "outputId": "5f11c9aa-2d84-40fc-98ac-c40835e38afa"
      },
      "source": [
        "print('Правильно предсказанные negative предложения\\n')\n",
        "print('\\n'.join(tn[:10]))"
      ],
      "execution_count": 79,
      "outputs": [
        {
          "output_type": "stream",
          "name": "stdout",
          "text": [
            "Правильно предсказанные negative предложения\n",
            "\n",
            "Все никак не могу попасть на\n",
            "Доброе утро Сегодня еле встала хочу спать ... Очень хочу спасать день обещает быть и долгим fuck\n",
            "меня пиздец как то что я не могу его увидеть уже 3й день ебала какая злая Яна на что ж за хрень\n",
            "хочу в Беларуси купить нереально его\n",
            "RT очередная попытка поставить винду в этот раз уже действительно с\n",
            "эм нет у нас почему-то такого не предлагают но он мне свой паспорт вместо проверки моего на скидку по др\n",
            "это еще надо как-то выучить\n",
            "Хочешь чтобы твит Лента ... .. просто что-то пишешь Лента ... окай\n",
            "судя по адресу это рядом с\n",
            "RT зачем я покрасилась в шоколадный поверх я больше не выйду из дома 99\n"
          ]
        }
      ]
    },
    {
      "cell_type": "code",
      "metadata": {
        "colab": {
          "base_uri": "https://localhost:8080/"
        },
        "id": "GGHzbAZOlYKL",
        "outputId": "a65e85db-88ad-4cd5-bee7-d03409b923a0"
      },
      "source": [
        "print('Предсказано negative, а на самом деле positive\\n')\n",
        "print('\\n'.join(fn[:10]))"
      ],
      "execution_count": 85,
      "outputs": [
        {
          "output_type": "stream",
          "name": "stdout",
          "text": [
            "Предсказано negative, а на самом деле positive\n",
            "\n",
            "я всё ещё не могу оторваться от твоего оформления *~* Мне нельзя заходить на твой профиль х\n",
            "покупок средств с других карт — бесплатный переводы друзьям на карты других банков — без комиссии\n",
            "RT Krippin_73 BogdanTwittman ДА ЭТО\n",
            "RT ananas__ananas бля как же повезло у них по биологии на её уроках мы так угарали а щас вапще скучно\n",
            "гсн нь дараа чэн\n",
            "Стоимость смс 500\n",
            "подарок от Игоря хоть какая-то победа в этой жизни хд\n",
            "wylsacom Валентин добро пожаловать к нам в Питер\n",
            "Мои дома все поэтому дарят подарок и поздравляют не утра\n",
            "почему он не объясняет как буквы я бы прочитала а оно блин\n"
          ]
        }
      ]
    },
    {
      "cell_type": "code",
      "metadata": {
        "colab": {
          "base_uri": "https://localhost:8080/"
        },
        "id": "kVXEbnzlk-Oi",
        "outputId": "e219183a-9129-407f-bc5b-990150d8c0a6"
      },
      "source": [
        "print('Предсказано positive, а на самом деле negative\\n')\n",
        "print('\\n'.join(fp[:10]))"
      ],
      "execution_count": 78,
      "outputs": [
        {
          "output_type": "stream",
          "name": "stdout",
          "text": [
            "Предсказано positive, а на самом деле negative\n",
            "\n",
            "`` Ты на я на каблуках '' не хотят публиковать меня\n",
            "иногда полезно перед самым выходом в универ смотреть на расписание Оказывается туда надо идти только через пару\n",
            "Совершенно не возможно играть Это сильнее чем иногда бывает Видимо дело в физике все таки\n",
            "ага наверно 200\n",
            "выступил офигенно только у меня шапочку забрали а ты как\n",
            "RT утверждает что секс необходим для здоровой жизни меня унижает\n",
            "RT Доброе утро вопрос как завтра вставать в шк\n",
            "но если 13-го то я вечером работаю\n",
            "msa_kla не помогает видимо что то на линии\n",
            "О как мы любим Как в Мы то всего вернее Что сердцу нашему AutoFollowBack\n"
          ]
        }
      ]
    }
  ]
}