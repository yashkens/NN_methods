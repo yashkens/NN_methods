{
  "nbformat": 4,
  "nbformat_minor": 0,
  "metadata": {
    "colab": {
      "name": "NNmethods_HW4.ipynb",
      "provenance": [],
      "collapsed_sections": [
        "AjeYkUjKAuLO",
        "AOwJ0JeDRawV"
      ],
      "authorship_tag": "ABX9TyPo/VsO2jdLBmor5+EN6fJG",
      "include_colab_link": true
    },
    "kernelspec": {
      "name": "python3",
      "display_name": "Python 3"
    },
    "language_info": {
      "name": "python"
    },
    "accelerator": "GPU"
  },
  "cells": [
    {
      "cell_type": "markdown",
      "metadata": {
        "id": "view-in-github",
        "colab_type": "text"
      },
      "source": [
        "<a href=\"https://colab.research.google.com/github/yashkens/NN_methods/blob/main/NNmethods_HW4.ipynb\" target=\"_parent\"><img src=\"https://colab.research.google.com/assets/colab-badge.svg\" alt=\"Open In Colab\"/></a>"
      ]
    },
    {
      "cell_type": "markdown",
      "source": [
        "## Импорты и загрузки"
      ],
      "metadata": {
        "id": "5hUP7HiN721u"
      }
    },
    {
      "cell_type": "code",
      "source": [
        "!pip install -q -U watermark"
      ],
      "metadata": {
        "id": "DfVS_A6U75Ia",
        "colab": {
          "base_uri": "https://localhost:8080/"
        },
        "outputId": "dd5b5914-07e7-4863-b021-eaa6eb6f39c7"
      },
      "execution_count": 1,
      "outputs": [
        {
          "output_type": "stream",
          "name": "stdout",
          "text": [
            "\u001b[31mERROR: pip's dependency resolver does not currently take into account all the packages that are installed. This behaviour is the source of the following dependency conflicts.\n",
            "markdown 3.3.6 requires importlib-metadata>=4.4; python_version < \"3.10\", but you have importlib-metadata 2.1.3 which is incompatible.\u001b[0m\n"
          ]
        }
      ]
    },
    {
      "cell_type": "code",
      "source": [
        "!pip install transformers"
      ],
      "metadata": {
        "colab": {
          "base_uri": "https://localhost:8080/"
        },
        "id": "cHWTpgZs8Fj0",
        "outputId": "14d2b6f1-961d-425a-c998-9e4a38864cd3"
      },
      "execution_count": 1,
      "outputs": [
        {
          "output_type": "stream",
          "name": "stdout",
          "text": [
            "Requirement already satisfied: transformers in /usr/local/lib/python3.7/dist-packages (4.17.0)\n",
            "Requirement already satisfied: tqdm>=4.27 in /usr/local/lib/python3.7/dist-packages (from transformers) (4.63.0)\n",
            "Requirement already satisfied: huggingface-hub<1.0,>=0.1.0 in /usr/local/lib/python3.7/dist-packages (from transformers) (0.4.0)\n",
            "Requirement already satisfied: pyyaml>=5.1 in /usr/local/lib/python3.7/dist-packages (from transformers) (6.0)\n",
            "Requirement already satisfied: regex!=2019.12.17 in /usr/local/lib/python3.7/dist-packages (from transformers) (2019.12.20)\n",
            "Requirement already satisfied: packaging>=20.0 in /usr/local/lib/python3.7/dist-packages (from transformers) (21.3)\n",
            "Requirement already satisfied: importlib-metadata in /usr/local/lib/python3.7/dist-packages (from transformers) (2.1.3)\n",
            "Requirement already satisfied: filelock in /usr/local/lib/python3.7/dist-packages (from transformers) (3.6.0)\n",
            "Requirement already satisfied: sacremoses in /usr/local/lib/python3.7/dist-packages (from transformers) (0.0.49)\n",
            "Requirement already satisfied: requests in /usr/local/lib/python3.7/dist-packages (from transformers) (2.23.0)\n",
            "Requirement already satisfied: numpy>=1.17 in /usr/local/lib/python3.7/dist-packages (from transformers) (1.21.5)\n",
            "Requirement already satisfied: tokenizers!=0.11.3,>=0.11.1 in /usr/local/lib/python3.7/dist-packages (from transformers) (0.11.6)\n",
            "Requirement already satisfied: typing-extensions>=3.7.4.3 in /usr/local/lib/python3.7/dist-packages (from huggingface-hub<1.0,>=0.1.0->transformers) (3.10.0.2)\n",
            "Requirement already satisfied: pyparsing!=3.0.5,>=2.0.2 in /usr/local/lib/python3.7/dist-packages (from packaging>=20.0->transformers) (3.0.7)\n",
            "Requirement already satisfied: zipp>=0.5 in /usr/local/lib/python3.7/dist-packages (from importlib-metadata->transformers) (3.7.0)\n",
            "Requirement already satisfied: idna<3,>=2.5 in /usr/local/lib/python3.7/dist-packages (from requests->transformers) (2.10)\n",
            "Requirement already satisfied: chardet<4,>=3.0.2 in /usr/local/lib/python3.7/dist-packages (from requests->transformers) (3.0.4)\n",
            "Requirement already satisfied: certifi>=2017.4.17 in /usr/local/lib/python3.7/dist-packages (from requests->transformers) (2021.10.8)\n",
            "Requirement already satisfied: urllib3!=1.25.0,!=1.25.1,<1.26,>=1.21.1 in /usr/local/lib/python3.7/dist-packages (from requests->transformers) (1.24.3)\n",
            "Requirement already satisfied: click in /usr/local/lib/python3.7/dist-packages (from sacremoses->transformers) (7.1.2)\n",
            "Requirement already satisfied: six in /usr/local/lib/python3.7/dist-packages (from sacremoses->transformers) (1.15.0)\n",
            "Requirement already satisfied: joblib in /usr/local/lib/python3.7/dist-packages (from sacremoses->transformers) (1.1.0)\n"
          ]
        }
      ]
    },
    {
      "cell_type": "code",
      "source": [
        "%reload_ext watermark\n",
        "%watermark -v -p numpy,pandas,torch,transformers"
      ],
      "metadata": {
        "colab": {
          "base_uri": "https://localhost:8080/"
        },
        "id": "bMd3Av5_8LYp",
        "outputId": "d33933ec-a4b4-427f-fcf1-c26b5dde5d8b"
      },
      "execution_count": 2,
      "outputs": [
        {
          "output_type": "stream",
          "name": "stdout",
          "text": [
            "Python implementation: CPython\n",
            "Python version       : 3.7.13\n",
            "IPython version      : 5.5.0\n",
            "\n",
            "numpy       : 1.21.5\n",
            "pandas      : 1.3.5\n",
            "torch       : 1.10.0+cu111\n",
            "transformers: 4.17.0\n",
            "\n"
          ]
        }
      ]
    },
    {
      "cell_type": "code",
      "source": [
        "import transformers\n",
        "from transformers import AutoTokenizer, AutoModel, AdamW, get_linear_schedule_with_warmup, EarlyStoppingCallback\n",
        "import torch.nn.functional as F\n",
        "\n",
        "import torch\n",
        "import numpy as np\n",
        "import pandas as pd\n",
        "import seaborn as sns\n",
        "from pylab import rcParams\n",
        "import matplotlib.pyplot as plt\n",
        "from matplotlib import rc\n",
        "from sklearn.model_selection import train_test_split\n",
        "from sklearn.metrics import confusion_matrix, classification_report\n",
        "from collections import defaultdict\n",
        "from textwrap import wrap\n",
        "from torch import nn, optim\n",
        "from torch.nn.utils import clip_grad_norm_\n",
        "from torch.utils.data import Dataset, DataLoader\n",
        "\n",
        "from sklearn.metrics import precision_recall_fscore_support, accuracy_score\n",
        "from transformers import Trainer, TrainingArguments"
      ],
      "metadata": {
        "id": "KYXiJkOi8Q4b"
      },
      "execution_count": 3,
      "outputs": []
    },
    {
      "cell_type": "code",
      "source": [
        "%matplotlib inline\n",
        "%config InlineBackend.figure_format='retina'\n",
        "sns.set(style='whitegrid', palette='muted', font_scale=1.2)\n",
        "HAPPY_COLORS_PALETTE = [\"#01BEFE\", \"#FFDD00\", \"#FF7D00\", \"#FF006D\", \"#ADFF02\", \"#8F00FF\"]\n",
        "sns.set_palette(sns.color_palette(HAPPY_COLORS_PALETTE))\n",
        "rcParams['figure.figsize'] = 6, 4"
      ],
      "metadata": {
        "id": "F8_5fdpF8lFj"
      },
      "execution_count": 4,
      "outputs": []
    },
    {
      "cell_type": "markdown",
      "source": [
        "## Данные"
      ],
      "metadata": {
        "id": "kSNgYaBh8cm2"
      }
    },
    {
      "cell_type": "code",
      "source": [
        "!gdown --id 1S6qMioqPJjyBLpLVz4gmRTnJHnjitnuV\n",
        "!gdown --id 1zdmewp7ayS4js4VtrJEHzAheSW-5NBZv"
      ],
      "metadata": {
        "colab": {
          "base_uri": "https://localhost:8080/"
        },
        "id": "0GLWJVM68ana",
        "outputId": "64caec47-977d-42f2-b62e-a6da5905831f"
      },
      "execution_count": 5,
      "outputs": [
        {
          "output_type": "stream",
          "name": "stdout",
          "text": [
            "Downloading...\n",
            "From: https://drive.google.com/uc?id=1S6qMioqPJjyBLpLVz4gmRTnJHnjitnuV\n",
            "To: /content/apps.csv\n",
            "100% 134k/134k [00:00<00:00, 57.0MB/s]\n",
            "Downloading...\n",
            "From: https://drive.google.com/uc?id=1zdmewp7ayS4js4VtrJEHzAheSW-5NBZv\n",
            "To: /content/reviews.csv\n",
            "100% 7.17M/7.17M [00:00<00:00, 233MB/s]\n"
          ]
        }
      ]
    },
    {
      "cell_type": "code",
      "source": [
        "df = pd.read_csv(\"reviews.csv\")\n",
        "df.head(2)"
      ],
      "metadata": {
        "colab": {
          "base_uri": "https://localhost:8080/",
          "height": 349
        },
        "id": "Aq66oUWf8gUc",
        "outputId": "34d27db5-c681-443b-c7fc-94bbce3ac593"
      },
      "execution_count": 6,
      "outputs": [
        {
          "output_type": "execute_result",
          "data": {
            "text/plain": [
              "        userName                                          userImage  \\\n",
              "0  Andrew Thomas  https://lh3.googleusercontent.com/a-/AOh14GiHd...   \n",
              "1   Craig Haines  https://lh3.googleusercontent.com/-hoe0kwSJgPQ...   \n",
              "\n",
              "                                             content  score  thumbsUpCount  \\\n",
              "0  Update: After getting a response from the deve...      1             21   \n",
              "1  Used it for a fair amount of time without any ...      1             11   \n",
              "\n",
              "  reviewCreatedVersion                   at  \\\n",
              "0             4.17.0.3  2020-04-05 22:25:57   \n",
              "1             4.17.0.3  2020-04-04 13:40:01   \n",
              "\n",
              "                                        replyContent            repliedAt  \\\n",
              "0  According to our TOS, and the term you have ag...  2020-04-05 15:10:24   \n",
              "1  It sounds like you logged in with a different ...  2020-04-05 15:11:35   \n",
              "\n",
              "       sortOrder      appId  \n",
              "0  most_relevant  com.anydo  \n",
              "1  most_relevant  com.anydo  "
            ],
            "text/html": [
              "\n",
              "  <div id=\"df-cdfd2918-9893-4fe8-b1d3-712bcee49a13\">\n",
              "    <div class=\"colab-df-container\">\n",
              "      <div>\n",
              "<style scoped>\n",
              "    .dataframe tbody tr th:only-of-type {\n",
              "        vertical-align: middle;\n",
              "    }\n",
              "\n",
              "    .dataframe tbody tr th {\n",
              "        vertical-align: top;\n",
              "    }\n",
              "\n",
              "    .dataframe thead th {\n",
              "        text-align: right;\n",
              "    }\n",
              "</style>\n",
              "<table border=\"1\" class=\"dataframe\">\n",
              "  <thead>\n",
              "    <tr style=\"text-align: right;\">\n",
              "      <th></th>\n",
              "      <th>userName</th>\n",
              "      <th>userImage</th>\n",
              "      <th>content</th>\n",
              "      <th>score</th>\n",
              "      <th>thumbsUpCount</th>\n",
              "      <th>reviewCreatedVersion</th>\n",
              "      <th>at</th>\n",
              "      <th>replyContent</th>\n",
              "      <th>repliedAt</th>\n",
              "      <th>sortOrder</th>\n",
              "      <th>appId</th>\n",
              "    </tr>\n",
              "  </thead>\n",
              "  <tbody>\n",
              "    <tr>\n",
              "      <th>0</th>\n",
              "      <td>Andrew Thomas</td>\n",
              "      <td>https://lh3.googleusercontent.com/a-/AOh14GiHd...</td>\n",
              "      <td>Update: After getting a response from the deve...</td>\n",
              "      <td>1</td>\n",
              "      <td>21</td>\n",
              "      <td>4.17.0.3</td>\n",
              "      <td>2020-04-05 22:25:57</td>\n",
              "      <td>According to our TOS, and the term you have ag...</td>\n",
              "      <td>2020-04-05 15:10:24</td>\n",
              "      <td>most_relevant</td>\n",
              "      <td>com.anydo</td>\n",
              "    </tr>\n",
              "    <tr>\n",
              "      <th>1</th>\n",
              "      <td>Craig Haines</td>\n",
              "      <td>https://lh3.googleusercontent.com/-hoe0kwSJgPQ...</td>\n",
              "      <td>Used it for a fair amount of time without any ...</td>\n",
              "      <td>1</td>\n",
              "      <td>11</td>\n",
              "      <td>4.17.0.3</td>\n",
              "      <td>2020-04-04 13:40:01</td>\n",
              "      <td>It sounds like you logged in with a different ...</td>\n",
              "      <td>2020-04-05 15:11:35</td>\n",
              "      <td>most_relevant</td>\n",
              "      <td>com.anydo</td>\n",
              "    </tr>\n",
              "  </tbody>\n",
              "</table>\n",
              "</div>\n",
              "      <button class=\"colab-df-convert\" onclick=\"convertToInteractive('df-cdfd2918-9893-4fe8-b1d3-712bcee49a13')\"\n",
              "              title=\"Convert this dataframe to an interactive table.\"\n",
              "              style=\"display:none;\">\n",
              "        \n",
              "  <svg xmlns=\"http://www.w3.org/2000/svg\" height=\"24px\"viewBox=\"0 0 24 24\"\n",
              "       width=\"24px\">\n",
              "    <path d=\"M0 0h24v24H0V0z\" fill=\"none\"/>\n",
              "    <path d=\"M18.56 5.44l.94 2.06.94-2.06 2.06-.94-2.06-.94-.94-2.06-.94 2.06-2.06.94zm-11 1L8.5 8.5l.94-2.06 2.06-.94-2.06-.94L8.5 2.5l-.94 2.06-2.06.94zm10 10l.94 2.06.94-2.06 2.06-.94-2.06-.94-.94-2.06-.94 2.06-2.06.94z\"/><path d=\"M17.41 7.96l-1.37-1.37c-.4-.4-.92-.59-1.43-.59-.52 0-1.04.2-1.43.59L10.3 9.45l-7.72 7.72c-.78.78-.78 2.05 0 2.83L4 21.41c.39.39.9.59 1.41.59.51 0 1.02-.2 1.41-.59l7.78-7.78 2.81-2.81c.8-.78.8-2.07 0-2.86zM5.41 20L4 18.59l7.72-7.72 1.47 1.35L5.41 20z\"/>\n",
              "  </svg>\n",
              "      </button>\n",
              "      \n",
              "  <style>\n",
              "    .colab-df-container {\n",
              "      display:flex;\n",
              "      flex-wrap:wrap;\n",
              "      gap: 12px;\n",
              "    }\n",
              "\n",
              "    .colab-df-convert {\n",
              "      background-color: #E8F0FE;\n",
              "      border: none;\n",
              "      border-radius: 50%;\n",
              "      cursor: pointer;\n",
              "      display: none;\n",
              "      fill: #1967D2;\n",
              "      height: 32px;\n",
              "      padding: 0 0 0 0;\n",
              "      width: 32px;\n",
              "    }\n",
              "\n",
              "    .colab-df-convert:hover {\n",
              "      background-color: #E2EBFA;\n",
              "      box-shadow: 0px 1px 2px rgba(60, 64, 67, 0.3), 0px 1px 3px 1px rgba(60, 64, 67, 0.15);\n",
              "      fill: #174EA6;\n",
              "    }\n",
              "\n",
              "    [theme=dark] .colab-df-convert {\n",
              "      background-color: #3B4455;\n",
              "      fill: #D2E3FC;\n",
              "    }\n",
              "\n",
              "    [theme=dark] .colab-df-convert:hover {\n",
              "      background-color: #434B5C;\n",
              "      box-shadow: 0px 1px 3px 1px rgba(0, 0, 0, 0.15);\n",
              "      filter: drop-shadow(0px 1px 2px rgba(0, 0, 0, 0.3));\n",
              "      fill: #FFFFFF;\n",
              "    }\n",
              "  </style>\n",
              "\n",
              "      <script>\n",
              "        const buttonEl =\n",
              "          document.querySelector('#df-cdfd2918-9893-4fe8-b1d3-712bcee49a13 button.colab-df-convert');\n",
              "        buttonEl.style.display =\n",
              "          google.colab.kernel.accessAllowed ? 'block' : 'none';\n",
              "\n",
              "        async function convertToInteractive(key) {\n",
              "          const element = document.querySelector('#df-cdfd2918-9893-4fe8-b1d3-712bcee49a13');\n",
              "          const dataTable =\n",
              "            await google.colab.kernel.invokeFunction('convertToInteractive',\n",
              "                                                     [key], {});\n",
              "          if (!dataTable) return;\n",
              "\n",
              "          const docLinkHtml = 'Like what you see? Visit the ' +\n",
              "            '<a target=\"_blank\" href=https://colab.research.google.com/notebooks/data_table.ipynb>data table notebook</a>'\n",
              "            + ' to learn more about interactive tables.';\n",
              "          element.innerHTML = '';\n",
              "          dataTable['output_type'] = 'display_data';\n",
              "          await google.colab.output.renderOutput(dataTable, element);\n",
              "          const docLink = document.createElement('div');\n",
              "          docLink.innerHTML = docLinkHtml;\n",
              "          element.appendChild(docLink);\n",
              "        }\n",
              "      </script>\n",
              "    </div>\n",
              "  </div>\n",
              "  "
            ]
          },
          "metadata": {},
          "execution_count": 6
        }
      ]
    },
    {
      "cell_type": "code",
      "source": [
        "# приведем пять классов к трем\n",
        "def to_sentiment(rating):\n",
        "  rating = int(rating)\n",
        "  if rating <= 2:\n",
        "    return 0\n",
        "  elif rating == 3:\n",
        "    return 1\n",
        "  else: \n",
        "    return 2\n",
        "\n",
        "df['sentiment'] = df.score.apply(to_sentiment)"
      ],
      "metadata": {
        "id": "vH0KTX-58rMo"
      },
      "execution_count": 7,
      "outputs": []
    },
    {
      "cell_type": "code",
      "source": [
        "class_names = ['negative', 'neutral', 'positive']\n",
        "ax = sns.countplot(df.sentiment)\n",
        "plt.xlabel('review sentiment')\n",
        "ax.set_xticklabels(class_names)\n",
        "plt.show()"
      ],
      "metadata": {
        "colab": {
          "base_uri": "https://localhost:8080/",
          "height": 344
        },
        "id": "P23DjpHl8zIB",
        "outputId": "7236d6e9-2819-4f6a-d8f4-830a17ce8daf"
      },
      "execution_count": 8,
      "outputs": [
        {
          "output_type": "stream",
          "name": "stderr",
          "text": [
            "/usr/local/lib/python3.7/dist-packages/seaborn/_decorators.py:43: FutureWarning: Pass the following variable as a keyword arg: x. From version 0.12, the only valid positional argument will be `data`, and passing other arguments without an explicit keyword will result in an error or misinterpretation.\n",
            "  FutureWarning\n"
          ]
        },
        {
          "output_type": "display_data",
          "data": {
            "text/plain": [
              "<Figure size 432x288 with 1 Axes>"
            ],
            "image/png": "[encoded data removed]"
          },
          "metadata": {
            "image/png": {
              "width": 410,
              "height": 272
            }
          }
        }
      ]
    },
    {
      "cell_type": "markdown",
      "source": [
        "## Загрузка токенизатора и модели"
      ],
      "metadata": {
        "id": "XoASAcTs9DaE"
      }
    },
    {
      "cell_type": "markdown",
      "source": [
        "Я выбрала следующую бертоподобную модель, так как она была разработана для более удачных эмбеддингов предложений, а в нашем задании как раз классифицируются предложения, а не отдельные слова."
      ],
      "metadata": {
        "id": "fAchxDqQ9VZX"
      }
    },
    {
      "cell_type": "code",
      "source": [
        "PRE_TRAINED_MODEL_NAME = 'sentence-transformers/all-MiniLM-L6-v2'"
      ],
      "metadata": {
        "id": "0qlDs7sS88lT"
      },
      "execution_count": 9,
      "outputs": []
    },
    {
      "cell_type": "code",
      "source": [
        "tokenizer = AutoTokenizer.from_pretrained(PRE_TRAINED_MODEL_NAME)\n",
        "model = AutoModel.from_pretrained(PRE_TRAINED_MODEL_NAME)"
      ],
      "metadata": {
        "id": "Rb6YQp9s9OM7"
      },
      "execution_count": 10,
      "outputs": []
    },
    {
      "cell_type": "code",
      "source": [
        "# проверка, что токенизатор работает\n",
        "sample_txt = 'When was I last outside? I am stuck at home for 2 weeks.'\n",
        "tokens = tokenizer.tokenize(sample_txt)\n",
        "token_ids = tokenizer.convert_tokens_to_ids(tokens)\n",
        "\n",
        "print(f' Sentence: {sample_txt}')\n",
        "print(f'   Tokens: {tokens}')\n",
        "print(f'Token IDs: {token_ids}')"
      ],
      "metadata": {
        "colab": {
          "base_uri": "https://localhost:8080/"
        },
        "id": "qXxhE9lp9Rpd",
        "outputId": "7eb15938-6c62-4f97-f190-43d21d949b33"
      },
      "execution_count": 11,
      "outputs": [
        {
          "output_type": "stream",
          "name": "stdout",
          "text": [
            " Sentence: When was I last outside? I am stuck at home for 2 weeks.\n",
            "   Tokens: ['when', 'was', 'i', 'last', 'outside', '?', 'i', 'am', 'stuck', 'at', 'home', 'for', '2', 'weeks', '.']\n",
            "Token IDs: [2043, 2001, 1045, 2197, 2648, 1029, 1045, 2572, 5881, 2012, 2188, 2005, 1016, 3134, 1012]\n"
          ]
        }
      ]
    },
    {
      "cell_type": "markdown",
      "source": [
        "## Создание датасета"
      ],
      "metadata": {
        "id": "jgOpAcLTKNBa"
      }
    },
    {
      "cell_type": "code",
      "source": [
        "class GPReviewDataset(Dataset):\n",
        "\n",
        "  def __init__(self, reviews, targets):\n",
        "    self.encodings = reviews\n",
        "    self.labels = targets\n",
        "  \n",
        "  def __len__(self):\n",
        "    return len(self.encodings[\"input_ids\"])\n",
        "  \n",
        "  def __getitem__(self, ind):\n",
        "      item = {key: torch.tensor(val[ind]) for key, val in self.encodings.items()}\n",
        "      if self.labels:\n",
        "          item[\"labels\"] = torch.tensor(self.labels[ind])\n",
        "      return item"
      ],
      "metadata": {
        "id": "0A1yCn_kHtxb"
      },
      "execution_count": 12,
      "outputs": []
    },
    {
      "cell_type": "code",
      "source": [
        "RANDOM_SEED = 1\n",
        "np.random.seed(RANDOM_SEED)\n",
        "torch.manual_seed(RANDOM_SEED)\n",
        "device = torch.device(\"cuda:0\" if torch.cuda.is_available() else \"cpu\")"
      ],
      "metadata": {
        "id": "eL0GcVYH9twx"
      },
      "execution_count": 13,
      "outputs": []
    },
    {
      "cell_type": "code",
      "source": [
        "device"
      ],
      "metadata": {
        "colab": {
          "base_uri": "https://localhost:8080/"
        },
        "id": "RzikbQuG9vtZ",
        "outputId": "e778b32a-9425-4b54-eec7-8424b9bb2540"
      },
      "execution_count": 15,
      "outputs": [
        {
          "output_type": "execute_result",
          "data": {
            "text/plain": [
              "device(type='cuda', index=0)"
            ]
          },
          "metadata": {},
          "execution_count": 15
        }
      ]
    },
    {
      "cell_type": "code",
      "source": [
        "df_train, df_test = train_test_split(df, test_size=0.1, random_state=RANDOM_SEED)\n",
        "df_val, df_test = train_test_split(df_test, test_size=0.5, random_state=RANDOM_SEED)\n",
        "\n",
        "df_train.shape, df_val.shape, df_test.shape"
      ],
      "metadata": {
        "colab": {
          "base_uri": "https://localhost:8080/"
        },
        "id": "NDtRQF2Q_-vk",
        "outputId": "7cf57b79-3336-49fb-f099-4cd09dbbcfea"
      },
      "execution_count": 14,
      "outputs": [
        {
          "output_type": "execute_result",
          "data": {
            "text/plain": [
              "((14171, 12), (787, 12), (788, 12))"
            ]
          },
          "metadata": {},
          "execution_count": 14
        }
      ]
    },
    {
      "cell_type": "code",
      "source": [
        "MAX_LEN = 160"
      ],
      "metadata": {
        "id": "xrWnXO2E9pm_"
      },
      "execution_count": 15,
      "outputs": []
    },
    {
      "cell_type": "code",
      "source": [
        "train_encodings = tokenizer(list(df_train.content), truncation=True, padding=True, max_length=MAX_LEN)\n",
        "val_encodings = tokenizer(list(df_val.content), truncation=True, padding=True, max_length=MAX_LEN)\n",
        "test_encodings = tokenizer(list(df_test.content), truncation=True, padding=True, max_length=MAX_LEN)"
      ],
      "metadata": {
        "id": "APRcDAHFIU2d"
      },
      "execution_count": 16,
      "outputs": []
    },
    {
      "cell_type": "code",
      "source": [
        "train_dataset = GPReviewDataset(train_encodings, list(df_train.sentiment))\n",
        "val_dataset = GPReviewDataset(val_encodings, list(df_val.sentiment))\n",
        "test_dataset = GPReviewDataset(test_encodings, list(df_test.sentiment))"
      ],
      "metadata": {
        "id": "hOrtHEQgJQKz"
      },
      "execution_count": 17,
      "outputs": []
    },
    {
      "cell_type": "code",
      "source": [
        "train_dataset[0]"
      ],
      "metadata": {
        "colab": {
          "base_uri": "https://localhost:8080/"
        },
        "id": "HsMH3gPsKvei",
        "outputId": "3723dbbe-1781-4b12-949d-9a4b67612be8"
      },
      "execution_count": 18,
      "outputs": [
        {
          "output_type": "execute_result",
          "data": {
            "text/plain": [
              "{'attention_mask': tensor([1, 1, 1, 1, 1, 1, 1, 1, 1, 1, 1, 1, 1, 1, 1, 1, 1, 1, 1, 1, 1, 1, 1, 1,\n",
              "         1, 1, 1, 1, 1, 1, 1, 1, 1, 1, 1, 1, 1, 1, 1, 1, 1, 1, 1, 1, 1, 1, 1, 0,\n",
              "         0, 0, 0, 0, 0, 0, 0, 0, 0, 0, 0, 0, 0, 0, 0, 0, 0, 0, 0, 0, 0, 0, 0, 0,\n",
              "         0, 0, 0, 0, 0, 0, 0, 0, 0, 0, 0, 0, 0, 0, 0, 0, 0, 0, 0, 0, 0, 0, 0, 0,\n",
              "         0, 0, 0, 0, 0, 0, 0, 0, 0, 0, 0, 0, 0, 0, 0, 0, 0, 0, 0, 0, 0, 0, 0, 0,\n",
              "         0, 0, 0, 0, 0, 0, 0, 0, 0, 0, 0, 0, 0, 0, 0, 0, 0, 0, 0, 0, 0, 0, 0, 0,\n",
              "         0, 0, 0, 0, 0, 0, 0, 0, 0, 0, 0, 0, 0, 0, 0, 0]),\n",
              " 'input_ids': tensor([  101,  1045,  2018,  1037,  3291,  2007, 25925,  2000, 12882,  1012,\n",
              "          2027,  2020,  4248,  2007,  2037,  3433,  1998,  4964,  1996,  3291,\n",
              "          2157,  2185,  1012,  2009,  1005,  1055,  1037,  2204, 10439,  2005,\n",
              "          2216,  5220,  2007,  1996,  5951, 11821,  2100,  2291,  1010,  1998,\n",
              "         26351,  2015,  2092,  2408,  5733,  1012,   102,     0,     0,     0,\n",
              "             0,     0,     0,     0,     0,     0,     0,     0,     0,     0,\n",
              "             0,     0,     0,     0,     0,     0,     0,     0,     0,     0,\n",
              "             0,     0,     0,     0,     0,     0,     0,     0,     0,     0,\n",
              "             0,     0,     0,     0,     0,     0,     0,     0,     0,     0,\n",
              "             0,     0,     0,     0,     0,     0,     0,     0,     0,     0,\n",
              "             0,     0,     0,     0,     0,     0,     0,     0,     0,     0,\n",
              "             0,     0,     0,     0,     0,     0,     0,     0,     0,     0,\n",
              "             0,     0,     0,     0,     0,     0,     0,     0,     0,     0,\n",
              "             0,     0,     0,     0,     0,     0,     0,     0,     0,     0,\n",
              "             0,     0,     0,     0,     0,     0,     0,     0,     0,     0,\n",
              "             0,     0,     0,     0,     0,     0,     0,     0,     0,     0]),\n",
              " 'labels': tensor(2),\n",
              " 'token_type_ids': tensor([0, 0, 0, 0, 0, 0, 0, 0, 0, 0, 0, 0, 0, 0, 0, 0, 0, 0, 0, 0, 0, 0, 0, 0,\n",
              "         0, 0, 0, 0, 0, 0, 0, 0, 0, 0, 0, 0, 0, 0, 0, 0, 0, 0, 0, 0, 0, 0, 0, 0,\n",
              "         0, 0, 0, 0, 0, 0, 0, 0, 0, 0, 0, 0, 0, 0, 0, 0, 0, 0, 0, 0, 0, 0, 0, 0,\n",
              "         0, 0, 0, 0, 0, 0, 0, 0, 0, 0, 0, 0, 0, 0, 0, 0, 0, 0, 0, 0, 0, 0, 0, 0,\n",
              "         0, 0, 0, 0, 0, 0, 0, 0, 0, 0, 0, 0, 0, 0, 0, 0, 0, 0, 0, 0, 0, 0, 0, 0,\n",
              "         0, 0, 0, 0, 0, 0, 0, 0, 0, 0, 0, 0, 0, 0, 0, 0, 0, 0, 0, 0, 0, 0, 0, 0,\n",
              "         0, 0, 0, 0, 0, 0, 0, 0, 0, 0, 0, 0, 0, 0, 0, 0])}"
            ]
          },
          "metadata": {},
          "execution_count": 18
        }
      ]
    },
    {
      "cell_type": "markdown",
      "source": [
        "## Класс модели"
      ],
      "metadata": {
        "id": "mFd8DUbXAXX2"
      }
    },
    {
      "cell_type": "code",
      "source": [
        "# класс поверх класса BertModel\n",
        "# (AutoModel в данном случае загрузит класс BertModel)\n",
        "\n",
        "class SentimentClassifier(nn.Module):\n",
        "\n",
        "  def __init__(self, n_classes):\n",
        "    super().__init__()\n",
        "    self.sent_bert = AutoModel.from_pretrained(PRE_TRAINED_MODEL_NAME)\n",
        "    self.drop = nn.Dropout(p=0.3)\n",
        "    self.out = nn.Linear(self.sent_bert.config.hidden_size, n_classes)\n",
        "  \n",
        "  def forward(self, input_ids, attention_mask, token_type_ids, labels):\n",
        "    _, pooled_output = self.sent_bert(\n",
        "      input_ids=input_ids,\n",
        "      attention_mask=attention_mask,\n",
        "      token_type_ids=token_type_ids,\n",
        "      return_dict=False)\n",
        "    output = self.drop(pooled_output) \n",
        "    output = self.out(output)\n",
        "    device = input_ids.device\n",
        "\n",
        "    loss_fn = nn.CrossEntropyLoss().to(device) # добавляю подсчет лосса в модель, чтобы Trainer работал как надо\n",
        "    if labels is not None:\n",
        "      loss = loss_fn(output, labels)\n",
        "    else:\n",
        "      return output\n",
        "    return loss, output"
      ],
      "metadata": {
        "id": "4u5Y0E5TARvM"
      },
      "execution_count": 43,
      "outputs": []
    },
    {
      "cell_type": "code",
      "source": [
        "model = SentimentClassifier(len(class_names))\n",
        "model = model.to(device)"
      ],
      "metadata": {
        "id": "FmHDjY_xAej2",
        "colab": {
          "base_uri": "https://localhost:8080/"
        },
        "outputId": "612b8b90-c11b-4f23-ab06-902f5d9c4d65"
      },
      "execution_count": 44,
      "outputs": [
        {
          "output_type": "stream",
          "name": "stderr",
          "text": [
            "loading configuration file https://huggingface.co/sentence-transformers/all-MiniLM-L6-v2/resolve/main/config.json from cache at /root/.cache/huggingface/transformers/638ad0a5316af721f9c51d99b662379dfa3d511f9ac3fc035e54613c8581fc6a.e04b227431c36320dd2099e8f0d4f31a771996a92811dd8bcb453cc6291db001\n",
            "Model config BertConfig {\n",
            "  \"_name_or_path\": \"sentence-transformers/all-MiniLM-L6-v2\",\n",
            "  \"architectures\": [\n",
            "    \"BertModel\"\n",
            "  ],\n",
            "  \"attention_probs_dropout_prob\": 0.1,\n",
            "  \"classifier_dropout\": null,\n",
            "  \"gradient_checkpointing\": false,\n",
            "  \"hidden_act\": \"gelu\",\n",
            "  \"hidden_dropout_prob\": 0.1,\n",
            "  \"hidden_size\": 384,\n",
            "  \"initializer_range\": 0.02,\n",
            "  \"intermediate_size\": 1536,\n",
            "  \"layer_norm_eps\": 1e-12,\n",
            "  \"max_position_embeddings\": 512,\n",
            "  \"model_type\": \"bert\",\n",
            "  \"num_attention_heads\": 12,\n",
            "  \"num_hidden_layers\": 6,\n",
            "  \"pad_token_id\": 0,\n",
            "  \"position_embedding_type\": \"absolute\",\n",
            "  \"transformers_version\": \"4.17.0\",\n",
            "  \"type_vocab_size\": 2,\n",
            "  \"use_cache\": true,\n",
            "  \"vocab_size\": 30522\n",
            "}\n",
            "\n",
            "loading weights file https://huggingface.co/sentence-transformers/all-MiniLM-L6-v2/resolve/main/pytorch_model.bin from cache at /root/.cache/huggingface/transformers/b83bfc481e9d88e36fd72a3b8bb3bd577568db0daf213e4cd0a94ac3a2f4dfa2.7df9d891b064d501e82f94319f749bc86f649d1b7d7308a3db7f167b1377df79\n",
            "All model checkpoint weights were used when initializing BertModel.\n",
            "\n",
            "All the weights of BertModel were initialized from the model checkpoint at sentence-transformers/all-MiniLM-L6-v2.\n",
            "If your task is similar to the task the model of the checkpoint was trained on, you can already use BertModel for predictions without further training.\n"
          ]
        }
      ]
    },
    {
      "cell_type": "markdown",
      "source": [
        "## Гиперпараметры и метрики для Trainer\n",
        "\n",
        "Функция подсчета метрик и гиперпараметры не будут меняться для всех последующих заданий, чтобы результаты были сравнимы\n"
      ],
      "metadata": {
        "id": "915heMgb8oWo"
      }
    },
    {
      "cell_type": "code",
      "source": [
        "def compute_metrics(pred):\n",
        "    labels = pred.label_ids\n",
        "    preds = pred.predictions.argmax(-1)\n",
        "    precision, recall, f1, _ = precision_recall_fscore_support(labels, preds, average='macro')\n",
        "    acc = accuracy_score(labels, preds)\n",
        "    return {\n",
        "        'accuracy': acc,\n",
        "        'f1': f1,\n",
        "        'precision': precision,\n",
        "        'recall': recall\n",
        "    }"
      ],
      "metadata": {
        "id": "P-5SoZ6cBx8q"
      },
      "execution_count": 23,
      "outputs": []
    },
    {
      "cell_type": "code",
      "source": [
        "training_args = TrainingArguments(\n",
        "    output_dir='./results',\n",
        "    num_train_epochs=2,\n",
        "    per_device_train_batch_size=16,\n",
        "    per_device_eval_batch_size=16,  \n",
        "    warmup_steps=500,               \n",
        "    weight_decay=0.01,               \n",
        "    logging_dir='./logs',            \n",
        "    logging_steps=100,\n",
        "    load_best_model_at_end=True, # пусть загружает лучшую модель для финальной оценки\n",
        "    evaluation_strategy='steps', # пусть проводит валидацию каждые 500 шагов\n",
        "    save_strategy='steps',\n",
        "    eval_steps=500\n",
        ")"
      ],
      "metadata": {
        "id": "aZY-JrbLCSaF"
      },
      "execution_count": 24,
      "outputs": []
    },
    {
      "cell_type": "markdown",
      "source": [
        "## Задание 1\n",
        "Обучите ту модель, которую мы разбирали на занятии (класс SentimentClassifier из тетрадки) - Обучение с помощью Trainer"
      ],
      "metadata": {
        "id": "AjeYkUjKAuLO"
      }
    },
    {
      "cell_type": "code",
      "source": [
        "trainer = Trainer(\n",
        "    model=model,\n",
        "    args=training_args,\n",
        "    train_dataset=train_dataset,\n",
        "    eval_dataset=val_dataset,            \n",
        "    compute_metrics = compute_metrics,\n",
        "    callbacks=[EarlyStoppingCallback(early_stopping_patience=3)]  # пусть останавливается, когда улучшения прекращаются\n",
        ")"
      ],
      "metadata": {
        "id": "3XYzYtADCiCa"
      },
      "execution_count": 48,
      "outputs": []
    },
    {
      "cell_type": "code",
      "source": [
        "train_result = trainer.train()"
      ],
      "metadata": {
        "colab": {
          "base_uri": "https://localhost:8080/",
          "height": 710
        },
        "id": "NqvPqyMxpjAV",
        "outputId": "eb422774-cf33-4df8-8e66-53582439db90"
      },
      "execution_count": 49,
      "outputs": [
        {
          "output_type": "stream",
          "name": "stderr",
          "text": [
            "/usr/local/lib/python3.7/dist-packages/transformers/optimization.py:309: FutureWarning: This implementation of AdamW is deprecated and will be removed in a future version. Use the PyTorch implementation torch.optim.AdamW instead, or set `no_deprecation_warning=True` to disable this warning\n",
            "  FutureWarning,\n",
            "***** Running training *****\n",
            "  Num examples = 14171\n",
            "  Num Epochs = 2\n",
            "  Instantaneous batch size per device = 16\n",
            "  Total train batch size (w. parallel, distributed & accumulation) = 16\n",
            "  Gradient Accumulation steps = 1\n",
            "  Total optimization steps = 1772\n"
          ]
        },
        {
          "output_type": "display_data",
          "data": {
            "text/plain": [
              "<IPython.core.display.HTML object>"
            ],
            "text/html": [
              "\n",
              "    <div>\n",
              "      \n",
              "      <progress value='1772' max='1772' style='width:300px; height:20px; vertical-align: middle;'></progress>\n",
              "      [1772/1772 06:05, Epoch 2/2]\n",
              "    </div>\n",
              "    <table border=\"1\" class=\"dataframe\">\n",
              "  <thead>\n",
              " <tr style=\"text-align: left;\">\n",
              "      <th>Step</th>\n",
              "      <th>Training Loss</th>\n",
              "      <th>Validation Loss</th>\n",
              "      <th>Accuracy</th>\n",
              "      <th>F1</th>\n",
              "      <th>Precision</th>\n",
              "      <th>Recall</th>\n",
              "    </tr>\n",
              "  </thead>\n",
              "  <tbody>\n",
              "    <tr>\n",
              "      <td>500</td>\n",
              "      <td>0.716700</td>\n",
              "      <td>0.685597</td>\n",
              "      <td>0.686150</td>\n",
              "      <td>0.676414</td>\n",
              "      <td>0.684012</td>\n",
              "      <td>0.674614</td>\n",
              "    </tr>\n",
              "    <tr>\n",
              "      <td>1000</td>\n",
              "      <td>0.610100</td>\n",
              "      <td>0.620218</td>\n",
              "      <td>0.720457</td>\n",
              "      <td>0.716433</td>\n",
              "      <td>0.721721</td>\n",
              "      <td>0.714328</td>\n",
              "    </tr>\n",
              "    <tr>\n",
              "      <td>1500</td>\n",
              "      <td>0.546800</td>\n",
              "      <td>0.605028</td>\n",
              "      <td>0.750953</td>\n",
              "      <td>0.745166</td>\n",
              "      <td>0.750553</td>\n",
              "      <td>0.743518</td>\n",
              "    </tr>\n",
              "  </tbody>\n",
              "</table><p>"
            ]
          },
          "metadata": {}
        },
        {
          "output_type": "stream",
          "name": "stderr",
          "text": [
            "***** Running Evaluation *****\n",
            "  Num examples = 787\n",
            "  Batch size = 16\n",
            "Saving model checkpoint to ./results/checkpoint-500\n",
            "Trainer.model is not a `PreTrainedModel`, only saving its state dict.\n",
            "***** Running Evaluation *****\n",
            "  Num examples = 787\n",
            "  Batch size = 16\n",
            "Saving model checkpoint to ./results/checkpoint-1000\n",
            "Trainer.model is not a `PreTrainedModel`, only saving its state dict.\n",
            "***** Running Evaluation *****\n",
            "  Num examples = 787\n",
            "  Batch size = 16\n",
            "Saving model checkpoint to ./results/checkpoint-1500\n",
            "Trainer.model is not a `PreTrainedModel`, only saving its state dict.\n",
            "\n",
            "\n",
            "Training completed. Do not forget to share your model on huggingface.co/models =)\n",
            "\n",
            "\n",
            "Loading best model from ./results/checkpoint-1500 (score: 0.6050283908843994).\n"
          ]
        }
      ]
    },
    {
      "cell_type": "code",
      "source": [
        "trainer.log_metrics(\"train\", train_result.metrics)"
      ],
      "metadata": {
        "colab": {
          "base_uri": "https://localhost:8080/"
        },
        "id": "rRN-Hcox1Z3p",
        "outputId": "491637ce-c393-4881-c37d-481a7ec5273c"
      },
      "execution_count": 50,
      "outputs": [
        {
          "output_type": "stream",
          "name": "stdout",
          "text": [
            "***** train metrics *****\n",
            "  epoch                    =        2.0\n",
            "  total_flos               =        0GF\n",
            "  train_loss               =     0.6751\n",
            "  train_runtime            = 0:06:05.50\n",
            "  train_samples_per_second =     77.542\n",
            "  train_steps_per_second   =      4.848\n"
          ]
        }
      ]
    },
    {
      "cell_type": "code",
      "source": [
        "trainer.evaluate()"
      ],
      "metadata": {
        "colab": {
          "base_uri": "https://localhost:8080/",
          "height": 245
        },
        "id": "-w_WRoeHpmDq",
        "outputId": "220e30c7-16ef-4cec-ef7e-e78b9aec335e"
      },
      "execution_count": 51,
      "outputs": [
        {
          "output_type": "stream",
          "name": "stderr",
          "text": [
            "***** Running Evaluation *****\n",
            "  Num examples = 787\n",
            "  Batch size = 16\n"
          ]
        },
        {
          "output_type": "display_data",
          "data": {
            "text/plain": [
              "<IPython.core.display.HTML object>"
            ],
            "text/html": [
              "\n",
              "    <div>\n",
              "      \n",
              "      <progress value='50' max='50' style='width:300px; height:20px; vertical-align: middle;'></progress>\n",
              "      [50/50 00:03]\n",
              "    </div>\n",
              "    "
            ]
          },
          "metadata": {}
        },
        {
          "output_type": "execute_result",
          "data": {
            "text/plain": [
              "{'epoch': 2.0,\n",
              " 'eval_accuracy': 0.7509529860228716,\n",
              " 'eval_f1': 0.7451662353075917,\n",
              " 'eval_loss': 0.6050283908843994,\n",
              " 'eval_precision': 0.7505525942553773,\n",
              " 'eval_recall': 0.7435175867356719,\n",
              " 'eval_runtime': 3.4684,\n",
              " 'eval_samples_per_second': 226.904,\n",
              " 'eval_steps_per_second': 14.416}"
            ]
          },
          "metadata": {},
          "execution_count": 51
        }
      ]
    },
    {
      "cell_type": "code",
      "source": [
        "test_res = trainer.evaluate(eval_dataset=test_dataset, metric_key_prefix=\"test\")"
      ],
      "metadata": {
        "colab": {
          "base_uri": "https://localhost:8080/",
          "height": 107
        },
        "id": "WhJUx658Xr6v",
        "outputId": "754a3981-df75-4735-8d1b-b96361443dc4"
      },
      "execution_count": 52,
      "outputs": [
        {
          "output_type": "stream",
          "name": "stderr",
          "text": [
            "***** Running Evaluation *****\n",
            "  Num examples = 788\n",
            "  Batch size = 16\n"
          ]
        },
        {
          "output_type": "display_data",
          "data": {
            "text/plain": [
              "<IPython.core.display.HTML object>"
            ],
            "text/html": [
              "\n",
              "    <div>\n",
              "      \n",
              "      <progress value='100' max='50' style='width:300px; height:20px; vertical-align: middle;'></progress>\n",
              "      [50/50 00:10]\n",
              "    </div>\n",
              "    "
            ]
          },
          "metadata": {}
        },
        {
          "output_type": "stream",
          "name": "stderr",
          "text": [
            "early stopping required metric_for_best_model, but did not find eval_loss so early stopping is disabled\n"
          ]
        }
      ]
    },
    {
      "cell_type": "code",
      "source": [
        "print('Test metrics')\n",
        "print('')\n",
        "print('Accuracy: {:.3f}'.format(test_res['test_accuracy']))\n",
        "print('F1: {:.3f}'.format(test_res['test_f1']))\n",
        "print('Precision: {:.3f}'.format(test_res['test_precision']))\n",
        "print('Recall: {:.3f}'.format(test_res['test_recall']))"
      ],
      "metadata": {
        "colab": {
          "base_uri": "https://localhost:8080/"
        },
        "id": "uzgL2TSOz2K_",
        "outputId": "a9acdcdb-0a63-4954-ef9c-f6ed3cb9645d"
      },
      "execution_count": 53,
      "outputs": [
        {
          "output_type": "stream",
          "name": "stdout",
          "text": [
            "Test metrics\n",
            "\n",
            "Accuracy: 0.731\n",
            "F1: 0.726\n",
            "Precision: 0.736\n",
            "Recall: 0.726\n"
          ]
        }
      ]
    },
    {
      "cell_type": "markdown",
      "source": [
        "#### Протестируем на трех отзывах из Google play\n",
        "Отзывы в порядке 3 звезды, 5 звезд, 1 звезда, то есть neutral, positive, negative"
      ],
      "metadata": {
        "id": "BP2piXVCHh-9"
      }
    },
    {
      "cell_type": "code",
      "source": [
        "# 3 звезды, 5 звезд, 1 звезда\n",
        "\n",
        "reviews = [\"\"\"While yes it is calming and soothing to play...for the most part. It's not all that. Zen mode is nice and all bit most gamers want a challenge. This is a collecting gems kind of game. Sound track is great. Game play is cool, in a speed run way. With that in mind it is very fast paced for a \"relaxing...\"\"\",\n",
        "           \"\"\"My offical favorite mobile game, the music and art style is fantastic! I hope there are more games like this to come in the future.\"\"\",\n",
        "           \"\"\"The game was great at the beginning. Then, the game bombards you with every single ad that they can placed at any place where they could place an ad. Be ready to watch 15-30 second unskippable as after every action.\"\"\"]"
      ],
      "metadata": {
        "id": "zAgwCXuK_Jy4"
      },
      "execution_count": 54,
      "outputs": []
    },
    {
      "cell_type": "code",
      "source": [
        "def get_sentiment(review):\n",
        "  encoded_review = tokenizer.encode_plus(review,\n",
        "                          max_length=MAX_LEN,\n",
        "                          add_special_tokens=True,\n",
        "                          return_token_type_ids=True,\n",
        "                          padding='max_length',\n",
        "                          return_attention_mask=True,\n",
        "                          return_tensors='pt',\n",
        "                          truncation=True)\n",
        "  input_ids = encoded_review['input_ids'].to(device)\n",
        "  attention_mask = encoded_review['attention_mask'].to(device)\n",
        "  token_type_ids = encoded_review['token_type_ids'].to(device)\n",
        "  output = model(input_ids, attention_mask, token_type_ids, None)\n",
        "  prediction = torch.argmax(output, dim=1)\n",
        "  return class_names[prediction]"
      ],
      "metadata": {
        "id": "pNRk2EsyGMC4"
      },
      "execution_count": 59,
      "outputs": []
    },
    {
      "cell_type": "code",
      "source": [
        "for text in reviews:\n",
        "  sentiment = get_sentiment(text)\n",
        "  print(f'Text: {text}')\n",
        "  print(f'Sentiment: {sentiment}')\n",
        "  print('-'*10)"
      ],
      "metadata": {
        "colab": {
          "base_uri": "https://localhost:8080/"
        },
        "id": "EOdJ_bZ9GX6W",
        "outputId": "26e28118-bb20-4313-dd60-8fde85ed2cb3"
      },
      "execution_count": 61,
      "outputs": [
        {
          "output_type": "stream",
          "name": "stdout",
          "text": [
            "Text: While yes it is calming and soothing to play...for the most part. It's not all that. Zen mode is nice and all bit most gamers want a challenge. This is a collecting gems kind of game. Sound track is great. Game play is cool, in a speed run way. With that in mind it is very fast paced for a \"relaxing...\n",
            "Sentiment: positive\n",
            "----------\n",
            "Text: My offical favorite mobile game, the music and art style is fantastic! I hope there are more games like this to come in the future.\n",
            "Sentiment: positive\n",
            "----------\n",
            "Text: The game was great at the beginning. Then, the game bombards you with every single ad that they can placed at any place where they could place an ad. Be ready to watch 15-30 second unskippable as after every action.\n",
            "Sentiment: negative\n",
            "----------\n"
          ]
        }
      ]
    },
    {
      "cell_type": "markdown",
      "source": [
        "## Задание 2\n",
        "Измените модель, чтобы помимо выхода с пуллер-слоя использовался эмбеддинг cls-токена с последнего слоя"
      ],
      "metadata": {
        "id": "AOwJ0JeDRawV"
      }
    },
    {
      "cell_type": "code",
      "source": [
        "class SentimentClassifier(nn.Module):\n",
        "\n",
        "  def __init__(self, n_classes):\n",
        "    super().__init__()\n",
        "    self.sent_bert = AutoModel.from_pretrained(PRE_TRAINED_MODEL_NAME)\n",
        "    self.drop = nn.Dropout(p=0.3)\n",
        "    # теперь в последний слой передается в 2 раза больше параметров, так как\n",
        "    # мы теперь берем не только выход с пуллер-слоя, но и с cls-токена последнего слоя\n",
        "    self.out = nn.Linear(self.sent_bert.config.hidden_size * 2, n_classes)\n",
        "  \n",
        "  def forward(self, input_ids, attention_mask, token_type_ids, labels):\n",
        "    # теперь будет необходим последний скрытый слой, запишем его в нормальную переменную\n",
        "    last_hidden_state, pooled_output = self.sent_bert(  \n",
        "      input_ids=input_ids,\n",
        "      attention_mask=attention_mask,\n",
        "      token_type_ids=token_type_ids,\n",
        "      return_dict=False)\n",
        "    cls_hidden_states = last_hidden_state[:,0,:] # беру эмбеддинги первых токенов с последнего слоя для всех элементов в батче\n",
        "    output = torch.cat((pooled_output, cls_hidden_states), dim=1) # объединяю с выходом из пуллер-слоя\n",
        "    output = self.drop(output) # и подаю дальше объединенные параметры (теперь их там в 2 раза больше)\n",
        "    output = self.out(output)\n",
        "    device = input_ids.device\n",
        "\n",
        "    loss_fn = nn.CrossEntropyLoss().to(device)\n",
        "    if labels is not None:\n",
        "      loss = loss_fn(output, labels)\n",
        "    else:\n",
        "      return output\n",
        "    return loss, output"
      ],
      "metadata": {
        "id": "i_kAsDTURe_x"
      },
      "execution_count": 62,
      "outputs": []
    },
    {
      "cell_type": "code",
      "source": [
        "model = SentimentClassifier(len(class_names))\n",
        "model = model.to(device)"
      ],
      "metadata": {
        "colab": {
          "base_uri": "https://localhost:8080/"
        },
        "id": "KChCF5wKUpHr",
        "outputId": "846c07dc-f46a-4a82-b8e0-d622ae1f6b17"
      },
      "execution_count": 63,
      "outputs": [
        {
          "output_type": "stream",
          "name": "stderr",
          "text": [
            "loading configuration file https://huggingface.co/sentence-transformers/all-MiniLM-L6-v2/resolve/main/config.json from cache at /root/.cache/huggingface/transformers/638ad0a5316af721f9c51d99b662379dfa3d511f9ac3fc035e54613c8581fc6a.e04b227431c36320dd2099e8f0d4f31a771996a92811dd8bcb453cc6291db001\n",
            "Model config BertConfig {\n",
            "  \"_name_or_path\": \"sentence-transformers/all-MiniLM-L6-v2\",\n",
            "  \"architectures\": [\n",
            "    \"BertModel\"\n",
            "  ],\n",
            "  \"attention_probs_dropout_prob\": 0.1,\n",
            "  \"classifier_dropout\": null,\n",
            "  \"gradient_checkpointing\": false,\n",
            "  \"hidden_act\": \"gelu\",\n",
            "  \"hidden_dropout_prob\": 0.1,\n",
            "  \"hidden_size\": 384,\n",
            "  \"initializer_range\": 0.02,\n",
            "  \"intermediate_size\": 1536,\n",
            "  \"layer_norm_eps\": 1e-12,\n",
            "  \"max_position_embeddings\": 512,\n",
            "  \"model_type\": \"bert\",\n",
            "  \"num_attention_heads\": 12,\n",
            "  \"num_hidden_layers\": 6,\n",
            "  \"pad_token_id\": 0,\n",
            "  \"position_embedding_type\": \"absolute\",\n",
            "  \"transformers_version\": \"4.17.0\",\n",
            "  \"type_vocab_size\": 2,\n",
            "  \"use_cache\": true,\n",
            "  \"vocab_size\": 30522\n",
            "}\n",
            "\n",
            "loading weights file https://huggingface.co/sentence-transformers/all-MiniLM-L6-v2/resolve/main/pytorch_model.bin from cache at /root/.cache/huggingface/transformers/b83bfc481e9d88e36fd72a3b8bb3bd577568db0daf213e4cd0a94ac3a2f4dfa2.7df9d891b064d501e82f94319f749bc86f649d1b7d7308a3db7f167b1377df79\n",
            "All model checkpoint weights were used when initializing BertModel.\n",
            "\n",
            "All the weights of BertModel were initialized from the model checkpoint at sentence-transformers/all-MiniLM-L6-v2.\n",
            "If your task is similar to the task the model of the checkpoint was trained on, you can already use BertModel for predictions without further training.\n"
          ]
        }
      ]
    },
    {
      "cell_type": "code",
      "source": [
        "trainer = Trainer(\n",
        "    model=model,\n",
        "    args=training_args,\n",
        "    train_dataset=train_dataset,\n",
        "    eval_dataset=val_dataset,            \n",
        "    compute_metrics = compute_metrics,\n",
        "    callbacks=[EarlyStoppingCallback(early_stopping_patience=3)]\n",
        ")"
      ],
      "metadata": {
        "id": "mRCu7oIuUp2E"
      },
      "execution_count": 64,
      "outputs": []
    },
    {
      "cell_type": "code",
      "source": [
        "train_result = trainer.train()"
      ],
      "metadata": {
        "colab": {
          "base_uri": "https://localhost:8080/",
          "height": 710
        },
        "id": "ylEs9vyvWE4J",
        "outputId": "3c086bf8-d36e-47a9-f7b4-afc958c8a7ac"
      },
      "execution_count": 65,
      "outputs": [
        {
          "output_type": "stream",
          "name": "stderr",
          "text": [
            "/usr/local/lib/python3.7/dist-packages/transformers/optimization.py:309: FutureWarning: This implementation of AdamW is deprecated and will be removed in a future version. Use the PyTorch implementation torch.optim.AdamW instead, or set `no_deprecation_warning=True` to disable this warning\n",
            "  FutureWarning,\n",
            "***** Running training *****\n",
            "  Num examples = 14171\n",
            "  Num Epochs = 2\n",
            "  Instantaneous batch size per device = 16\n",
            "  Total train batch size (w. parallel, distributed & accumulation) = 16\n",
            "  Gradient Accumulation steps = 1\n",
            "  Total optimization steps = 1772\n"
          ]
        },
        {
          "output_type": "display_data",
          "data": {
            "text/plain": [
              "<IPython.core.display.HTML object>"
            ],
            "text/html": [
              "\n",
              "    <div>\n",
              "      \n",
              "      <progress value='1772' max='1772' style='width:300px; height:20px; vertical-align: middle;'></progress>\n",
              "      [1772/1772 06:09, Epoch 2/2]\n",
              "    </div>\n",
              "    <table border=\"1\" class=\"dataframe\">\n",
              "  <thead>\n",
              " <tr style=\"text-align: left;\">\n",
              "      <th>Step</th>\n",
              "      <th>Training Loss</th>\n",
              "      <th>Validation Loss</th>\n",
              "      <th>Accuracy</th>\n",
              "      <th>F1</th>\n",
              "      <th>Precision</th>\n",
              "      <th>Recall</th>\n",
              "    </tr>\n",
              "  </thead>\n",
              "  <tbody>\n",
              "    <tr>\n",
              "      <td>500</td>\n",
              "      <td>0.717300</td>\n",
              "      <td>0.682986</td>\n",
              "      <td>0.689962</td>\n",
              "      <td>0.684335</td>\n",
              "      <td>0.696784</td>\n",
              "      <td>0.680915</td>\n",
              "    </tr>\n",
              "    <tr>\n",
              "      <td>1000</td>\n",
              "      <td>0.589200</td>\n",
              "      <td>0.622687</td>\n",
              "      <td>0.729352</td>\n",
              "      <td>0.725786</td>\n",
              "      <td>0.732433</td>\n",
              "      <td>0.723729</td>\n",
              "    </tr>\n",
              "    <tr>\n",
              "      <td>1500</td>\n",
              "      <td>0.541600</td>\n",
              "      <td>0.621370</td>\n",
              "      <td>0.735705</td>\n",
              "      <td>0.729154</td>\n",
              "      <td>0.737171</td>\n",
              "      <td>0.727484</td>\n",
              "    </tr>\n",
              "  </tbody>\n",
              "</table><p>"
            ]
          },
          "metadata": {}
        },
        {
          "output_type": "stream",
          "name": "stderr",
          "text": [
            "***** Running Evaluation *****\n",
            "  Num examples = 787\n",
            "  Batch size = 16\n",
            "Saving model checkpoint to ./results/checkpoint-500\n",
            "Trainer.model is not a `PreTrainedModel`, only saving its state dict.\n",
            "***** Running Evaluation *****\n",
            "  Num examples = 787\n",
            "  Batch size = 16\n",
            "Saving model checkpoint to ./results/checkpoint-1000\n",
            "Trainer.model is not a `PreTrainedModel`, only saving its state dict.\n",
            "***** Running Evaluation *****\n",
            "  Num examples = 787\n",
            "  Batch size = 16\n",
            "Saving model checkpoint to ./results/checkpoint-1500\n",
            "Trainer.model is not a `PreTrainedModel`, only saving its state dict.\n",
            "\n",
            "\n",
            "Training completed. Do not forget to share your model on huggingface.co/models =)\n",
            "\n",
            "\n",
            "Loading best model from ./results/checkpoint-1500 (score: 0.6213703751564026).\n"
          ]
        }
      ]
    },
    {
      "cell_type": "code",
      "source": [
        "trainer.evaluate()"
      ],
      "metadata": {
        "colab": {
          "base_uri": "https://localhost:8080/",
          "height": 245
        },
        "outputId": "36be5425-2635-4c22-b432-144363590554",
        "id": "7SZr34xkJRgH"
      },
      "execution_count": 66,
      "outputs": [
        {
          "output_type": "stream",
          "name": "stderr",
          "text": [
            "***** Running Evaluation *****\n",
            "  Num examples = 787\n",
            "  Batch size = 16\n"
          ]
        },
        {
          "output_type": "display_data",
          "data": {
            "text/plain": [
              "<IPython.core.display.HTML object>"
            ],
            "text/html": [
              "\n",
              "    <div>\n",
              "      \n",
              "      <progress value='50' max='50' style='width:300px; height:20px; vertical-align: middle;'></progress>\n",
              "      [50/50 00:03]\n",
              "    </div>\n",
              "    "
            ]
          },
          "metadata": {}
        },
        {
          "output_type": "execute_result",
          "data": {
            "text/plain": [
              "{'epoch': 2.0,\n",
              " 'eval_accuracy': 0.735705209656925,\n",
              " 'eval_f1': 0.729154392858734,\n",
              " 'eval_loss': 0.6213703751564026,\n",
              " 'eval_precision': 0.7371705023527192,\n",
              " 'eval_recall': 0.7274839167625071,\n",
              " 'eval_runtime': 3.4614,\n",
              " 'eval_samples_per_second': 227.367,\n",
              " 'eval_steps_per_second': 14.445}"
            ]
          },
          "metadata": {},
          "execution_count": 66
        }
      ]
    },
    {
      "cell_type": "code",
      "source": [
        "test_res = trainer.evaluate(eval_dataset=test_dataset, metric_key_prefix=\"test\")"
      ],
      "metadata": {
        "colab": {
          "base_uri": "https://localhost:8080/",
          "height": 107
        },
        "outputId": "37bd5ac2-ec17-4ca5-bb93-2df9ca0bf0a9",
        "id": "fF8oeZQZJRgH"
      },
      "execution_count": 67,
      "outputs": [
        {
          "output_type": "stream",
          "name": "stderr",
          "text": [
            "***** Running Evaluation *****\n",
            "  Num examples = 788\n",
            "  Batch size = 16\n"
          ]
        },
        {
          "output_type": "display_data",
          "data": {
            "text/plain": [
              "<IPython.core.display.HTML object>"
            ],
            "text/html": [
              "\n",
              "    <div>\n",
              "      \n",
              "      <progress value='100' max='50' style='width:300px; height:20px; vertical-align: middle;'></progress>\n",
              "      [50/50 00:24]\n",
              "    </div>\n",
              "    "
            ]
          },
          "metadata": {}
        },
        {
          "output_type": "stream",
          "name": "stderr",
          "text": [
            "early stopping required metric_for_best_model, but did not find eval_loss so early stopping is disabled\n"
          ]
        }
      ]
    },
    {
      "cell_type": "code",
      "source": [
        "print('Test metrics')\n",
        "print('')\n",
        "print('Accuracy: {:.3f}'.format(test_res['test_accuracy']))\n",
        "print('F1: {:.3f}'.format(test_res['test_f1']))\n",
        "print('Precision: {:.3f}'.format(test_res['test_precision']))\n",
        "print('Recall: {:.3f}'.format(test_res['test_recall']))"
      ],
      "metadata": {
        "colab": {
          "base_uri": "https://localhost:8080/"
        },
        "id": "2-WdJgrjK3w2",
        "outputId": "fc97ab4a-02e6-49b5-e9ad-061d3fefd595"
      },
      "execution_count": 68,
      "outputs": [
        {
          "output_type": "stream",
          "name": "stdout",
          "text": [
            "Test metrics\n",
            "\n",
            "Accuracy: 0.730\n",
            "F1: 0.725\n",
            "Precision: 0.738\n",
            "Recall: 0.724\n"
          ]
        }
      ]
    },
    {
      "cell_type": "markdown",
      "source": [
        "Почти ничего не поменялось, но качество стало чуть пониже.  \n",
        "Accuracy упала с 0.731 до 0.730  \n",
        "F1 с 0.736 до 0.735  \n"
      ],
      "metadata": {
        "id": "okfq6WB7K6fw"
      }
    },
    {
      "cell_type": "code",
      "source": [
        "for text in reviews:\n",
        "  sentiment = get_sentiment(text)\n",
        "  print(f'Text: {text}')\n",
        "  print(f'Sentiment: {sentiment}')\n",
        "  print('-'*10)"
      ],
      "metadata": {
        "colab": {
          "base_uri": "https://localhost:8080/"
        },
        "outputId": "2df759cc-12a8-4bbc-dea8-2c775255a81a",
        "id": "Q30ceTUNJRgH"
      },
      "execution_count": 69,
      "outputs": [
        {
          "output_type": "stream",
          "name": "stdout",
          "text": [
            "Text: While yes it is calming and soothing to play...for the most part. It's not all that. Zen mode is nice and all bit most gamers want a challenge. This is a collecting gems kind of game. Sound track is great. Game play is cool, in a speed run way. With that in mind it is very fast paced for a \"relaxing...\n",
            "Sentiment: positive\n",
            "----------\n",
            "Text: My offical favorite mobile game, the music and art style is fantastic! I hope there are more games like this to come in the future.\n",
            "Sentiment: positive\n",
            "----------\n",
            "Text: The game was great at the beginning. Then, the game bombards you with every single ad that they can placed at any place where they could place an ad. Be ready to watch 15-30 second unskippable as after every action.\n",
            "Sentiment: negative\n",
            "----------\n"
          ]
        }
      ]
    },
    {
      "cell_type": "markdown",
      "source": [
        "## Задание 3\n",
        "Примените к данным готовую модель для классификации последовательности (типа BertForSequenceClassification)"
      ],
      "metadata": {
        "id": "H2lM6iSIYrYh"
      }
    },
    {
      "cell_type": "code",
      "source": [
        "# загружаю готовый класс и конфиг, чтобы его поменять\n",
        "\n",
        "from transformers import BertForSequenceClassification, BertConfig\n",
        "config = BertConfig.from_pretrained(PRE_TRAINED_MODEL_NAME)"
      ],
      "metadata": {
        "id": "Jk90KWikYsj4",
        "colab": {
          "base_uri": "https://localhost:8080/"
        },
        "outputId": "4c963e19-b291-490a-b46f-bf91da756880"
      },
      "execution_count": 70,
      "outputs": [
        {
          "output_type": "stream",
          "name": "stderr",
          "text": [
            "loading configuration file https://huggingface.co/sentence-transformers/all-MiniLM-L6-v2/resolve/main/config.json from cache at /root/.cache/huggingface/transformers/638ad0a5316af721f9c51d99b662379dfa3d511f9ac3fc035e54613c8581fc6a.e04b227431c36320dd2099e8f0d4f31a771996a92811dd8bcb453cc6291db001\n",
            "Model config BertConfig {\n",
            "  \"_name_or_path\": \"nreimers/MiniLM-L6-H384-uncased\",\n",
            "  \"architectures\": [\n",
            "    \"BertModel\"\n",
            "  ],\n",
            "  \"attention_probs_dropout_prob\": 0.1,\n",
            "  \"classifier_dropout\": null,\n",
            "  \"gradient_checkpointing\": false,\n",
            "  \"hidden_act\": \"gelu\",\n",
            "  \"hidden_dropout_prob\": 0.1,\n",
            "  \"hidden_size\": 384,\n",
            "  \"initializer_range\": 0.02,\n",
            "  \"intermediate_size\": 1536,\n",
            "  \"layer_norm_eps\": 1e-12,\n",
            "  \"max_position_embeddings\": 512,\n",
            "  \"model_type\": \"bert\",\n",
            "  \"num_attention_heads\": 12,\n",
            "  \"num_hidden_layers\": 6,\n",
            "  \"pad_token_id\": 0,\n",
            "  \"position_embedding_type\": \"absolute\",\n",
            "  \"transformers_version\": \"4.17.0\",\n",
            "  \"type_vocab_size\": 2,\n",
            "  \"use_cache\": true,\n",
            "  \"vocab_size\": 30522\n",
            "}\n",
            "\n"
          ]
        }
      ]
    },
    {
      "cell_type": "code",
      "source": [
        "# меняю количество классов в конфиге\n",
        "config.num_labels = len(class_names)"
      ],
      "metadata": {
        "id": "UoPahLAlhRxG"
      },
      "execution_count": 71,
      "outputs": []
    },
    {
      "cell_type": "code",
      "source": [
        "# загружаю модель с помощью готового класса и измененного конфига\n",
        "model = BertForSequenceClassification.from_pretrained(PRE_TRAINED_MODEL_NAME, config=config)\n",
        "model = model.to(device)"
      ],
      "metadata": {
        "colab": {
          "base_uri": "https://localhost:8080/"
        },
        "id": "6ZQ0ozykYy3H",
        "outputId": "07962fe2-bf02-4036-a40c-1f6f62be9eff"
      },
      "execution_count": 74,
      "outputs": [
        {
          "output_type": "stream",
          "name": "stderr",
          "text": [
            "loading weights file https://huggingface.co/sentence-transformers/all-MiniLM-L6-v2/resolve/main/pytorch_model.bin from cache at /root/.cache/huggingface/transformers/b83bfc481e9d88e36fd72a3b8bb3bd577568db0daf213e4cd0a94ac3a2f4dfa2.7df9d891b064d501e82f94319f749bc86f649d1b7d7308a3db7f167b1377df79\n",
            "All model checkpoint weights were used when initializing BertForSequenceClassification.\n",
            "\n",
            "Some weights of BertForSequenceClassification were not initialized from the model checkpoint at sentence-transformers/all-MiniLM-L6-v2 and are newly initialized: ['classifier.bias', 'classifier.weight']\n",
            "You should probably TRAIN this model on a down-stream task to be able to use it for predictions and inference.\n"
          ]
        }
      ]
    },
    {
      "cell_type": "code",
      "source": [
        "trainer = Trainer(\n",
        "    model=model,\n",
        "    args=training_args,\n",
        "    train_dataset=train_dataset,\n",
        "    eval_dataset=val_dataset,            \n",
        "    compute_metrics = compute_metrics,\n",
        "    callbacks=[EarlyStoppingCallback(early_stopping_patience=3)]\n",
        ")"
      ],
      "metadata": {
        "id": "zUp75lq0enUB"
      },
      "execution_count": 75,
      "outputs": []
    },
    {
      "cell_type": "code",
      "source": [
        "train_result = trainer.train()"
      ],
      "metadata": {
        "colab": {
          "base_uri": "https://localhost:8080/",
          "height": 762
        },
        "id": "9Mu66c0MepP_",
        "outputId": "90a81125-d52c-4e68-e530-bea4ee389c7f"
      },
      "execution_count": 76,
      "outputs": [
        {
          "output_type": "stream",
          "name": "stderr",
          "text": [
            "/usr/local/lib/python3.7/dist-packages/transformers/optimization.py:309: FutureWarning: This implementation of AdamW is deprecated and will be removed in a future version. Use the PyTorch implementation torch.optim.AdamW instead, or set `no_deprecation_warning=True` to disable this warning\n",
            "  FutureWarning,\n",
            "***** Running training *****\n",
            "  Num examples = 14171\n",
            "  Num Epochs = 2\n",
            "  Instantaneous batch size per device = 16\n",
            "  Total train batch size (w. parallel, distributed & accumulation) = 16\n",
            "  Gradient Accumulation steps = 1\n",
            "  Total optimization steps = 1772\n"
          ]
        },
        {
          "output_type": "display_data",
          "data": {
            "text/plain": [
              "<IPython.core.display.HTML object>"
            ],
            "text/html": [
              "\n",
              "    <div>\n",
              "      \n",
              "      <progress value='1772' max='1772' style='width:300px; height:20px; vertical-align: middle;'></progress>\n",
              "      [1772/1772 06:08, Epoch 2/2]\n",
              "    </div>\n",
              "    <table border=\"1\" class=\"dataframe\">\n",
              "  <thead>\n",
              " <tr style=\"text-align: left;\">\n",
              "      <th>Step</th>\n",
              "      <th>Training Loss</th>\n",
              "      <th>Validation Loss</th>\n",
              "      <th>Accuracy</th>\n",
              "      <th>F1</th>\n",
              "      <th>Precision</th>\n",
              "      <th>Recall</th>\n",
              "    </tr>\n",
              "  </thead>\n",
              "  <tbody>\n",
              "    <tr>\n",
              "      <td>500</td>\n",
              "      <td>0.719000</td>\n",
              "      <td>0.678852</td>\n",
              "      <td>0.684879</td>\n",
              "      <td>0.677463</td>\n",
              "      <td>0.687039</td>\n",
              "      <td>0.674657</td>\n",
              "    </tr>\n",
              "    <tr>\n",
              "      <td>1000</td>\n",
              "      <td>0.607100</td>\n",
              "      <td>0.619983</td>\n",
              "      <td>0.724269</td>\n",
              "      <td>0.719207</td>\n",
              "      <td>0.722442</td>\n",
              "      <td>0.717945</td>\n",
              "    </tr>\n",
              "    <tr>\n",
              "      <td>1500</td>\n",
              "      <td>0.556300</td>\n",
              "      <td>0.616797</td>\n",
              "      <td>0.742058</td>\n",
              "      <td>0.736083</td>\n",
              "      <td>0.745513</td>\n",
              "      <td>0.734167</td>\n",
              "    </tr>\n",
              "  </tbody>\n",
              "</table><p>"
            ]
          },
          "metadata": {}
        },
        {
          "output_type": "stream",
          "name": "stderr",
          "text": [
            "***** Running Evaluation *****\n",
            "  Num examples = 787\n",
            "  Batch size = 16\n",
            "Saving model checkpoint to ./results/checkpoint-500\n",
            "Configuration saved in ./results/checkpoint-500/config.json\n",
            "Model weights saved in ./results/checkpoint-500/pytorch_model.bin\n",
            "***** Running Evaluation *****\n",
            "  Num examples = 787\n",
            "  Batch size = 16\n",
            "Saving model checkpoint to ./results/checkpoint-1000\n",
            "Configuration saved in ./results/checkpoint-1000/config.json\n",
            "Model weights saved in ./results/checkpoint-1000/pytorch_model.bin\n",
            "***** Running Evaluation *****\n",
            "  Num examples = 787\n",
            "  Batch size = 16\n",
            "Saving model checkpoint to ./results/checkpoint-1500\n",
            "Configuration saved in ./results/checkpoint-1500/config.json\n",
            "Model weights saved in ./results/checkpoint-1500/pytorch_model.bin\n",
            "\n",
            "\n",
            "Training completed. Do not forget to share your model on huggingface.co/models =)\n",
            "\n",
            "\n",
            "Loading best model from ./results/checkpoint-1500 (score: 0.6167969703674316).\n"
          ]
        }
      ]
    },
    {
      "cell_type": "code",
      "source": [
        "trainer.evaluate()"
      ],
      "metadata": {
        "colab": {
          "base_uri": "https://localhost:8080/",
          "height": 245
        },
        "outputId": "c34a820f-33ac-44ff-dba2-d746327dd5bc",
        "id": "p9O3v3hgL_-K"
      },
      "execution_count": 77,
      "outputs": [
        {
          "output_type": "stream",
          "name": "stderr",
          "text": [
            "***** Running Evaluation *****\n",
            "  Num examples = 787\n",
            "  Batch size = 16\n"
          ]
        },
        {
          "output_type": "display_data",
          "data": {
            "text/plain": [
              "<IPython.core.display.HTML object>"
            ],
            "text/html": [
              "\n",
              "    <div>\n",
              "      \n",
              "      <progress value='50' max='50' style='width:300px; height:20px; vertical-align: middle;'></progress>\n",
              "      [50/50 00:03]\n",
              "    </div>\n",
              "    "
            ]
          },
          "metadata": {}
        },
        {
          "output_type": "execute_result",
          "data": {
            "text/plain": [
              "{'epoch': 2.0,\n",
              " 'eval_accuracy': 0.7420584498094028,\n",
              " 'eval_f1': 0.7360826822653816,\n",
              " 'eval_loss': 0.6167969703674316,\n",
              " 'eval_precision': 0.7455130510471069,\n",
              " 'eval_recall': 0.7341674453709027,\n",
              " 'eval_runtime': 3.4086,\n",
              " 'eval_samples_per_second': 230.883,\n",
              " 'eval_steps_per_second': 14.669}"
            ]
          },
          "metadata": {},
          "execution_count": 77
        }
      ]
    },
    {
      "cell_type": "code",
      "source": [
        "test_res = trainer.evaluate(eval_dataset=test_dataset, metric_key_prefix=\"test\")"
      ],
      "metadata": {
        "colab": {
          "base_uri": "https://localhost:8080/",
          "height": 107
        },
        "outputId": "fa35d2b5-1050-4e45-955b-1e9cb6ab0d04",
        "id": "5Lt8EBw0L_-K"
      },
      "execution_count": 78,
      "outputs": [
        {
          "output_type": "stream",
          "name": "stderr",
          "text": [
            "***** Running Evaluation *****\n",
            "  Num examples = 788\n",
            "  Batch size = 16\n"
          ]
        },
        {
          "output_type": "display_data",
          "data": {
            "text/plain": [
              "<IPython.core.display.HTML object>"
            ],
            "text/html": [
              "\n",
              "    <div>\n",
              "      \n",
              "      <progress value='100' max='50' style='width:300px; height:20px; vertical-align: middle;'></progress>\n",
              "      [50/50 00:06]\n",
              "    </div>\n",
              "    "
            ]
          },
          "metadata": {}
        },
        {
          "output_type": "stream",
          "name": "stderr",
          "text": [
            "early stopping required metric_for_best_model, but did not find eval_loss so early stopping is disabled\n"
          ]
        }
      ]
    },
    {
      "cell_type": "code",
      "source": [
        "print('Test metrics\\n')\n",
        "print('Accuracy: {:.3f}'.format(test_res['test_accuracy']))\n",
        "print('F1: {:.3f}'.format(test_res['test_f1']))\n",
        "print('Precision: {:.3f}'.format(test_res['test_precision']))\n",
        "print('Recall: {:.3f}'.format(test_res['test_recall']))"
      ],
      "metadata": {
        "colab": {
          "base_uri": "https://localhost:8080/"
        },
        "id": "abiUMJjONXAZ",
        "outputId": "2be0bcc9-f0b7-4610-a679-99338e06c87c"
      },
      "execution_count": 79,
      "outputs": [
        {
          "output_type": "stream",
          "name": "stdout",
          "text": [
            "Test metrics\n",
            "\n",
            "Accuracy: 0.723\n",
            "F1: 0.719\n",
            "Precision: 0.733\n",
            "Recall: 0.719\n"
          ]
        }
      ]
    },
    {
      "cell_type": "markdown",
      "source": [
        "Метрики ниже, чем у двух предыдущих версий, но не на много.  \n",
        "Accuracy первой модели 0.731, этой 0.723  \n",
        "F1 первой модели 0.726, этой 0.719  "
      ],
      "metadata": {
        "id": "kAc8so1LNsvh"
      }
    },
    {
      "cell_type": "markdown",
      "source": [
        "Чтобы посмотреть на три примера придется немного поменять функцию для применения модели"
      ],
      "metadata": {
        "id": "1lC9LMwWOlu_"
      }
    },
    {
      "cell_type": "code",
      "source": [
        "def get_sentiment_ready_model(review):\n",
        "  encoded_review = tokenizer.encode_plus(review,\n",
        "                          max_length=MAX_LEN,\n",
        "                          add_special_tokens=True,\n",
        "                          return_token_type_ids=True,\n",
        "                          padding='max_length',\n",
        "                          return_attention_mask=True,\n",
        "                          return_tensors='pt',\n",
        "                          truncation=True)\n",
        "  input_ids = encoded_review['input_ids'].to(device)\n",
        "  attention_mask = encoded_review['attention_mask'].to(device)\n",
        "  token_type_ids = encoded_review['token_type_ids'].to(device)\n",
        "  output = model(input_ids, attention_mask, token_type_ids, None)\n",
        "  prediction = torch.argmax(output['logits'], dim=1) # другой аутпут у модели, поэтому меняю эту строку\n",
        "  return class_names[prediction]"
      ],
      "metadata": {
        "id": "ckKMfYkNPJH7"
      },
      "execution_count": 90,
      "outputs": []
    },
    {
      "cell_type": "code",
      "source": [
        "for text in reviews:\n",
        "  sentiment = get_sentiment_ready_model(text)\n",
        "  print(f'Text: {text}')\n",
        "  print(f'Sentiment: {sentiment}')\n",
        "  print('-'*10)"
      ],
      "metadata": {
        "colab": {
          "base_uri": "https://localhost:8080/"
        },
        "outputId": "1175f652-3d8c-44cc-fee7-efc95033be58",
        "id": "q26kbhd_PJH8"
      },
      "execution_count": 92,
      "outputs": [
        {
          "output_type": "stream",
          "name": "stdout",
          "text": [
            "Text: While yes it is calming and soothing to play...for the most part. It's not all that. Zen mode is nice and all bit most gamers want a challenge. This is a collecting gems kind of game. Sound track is great. Game play is cool, in a speed run way. With that in mind it is very fast paced for a \"relaxing...\n",
            "Sentiment: positive\n",
            "----------\n",
            "Text: My offical favorite mobile game, the music and art style is fantastic! I hope there are more games like this to come in the future.\n",
            "Sentiment: positive\n",
            "----------\n",
            "Text: The game was great at the beginning. Then, the game bombards you with every single ad that they can placed at any place where they could place an ad. Be ready to watch 15-30 second unskippable as after every action.\n",
            "Sentiment: negative\n",
            "----------\n"
          ]
        }
      ]
    },
    {
      "cell_type": "markdown",
      "source": [
        "## Задание 4\n",
        "Агрегируйте cls-токены для нескольких слоев, чтобы сделать предсказание класса"
      ],
      "metadata": {
        "id": "eaFDZmgg3fSx"
      }
    },
    {
      "cell_type": "code",
      "source": [
        "class SentimentClassifier(nn.Module):\n",
        "\n",
        "  def __init__(self, n_classes):\n",
        "    super().__init__()\n",
        "    self.sent_bert = AutoModel.from_pretrained(PRE_TRAINED_MODEL_NAME)\n",
        "    self.drop = nn.Dropout(p=0.3)\n",
        "    self.out = nn.Linear(self.sent_bert.config.hidden_size, n_classes)\n",
        "  \n",
        "  def forward(self, input_ids, attention_mask, token_type_ids, labels):\n",
        "    last_hidden, pooled_output, hidden = self.sent_bert( # теперь возвращается три переменные, включая все скрытые слои\n",
        "      input_ids=input_ids,\n",
        "      attention_mask=attention_mask,\n",
        "      token_type_ids=token_type_ids,\n",
        "      return_dict=False,\n",
        "      output_hidden_states=True) # меняю параметр, чтобы возвращались все слои\n",
        "    all_hidden_cls = [layer[:,0,:] for layer in hidden] # собираю эмбеддинги cls токенов со всех скрытых слоев\n",
        "    cls_mean = torch.mean(torch.stack(all_hidden_cls, dim=0), dim=0) # беру среднее от них\n",
        "    output = self.drop(cls_mean) # отправляю в модель\n",
        "    output = self.out(output)\n",
        "    device = input_ids.device\n",
        "\n",
        "    loss_fn = nn.CrossEntropyLoss().to(device)\n",
        "    if labels is None:\n",
        "      return output\n",
        "    loss = loss_fn(output, labels)\n",
        "    return loss, output"
      ],
      "metadata": {
        "id": "-LZb2foo3h_4"
      },
      "execution_count": 94,
      "outputs": []
    },
    {
      "cell_type": "code",
      "source": [
        "model = SentimentClassifier(len(class_names))\n",
        "model = model.to(device)"
      ],
      "metadata": {
        "colab": {
          "base_uri": "https://localhost:8080/"
        },
        "id": "zziaRUu83wNZ",
        "outputId": "b2bafe94-7723-4fea-d4e4-e93c61980e3f"
      },
      "execution_count": 95,
      "outputs": [
        {
          "output_type": "stream",
          "name": "stderr",
          "text": [
            "loading configuration file https://huggingface.co/sentence-transformers/all-MiniLM-L6-v2/resolve/main/config.json from cache at /root/.cache/huggingface/transformers/638ad0a5316af721f9c51d99b662379dfa3d511f9ac3fc035e54613c8581fc6a.e04b227431c36320dd2099e8f0d4f31a771996a92811dd8bcb453cc6291db001\n",
            "Model config BertConfig {\n",
            "  \"_name_or_path\": \"sentence-transformers/all-MiniLM-L6-v2\",\n",
            "  \"architectures\": [\n",
            "    \"BertModel\"\n",
            "  ],\n",
            "  \"attention_probs_dropout_prob\": 0.1,\n",
            "  \"classifier_dropout\": null,\n",
            "  \"gradient_checkpointing\": false,\n",
            "  \"hidden_act\": \"gelu\",\n",
            "  \"hidden_dropout_prob\": 0.1,\n",
            "  \"hidden_size\": 384,\n",
            "  \"initializer_range\": 0.02,\n",
            "  \"intermediate_size\": 1536,\n",
            "  \"layer_norm_eps\": 1e-12,\n",
            "  \"max_position_embeddings\": 512,\n",
            "  \"model_type\": \"bert\",\n",
            "  \"num_attention_heads\": 12,\n",
            "  \"num_hidden_layers\": 6,\n",
            "  \"pad_token_id\": 0,\n",
            "  \"position_embedding_type\": \"absolute\",\n",
            "  \"transformers_version\": \"4.17.0\",\n",
            "  \"type_vocab_size\": 2,\n",
            "  \"use_cache\": true,\n",
            "  \"vocab_size\": 30522\n",
            "}\n",
            "\n",
            "loading weights file https://huggingface.co/sentence-transformers/all-MiniLM-L6-v2/resolve/main/pytorch_model.bin from cache at /root/.cache/huggingface/transformers/b83bfc481e9d88e36fd72a3b8bb3bd577568db0daf213e4cd0a94ac3a2f4dfa2.7df9d891b064d501e82f94319f749bc86f649d1b7d7308a3db7f167b1377df79\n",
            "All model checkpoint weights were used when initializing BertModel.\n",
            "\n",
            "All the weights of BertModel were initialized from the model checkpoint at sentence-transformers/all-MiniLM-L6-v2.\n",
            "If your task is similar to the task the model of the checkpoint was trained on, you can already use BertModel for predictions without further training.\n"
          ]
        }
      ]
    },
    {
      "cell_type": "code",
      "source": [
        "trainer = Trainer(\n",
        "    model=model,\n",
        "    args=training_args,\n",
        "    train_dataset=train_dataset,\n",
        "    eval_dataset=val_dataset,            \n",
        "    compute_metrics = compute_metrics,\n",
        "    callbacks=[EarlyStoppingCallback(early_stopping_patience=3)]\n",
        ")"
      ],
      "metadata": {
        "id": "osrKbNsB7R6I"
      },
      "execution_count": 96,
      "outputs": []
    },
    {
      "cell_type": "code",
      "source": [
        "train_result = trainer.train()"
      ],
      "metadata": {
        "colab": {
          "base_uri": "https://localhost:8080/",
          "height": 710
        },
        "id": "JSOp83Uw7UZH",
        "outputId": "83b0d928-f82d-4eb5-8b1b-0b5a38ccd805"
      },
      "execution_count": 97,
      "outputs": [
        {
          "output_type": "stream",
          "name": "stderr",
          "text": [
            "/usr/local/lib/python3.7/dist-packages/transformers/optimization.py:309: FutureWarning: This implementation of AdamW is deprecated and will be removed in a future version. Use the PyTorch implementation torch.optim.AdamW instead, or set `no_deprecation_warning=True` to disable this warning\n",
            "  FutureWarning,\n",
            "***** Running training *****\n",
            "  Num examples = 14171\n",
            "  Num Epochs = 2\n",
            "  Instantaneous batch size per device = 16\n",
            "  Total train batch size (w. parallel, distributed & accumulation) = 16\n",
            "  Gradient Accumulation steps = 1\n",
            "  Total optimization steps = 1772\n"
          ]
        },
        {
          "output_type": "display_data",
          "data": {
            "text/plain": [
              "<IPython.core.display.HTML object>"
            ],
            "text/html": [
              "\n",
              "    <div>\n",
              "      \n",
              "      <progress value='1772' max='1772' style='width:300px; height:20px; vertical-align: middle;'></progress>\n",
              "      [1772/1772 06:05, Epoch 2/2]\n",
              "    </div>\n",
              "    <table border=\"1\" class=\"dataframe\">\n",
              "  <thead>\n",
              " <tr style=\"text-align: left;\">\n",
              "      <th>Step</th>\n",
              "      <th>Training Loss</th>\n",
              "      <th>Validation Loss</th>\n",
              "      <th>Accuracy</th>\n",
              "      <th>F1</th>\n",
              "      <th>Precision</th>\n",
              "      <th>Recall</th>\n",
              "    </tr>\n",
              "  </thead>\n",
              "  <tbody>\n",
              "    <tr>\n",
              "      <td>500</td>\n",
              "      <td>0.757300</td>\n",
              "      <td>0.704029</td>\n",
              "      <td>0.686150</td>\n",
              "      <td>0.675424</td>\n",
              "      <td>0.677156</td>\n",
              "      <td>0.674563</td>\n",
              "    </tr>\n",
              "    <tr>\n",
              "      <td>1000</td>\n",
              "      <td>0.655700</td>\n",
              "      <td>0.633712</td>\n",
              "      <td>0.720457</td>\n",
              "      <td>0.715023</td>\n",
              "      <td>0.718778</td>\n",
              "      <td>0.713335</td>\n",
              "    </tr>\n",
              "    <tr>\n",
              "      <td>1500</td>\n",
              "      <td>0.583000</td>\n",
              "      <td>0.598635</td>\n",
              "      <td>0.736976</td>\n",
              "      <td>0.730205</td>\n",
              "      <td>0.734257</td>\n",
              "      <td>0.728616</td>\n",
              "    </tr>\n",
              "  </tbody>\n",
              "</table><p>"
            ]
          },
          "metadata": {}
        },
        {
          "output_type": "stream",
          "name": "stderr",
          "text": [
            "***** Running Evaluation *****\n",
            "  Num examples = 787\n",
            "  Batch size = 16\n",
            "Saving model checkpoint to ./results/checkpoint-500\n",
            "Trainer.model is not a `PreTrainedModel`, only saving its state dict.\n",
            "***** Running Evaluation *****\n",
            "  Num examples = 787\n",
            "  Batch size = 16\n",
            "Saving model checkpoint to ./results/checkpoint-1000\n",
            "Trainer.model is not a `PreTrainedModel`, only saving its state dict.\n",
            "***** Running Evaluation *****\n",
            "  Num examples = 787\n",
            "  Batch size = 16\n",
            "Saving model checkpoint to ./results/checkpoint-1500\n",
            "Trainer.model is not a `PreTrainedModel`, only saving its state dict.\n",
            "\n",
            "\n",
            "Training completed. Do not forget to share your model on huggingface.co/models =)\n",
            "\n",
            "\n",
            "Loading best model from ./results/checkpoint-1500 (score: 0.5986348390579224).\n"
          ]
        }
      ]
    },
    {
      "cell_type": "code",
      "source": [
        "trainer.evaluate()"
      ],
      "metadata": {
        "colab": {
          "base_uri": "https://localhost:8080/",
          "height": 245
        },
        "outputId": "654a9646-61ca-46eb-e475-0eee93048f43",
        "id": "8GwLFOTURiwL"
      },
      "execution_count": 98,
      "outputs": [
        {
          "output_type": "stream",
          "name": "stderr",
          "text": [
            "***** Running Evaluation *****\n",
            "  Num examples = 787\n",
            "  Batch size = 16\n"
          ]
        },
        {
          "output_type": "display_data",
          "data": {
            "text/plain": [
              "<IPython.core.display.HTML object>"
            ],
            "text/html": [
              "\n",
              "    <div>\n",
              "      \n",
              "      <progress value='50' max='50' style='width:300px; height:20px; vertical-align: middle;'></progress>\n",
              "      [50/50 00:03]\n",
              "    </div>\n",
              "    "
            ]
          },
          "metadata": {}
        },
        {
          "output_type": "execute_result",
          "data": {
            "text/plain": [
              "{'epoch': 2.0,\n",
              " 'eval_accuracy': 0.7369758576874206,\n",
              " 'eval_f1': 0.7302051081898581,\n",
              " 'eval_loss': 0.5986348390579224,\n",
              " 'eval_precision': 0.7342566828024327,\n",
              " 'eval_recall': 0.7286157334195899,\n",
              " 'eval_runtime': 3.4604,\n",
              " 'eval_samples_per_second': 227.432,\n",
              " 'eval_steps_per_second': 14.449}"
            ]
          },
          "metadata": {},
          "execution_count": 98
        }
      ]
    },
    {
      "cell_type": "code",
      "source": [
        "test_res = trainer.evaluate(eval_dataset=test_dataset, metric_key_prefix=\"test\")"
      ],
      "metadata": {
        "colab": {
          "base_uri": "https://localhost:8080/",
          "height": 107
        },
        "outputId": "7b296e0e-9c21-445c-a6da-61188aeb1802",
        "id": "zfmVpRVYRiwL"
      },
      "execution_count": 99,
      "outputs": [
        {
          "output_type": "stream",
          "name": "stderr",
          "text": [
            "***** Running Evaluation *****\n",
            "  Num examples = 788\n",
            "  Batch size = 16\n"
          ]
        },
        {
          "output_type": "display_data",
          "data": {
            "text/plain": [
              "<IPython.core.display.HTML object>"
            ],
            "text/html": [
              "\n",
              "    <div>\n",
              "      \n",
              "      <progress value='100' max='50' style='width:300px; height:20px; vertical-align: middle;'></progress>\n",
              "      [50/50 00:06]\n",
              "    </div>\n",
              "    "
            ]
          },
          "metadata": {}
        },
        {
          "output_type": "stream",
          "name": "stderr",
          "text": [
            "early stopping required metric_for_best_model, but did not find eval_loss so early stopping is disabled\n"
          ]
        }
      ]
    },
    {
      "cell_type": "code",
      "source": [
        "print('Test metrics\\n')\n",
        "print('Accuracy: {:.3f}'.format(test_res['test_accuracy']))\n",
        "print('F1: {:.3f}'.format(test_res['test_f1']))\n",
        "print('Precision: {:.3f}'.format(test_res['test_precision']))\n",
        "print('Recall: {:.3f}'.format(test_res['test_recall']))"
      ],
      "metadata": {
        "colab": {
          "base_uri": "https://localhost:8080/"
        },
        "id": "EPfEGlL3Rr7j",
        "outputId": "cf9d01ea-f6c9-4235-ba08-558e2aa79815"
      },
      "execution_count": 100,
      "outputs": [
        {
          "output_type": "stream",
          "name": "stdout",
          "text": [
            "Test metrics\n",
            "\n",
            "Accuracy: 0.720\n",
            "F1: 0.715\n",
            "Precision: 0.725\n",
            "Recall: 0.714\n"
          ]
        }
      ]
    },
    {
      "cell_type": "markdown",
      "source": [
        "Эта модель показала самые плохие метрики."
      ],
      "metadata": {
        "id": "cRO63D8sRwRc"
      }
    },
    {
      "cell_type": "code",
      "source": [
        "for text in reviews:\n",
        "  sentiment = get_sentiment(text)\n",
        "  print(f'Text: {text}')\n",
        "  print(f'Sentiment: {sentiment}')\n",
        "  print('-'*10)"
      ],
      "metadata": {
        "colab": {
          "base_uri": "https://localhost:8080/"
        },
        "id": "PnKguT4VR3gb",
        "outputId": "f1ddc99c-c4a7-4a2d-ecd6-deb6d2acad8f"
      },
      "execution_count": 101,
      "outputs": [
        {
          "output_type": "stream",
          "name": "stdout",
          "text": [
            "Text: While yes it is calming and soothing to play...for the most part. It's not all that. Zen mode is nice and all bit most gamers want a challenge. This is a collecting gems kind of game. Sound track is great. Game play is cool, in a speed run way. With that in mind it is very fast paced for a \"relaxing...\n",
            "Sentiment: positive\n",
            "----------\n",
            "Text: My offical favorite mobile game, the music and art style is fantastic! I hope there are more games like this to come in the future.\n",
            "Sentiment: positive\n",
            "----------\n",
            "Text: The game was great at the beginning. Then, the game bombards you with every single ad that they can placed at any place where they could place an ad. Be ready to watch 15-30 second unskippable as after every action.\n",
            "Sentiment: negative\n",
            "----------\n"
          ]
        }
      ]
    },
    {
      "cell_type": "markdown",
      "source": [
        "## Задание 5 \n",
        "смотрите в остальных заданиях - каждая из предыдущих моделей тестируется на трех выбранных отзывах из google play"
      ],
      "metadata": {
        "id": "rsCsCN5fSNwC"
      }
    },
    {
      "cell_type": "markdown",
      "source": [
        "Каждая модель одинаково распределила эти три отзыва: все верно определили негативный и положительный отзыв, но нейтральный отзыв всегда неверно получался положительным.\n",
        "\n",
        "Выбранный мной нейтральный отзыв не самый простой случай - если бы я не знала, что у него три звезды, я бы сама не знала, к какому классу его отнести.\n",
        "\n",
        "К сожалению, у меня не получилось второй раз открыть отзывы google play именно на английском... Простите меня, я не очень уверенный пользователь google play 😬 "
      ],
      "metadata": {
        "id": "-WTUUTp5S5ZX"
      }
    }
  ]
}