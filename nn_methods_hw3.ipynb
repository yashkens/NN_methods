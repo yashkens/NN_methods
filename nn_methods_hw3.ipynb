{
  "nbformat": 4,
  "nbformat_minor": 0,
  "metadata": {
    "kernelspec": {
      "display_name": "Python 3",
      "language": "python",
      "name": "python3"
    },
    "language_info": {
      "codemirror_mode": {
        "name": "ipython",
        "version": 3
      },
      "file_extension": ".py",
      "mimetype": "text/x-python",
      "name": "python",
      "nbconvert_exporter": "python",
      "pygments_lexer": "ipython3",
      "version": "3.8.8"
    },
    "colab": {
      "name": "nn_methods_hw3.ipynb",
      "provenance": [],
      "collapsed_sections": [],
      "toc_visible": true,
      "include_colab_link": true
    },
    "accelerator": "GPU"
  },
  "cells": [
    {
      "cell_type": "markdown",
      "metadata": {
        "id": "view-in-github",
        "colab_type": "text"
      },
      "source": [
        "<a href=\"https://colab.research.google.com/github/yashkens/NN_methods/blob/main/nn_methods_hw3.ipynb\" target=\"_parent\"><img src=\"https://colab.research.google.com/assets/colab-badge.svg\" alt=\"Open In Colab\"/></a>"
      ]
    },
    {
      "cell_type": "code",
      "source": [
        "!pip install gensim"
      ],
      "metadata": {
        "colab": {
          "base_uri": "https://localhost:8080/"
        },
        "id": "5jYXKHPJcfHy",
        "outputId": "250bd32a-16fa-4c7d-c91d-c2c328f9cf93"
      },
      "execution_count": 29,
      "outputs": [
        {
          "output_type": "stream",
          "name": "stdout",
          "text": [
            "Requirement already satisfied: gensim in /usr/local/lib/python3.7/dist-packages (3.6.0)\n",
            "Requirement already satisfied: scipy>=0.18.1 in /usr/local/lib/python3.7/dist-packages (from gensim) (1.4.1)\n",
            "Requirement already satisfied: smart-open>=1.2.1 in /usr/local/lib/python3.7/dist-packages (from gensim) (5.2.1)\n",
            "Requirement already satisfied: six>=1.5.0 in /usr/local/lib/python3.7/dist-packages (from gensim) (1.15.0)\n",
            "Requirement already satisfied: numpy>=1.11.3 in /usr/local/lib/python3.7/dist-packages (from gensim) (1.19.5)\n"
          ]
        }
      ]
    },
    {
      "cell_type": "code",
      "metadata": {
        "id": "CgiT9Xow1sd5"
      },
      "source": [
        "import pandas as pd\n",
        "import numpy as np\n",
        "from string import punctuation\n",
        "from collections import Counter\n",
        "\n",
        "from sklearn.model_selection import train_test_split\n",
        "from sklearn.utils import shuffle\n",
        "import torch\n",
        "import torch.nn as nn\n",
        "import torch.nn.functional as F\n",
        "from torch.utils.data import Dataset, DataLoader, RandomSampler, SequentialSampler\n",
        "from torch.nn.utils.rnn import pad_sequence\n",
        "import torch.optim as optim\n",
        "\n",
        "from nltk.tokenize import word_tokenize, wordpunct_tokenize\n",
        "from tqdm import tqdm\n",
        "from gensim.models.keyedvectors import KeyedVectors\n",
        "\n",
        "from sklearn.metrics import accuracy_score"
      ],
      "execution_count": 2,
      "outputs": []
    },
    {
      "cell_type": "markdown",
      "metadata": {
        "id": "sZtLedfF00Ih"
      },
      "source": [
        "### Скачивание и подготовка данных"
      ]
    },
    {
      "cell_type": "code",
      "metadata": {
        "id": "17_AP7LhLPnv",
        "colab": {
          "base_uri": "https://localhost:8080/",
          "height": 206
        },
        "outputId": "8e7e8c91-09cf-4fcd-cba5-3b1aaccc77cf"
      },
      "source": [
        "data = pd.read_csv('Fake.csv')\n",
        "data = data[['title', 'text', 'subject']]\n",
        "data.head()\n"
      ],
      "execution_count": 3,
      "outputs": [
        {
          "output_type": "execute_result",
          "data": {
            "text/html": [
              "\n",
              "  <div id=\"df-217c9042-efb6-4697-9882-3e304877e017\">\n",
              "    <div class=\"colab-df-container\">\n",
              "      <div>\n",
              "<style scoped>\n",
              "    .dataframe tbody tr th:only-of-type {\n",
              "        vertical-align: middle;\n",
              "    }\n",
              "\n",
              "    .dataframe tbody tr th {\n",
              "        vertical-align: top;\n",
              "    }\n",
              "\n",
              "    .dataframe thead th {\n",
              "        text-align: right;\n",
              "    }\n",
              "</style>\n",
              "<table border=\"1\" class=\"dataframe\">\n",
              "  <thead>\n",
              "    <tr style=\"text-align: right;\">\n",
              "      <th></th>\n",
              "      <th>title</th>\n",
              "      <th>text</th>\n",
              "      <th>subject</th>\n",
              "    </tr>\n",
              "  </thead>\n",
              "  <tbody>\n",
              "    <tr>\n",
              "      <th>0</th>\n",
              "      <td>Donald Trump Sends Out Embarrassing New Year’...</td>\n",
              "      <td>Donald Trump just couldn t wish all Americans ...</td>\n",
              "      <td>News</td>\n",
              "    </tr>\n",
              "    <tr>\n",
              "      <th>1</th>\n",
              "      <td>Drunk Bragging Trump Staffer Started Russian ...</td>\n",
              "      <td>House Intelligence Committee Chairman Devin Nu...</td>\n",
              "      <td>News</td>\n",
              "    </tr>\n",
              "    <tr>\n",
              "      <th>2</th>\n",
              "      <td>Sheriff David Clarke Becomes An Internet Joke...</td>\n",
              "      <td>On Friday, it was revealed that former Milwauk...</td>\n",
              "      <td>News</td>\n",
              "    </tr>\n",
              "    <tr>\n",
              "      <th>3</th>\n",
              "      <td>Trump Is So Obsessed He Even Has Obama’s Name...</td>\n",
              "      <td>On Christmas day, Donald Trump announced that ...</td>\n",
              "      <td>News</td>\n",
              "    </tr>\n",
              "    <tr>\n",
              "      <th>4</th>\n",
              "      <td>Pope Francis Just Called Out Donald Trump Dur...</td>\n",
              "      <td>Pope Francis used his annual Christmas Day mes...</td>\n",
              "      <td>News</td>\n",
              "    </tr>\n",
              "  </tbody>\n",
              "</table>\n",
              "</div>\n",
              "      <button class=\"colab-df-convert\" onclick=\"convertToInteractive('df-217c9042-efb6-4697-9882-3e304877e017')\"\n",
              "              title=\"Convert this dataframe to an interactive table.\"\n",
              "              style=\"display:none;\">\n",
              "        \n",
              "  <svg xmlns=\"http://www.w3.org/2000/svg\" height=\"24px\"viewBox=\"0 0 24 24\"\n",
              "       width=\"24px\">\n",
              "    <path d=\"M0 0h24v24H0V0z\" fill=\"none\"/>\n",
              "    <path d=\"M18.56 5.44l.94 2.06.94-2.06 2.06-.94-2.06-.94-.94-2.06-.94 2.06-2.06.94zm-11 1L8.5 8.5l.94-2.06 2.06-.94-2.06-.94L8.5 2.5l-.94 2.06-2.06.94zm10 10l.94 2.06.94-2.06 2.06-.94-2.06-.94-.94-2.06-.94 2.06-2.06.94z\"/><path d=\"M17.41 7.96l-1.37-1.37c-.4-.4-.92-.59-1.43-.59-.52 0-1.04.2-1.43.59L10.3 9.45l-7.72 7.72c-.78.78-.78 2.05 0 2.83L4 21.41c.39.39.9.59 1.41.59.51 0 1.02-.2 1.41-.59l7.78-7.78 2.81-2.81c.8-.78.8-2.07 0-2.86zM5.41 20L4 18.59l7.72-7.72 1.47 1.35L5.41 20z\"/>\n",
              "  </svg>\n",
              "      </button>\n",
              "      \n",
              "  <style>\n",
              "    .colab-df-container {\n",
              "      display:flex;\n",
              "      flex-wrap:wrap;\n",
              "      gap: 12px;\n",
              "    }\n",
              "\n",
              "    .colab-df-convert {\n",
              "      background-color: #E8F0FE;\n",
              "      border: none;\n",
              "      border-radius: 50%;\n",
              "      cursor: pointer;\n",
              "      display: none;\n",
              "      fill: #1967D2;\n",
              "      height: 32px;\n",
              "      padding: 0 0 0 0;\n",
              "      width: 32px;\n",
              "    }\n",
              "\n",
              "    .colab-df-convert:hover {\n",
              "      background-color: #E2EBFA;\n",
              "      box-shadow: 0px 1px 2px rgba(60, 64, 67, 0.3), 0px 1px 3px 1px rgba(60, 64, 67, 0.15);\n",
              "      fill: #174EA6;\n",
              "    }\n",
              "\n",
              "    [theme=dark] .colab-df-convert {\n",
              "      background-color: #3B4455;\n",
              "      fill: #D2E3FC;\n",
              "    }\n",
              "\n",
              "    [theme=dark] .colab-df-convert:hover {\n",
              "      background-color: #434B5C;\n",
              "      box-shadow: 0px 1px 3px 1px rgba(0, 0, 0, 0.15);\n",
              "      filter: drop-shadow(0px 1px 2px rgba(0, 0, 0, 0.3));\n",
              "      fill: #FFFFFF;\n",
              "    }\n",
              "  </style>\n",
              "\n",
              "      <script>\n",
              "        const buttonEl =\n",
              "          document.querySelector('#df-217c9042-efb6-4697-9882-3e304877e017 button.colab-df-convert');\n",
              "        buttonEl.style.display =\n",
              "          google.colab.kernel.accessAllowed ? 'block' : 'none';\n",
              "\n",
              "        async function convertToInteractive(key) {\n",
              "          const element = document.querySelector('#df-217c9042-efb6-4697-9882-3e304877e017');\n",
              "          const dataTable =\n",
              "            await google.colab.kernel.invokeFunction('convertToInteractive',\n",
              "                                                     [key], {});\n",
              "          if (!dataTable) return;\n",
              "\n",
              "          const docLinkHtml = 'Like what you see? Visit the ' +\n",
              "            '<a target=\"_blank\" href=https://colab.research.google.com/notebooks/data_table.ipynb>data table notebook</a>'\n",
              "            + ' to learn more about interactive tables.';\n",
              "          element.innerHTML = '';\n",
              "          dataTable['output_type'] = 'display_data';\n",
              "          await google.colab.output.renderOutput(dataTable, element);\n",
              "          const docLink = document.createElement('div');\n",
              "          docLink.innerHTML = docLinkHtml;\n",
              "          element.appendChild(docLink);\n",
              "        }\n",
              "      </script>\n",
              "    </div>\n",
              "  </div>\n",
              "  "
            ],
            "text/plain": [
              "                                               title  ... subject\n",
              "0   Donald Trump Sends Out Embarrassing New Year’...  ...    News\n",
              "1   Drunk Bragging Trump Staffer Started Russian ...  ...    News\n",
              "2   Sheriff David Clarke Becomes An Internet Joke...  ...    News\n",
              "3   Trump Is So Obsessed He Even Has Obama’s Name...  ...    News\n",
              "4   Pope Francis Just Called Out Donald Trump Dur...  ...    News\n",
              "\n",
              "[5 rows x 3 columns]"
            ]
          },
          "metadata": {},
          "execution_count": 3
        }
      ]
    },
    {
      "cell_type": "code",
      "source": [
        "def preprocess(text):\n",
        "    words = wordpunct_tokenize(text.lower())\n",
        "    return words"
      ],
      "metadata": {
        "id": "hfipn-_cjAes"
      },
      "execution_count": 4,
      "outputs": []
    },
    {
      "cell_type": "code",
      "source": [
        "# удаление слишком длинных текстов\n",
        "keep_inds = []\n",
        "for ind, text in enumerate(data['text']):\n",
        "  if len(preprocess(text)) < 2000:\n",
        "    keep_inds.append(ind)"
      ],
      "metadata": {
        "id": "m3flStucio6E"
      },
      "execution_count": 5,
      "outputs": []
    },
    {
      "cell_type": "code",
      "source": [
        "data = data.iloc[keep_inds]"
      ],
      "metadata": {
        "id": "1bpU66qnjCs8"
      },
      "execution_count": 6,
      "outputs": []
    },
    {
      "cell_type": "code",
      "metadata": {
        "id": "_JYJtXCaERbb"
      },
      "source": [
        "train_data, val_data = train_test_split(data, test_size=0.2)"
      ],
      "execution_count": 7,
      "outputs": []
    },
    {
      "cell_type": "code",
      "source": [
        "target_labels = {}\n",
        "values = set(data['subject'])\n",
        "for i, value in enumerate(values):\n",
        "  target_labels[value] = i"
      ],
      "metadata": {
        "id": "Ii1RxtePhdVK"
      },
      "execution_count": 8,
      "outputs": []
    },
    {
      "cell_type": "code",
      "source": [
        "target_labels"
      ],
      "metadata": {
        "colab": {
          "base_uri": "https://localhost:8080/"
        },
        "id": "q69oiGXziAH3",
        "outputId": "7dfe1793-b611-4bb8-eea2-5b4a43e28a28"
      },
      "execution_count": 9,
      "outputs": [
        {
          "output_type": "execute_result",
          "data": {
            "text/plain": [
              "{'Government News': 5,\n",
              " 'Middle-east': 0,\n",
              " 'News': 4,\n",
              " 'US_News': 3,\n",
              " 'left-news': 1,\n",
              " 'politics': 2}"
            ]
          },
          "metadata": {},
          "execution_count": 9
        }
      ]
    },
    {
      "cell_type": "code",
      "source": [
        "vocab = Counter()\n",
        "for text in data['text']:\n",
        "  tokens = preprocess(text)\n",
        "  vocab.update(tokens)\n",
        "print('Всего уникальных слов:', len(vocab))"
      ],
      "metadata": {
        "colab": {
          "base_uri": "https://localhost:8080/"
        },
        "id": "CdRNqC-jf73g",
        "outputId": "1540d67f-6acf-4bc2-c219-313d5758f80c"
      },
      "execution_count": 10,
      "outputs": [
        {
          "output_type": "stream",
          "name": "stdout",
          "text": [
            "Всего уникальных слов: 91530\n"
          ]
        }
      ]
    },
    {
      "cell_type": "code",
      "source": [
        "filtered_vocab = set()\n",
        "for symbol in vocab:\n",
        "    if vocab[symbol] > 5:\n",
        "        filtered_vocab.add(symbol)\n",
        "print('Уникальных символов, втретившихся больше 5 раз:', len(filtered_vocab))"
      ],
      "metadata": {
        "colab": {
          "base_uri": "https://localhost:8080/"
        },
        "id": "LvtJrb3VgqZI",
        "outputId": "36e88932-37fe-4f57-9601-544fd4c20961"
      },
      "execution_count": 11,
      "outputs": [
        {
          "output_type": "stream",
          "name": "stdout",
          "text": [
            "Уникальных символов, втретившихся больше 5 раз: 31464\n"
          ]
        }
      ]
    },
    {
      "cell_type": "code",
      "metadata": {
        "colab": {
          "base_uri": "https://localhost:8080/"
        },
        "id": "YrzM7MnCQeP_",
        "outputId": "54adbbbc-a03a-4bd4-d47c-a0ffae6cb4ff"
      },
      "source": [
        "DEVICE = torch.device('cuda') if torch.cuda.is_available() else torch.device('cpu')\n",
        "DEVICE\n"
      ],
      "execution_count": 12,
      "outputs": [
        {
          "output_type": "execute_result",
          "data": {
            "text/plain": [
              "device(type='cuda')"
            ]
          },
          "metadata": {},
          "execution_count": 12
        }
      ]
    },
    {
      "cell_type": "markdown",
      "metadata": {
        "id": "BUCT8ayD1seK"
      },
      "source": [
        "### Embeddings"
      ]
    },
    {
      "cell_type": "markdown",
      "source": [
        "Код ниже не нужно запускать - тут я создала файл с эмбеддингами только для нужных слов, чтобы сэкономить место."
      ],
      "metadata": {
        "id": "Fmu2U9pdw3xm"
      }
    },
    {
      "cell_type": "code",
      "source": [
        "!gdown --id 0B7XkCwpI5KDYNlNUTTlSS21pQmM"
      ],
      "metadata": {
        "colab": {
          "base_uri": "https://localhost:8080/"
        },
        "id": "fzk7Byg7ZgPv",
        "outputId": "5d232c5c-b893-459f-d2b2-0b8980d9c1d6"
      },
      "execution_count": 19,
      "outputs": [
        {
          "output_type": "stream",
          "name": "stdout",
          "text": [
            "Downloading...\n",
            "From: https://drive.google.com/uc?id=0B7XkCwpI5KDYNlNUTTlSS21pQmM\n",
            "To: /content/GoogleNews-vectors-negative300.bin.gz\n",
            "100% 1.65G/1.65G [00:19<00:00, 83.1MB/s]\n"
          ]
        }
      ]
    },
    {
      "cell_type": "code",
      "source": [
        "!gzip -d /content/GoogleNews-vectors-negative300.bin.gz"
      ],
      "metadata": {
        "id": "wwVQLlajbB5K"
      },
      "execution_count": 20,
      "outputs": []
    },
    {
      "cell_type": "code",
      "source": [
        "model = KeyedVectors.load_word2vec_format('/content/GoogleNews-vectors-negative300.bin', binary=True)"
      ],
      "metadata": {
        "id": "piPpwQyec4Dp"
      },
      "execution_count": 12,
      "outputs": []
    },
    {
      "cell_type": "code",
      "source": [
        "pad = torch.empty(1, 300)\n",
        "pad_emb = nn.init.xavier_uniform_(pad)[0]"
      ],
      "metadata": {
        "id": "cVpRNlurycu1"
      },
      "execution_count": 34,
      "outputs": []
    },
    {
      "cell_type": "code",
      "source": [
        "weights = []\n",
        "weights.append(pad_emb.numpy())\n",
        "word2id = {'PAD':0}\n",
        "\n",
        "for word in filtered_vocab:\n",
        "  if word in model:\n",
        "    word2id[word] = len(word2id)\n",
        "    weights.append(model[word])\n",
        "\n",
        "weights = np.array(weights)\n",
        "weights = torch.FloatTensor(weights)\n",
        "id2word = {i:word for word, i in word2id.items()}"
      ],
      "metadata": {
        "id": "7_38qT6OmyD8"
      },
      "execution_count": null,
      "outputs": []
    },
    {
      "cell_type": "code",
      "source": [
        "torch.save((weights, word2id, id2word), 'embeddings.pt')"
      ],
      "metadata": {
        "id": "EDp0p7wuoyFx"
      },
      "execution_count": 49,
      "outputs": []
    },
    {
      "cell_type": "markdown",
      "source": [
        "Запускайте отсюда - загрузка эмбеддингов"
      ],
      "metadata": {
        "id": "EXP1dZX2xC2_"
      }
    },
    {
      "cell_type": "code",
      "source": [
        "weights, word2id, id2word = torch.load('embeddings.pt')"
      ],
      "metadata": {
        "id": "J-awe2yHpOcO"
      },
      "execution_count": 13,
      "outputs": []
    },
    {
      "cell_type": "markdown",
      "metadata": {
        "id": "obiXRWLt1OZJ"
      },
      "source": [
        "### Dataset & DataLoader"
      ]
    },
    {
      "cell_type": "code",
      "metadata": {
        "id": "FMs4ZohJ1seI"
      },
      "source": [
        "class NewsDataset(Dataset):\n",
        "\n",
        "    def __init__(self, dataset, word2id, DEVICE):\n",
        "        self.texts = dataset['text'].values\n",
        "        self.word2id = word2id\n",
        "        self.length = dataset.shape[0]\n",
        "        self.target = dataset['subject'].values\n",
        "        self.device = DEVICE\n",
        "\n",
        "    def __len__(self):\n",
        "        return self.length\n",
        "\n",
        "    def __getitem__(self, index): \n",
        "        tokens = preprocess(self.texts[index])\n",
        "        ids = torch.LongTensor([self.word2id[symbol] for symbol in tokens if symbol in self.word2id])\n",
        "        y = target_labels[self.target[index]]\n",
        "        return ids, y\n",
        "\n",
        "    def collate_fn(self, batch):\n",
        "      ids, y = list(zip(*batch))\n",
        "      padded_ids = pad_sequence(ids, batch_first=True).to(self.device)\n",
        "      y = torch.Tensor(y).to(self.device).to(torch.long)\n",
        "      return padded_ids, y"
      ],
      "execution_count": 14,
      "outputs": []
    },
    {
      "cell_type": "code",
      "metadata": {
        "id": "ZR_upb-_1seJ"
      },
      "source": [
        "val_dataset = NewsDataset(val_data, word2id, DEVICE)\n",
        "val_sampler = SequentialSampler(val_dataset)\n",
        "val_iterator = DataLoader(val_dataset, collate_fn = val_dataset.collate_fn, sampler=val_sampler, batch_size=64)"
      ],
      "execution_count": 15,
      "outputs": []
    },
    {
      "cell_type": "code",
      "metadata": {
        "id": "8Zl4FxB71seI"
      },
      "source": [
        "train_dataset = NewsDataset(train_data, word2id, DEVICE)\n",
        "train_sampler = RandomSampler(train_dataset)\n",
        "train_iterator = DataLoader(train_dataset, collate_fn = train_dataset.collate_fn, sampler=train_sampler, batch_size=64)"
      ],
      "execution_count": 16,
      "outputs": []
    },
    {
      "cell_type": "markdown",
      "source": [
        "### Model"
      ],
      "metadata": {
        "id": "uatlNEyBj91x"
      }
    },
    {
      "cell_type": "code",
      "metadata": {
        "id": "NdV7oSIc1seK"
      },
      "source": [
        "class CLSTM(nn.Module):\n",
        "    \n",
        "    def __init__(self, weights, num_classes):\n",
        "        super().__init__()\n",
        "        self.embedding = nn.Embedding.from_pretrained(weights)\n",
        "        self.dropout1 = nn.Dropout(0.5)\n",
        "        self.cnn = nn.Conv1d(in_channels=300, out_channels=150, kernel_size=3, padding='same')\n",
        "        self.relu = nn.ReLU()\n",
        "        self.lstm = nn.LSTM(input_size=150, hidden_size=150, batch_first=True)\n",
        "        self.dropout2 = nn.Dropout(0.5)\n",
        "        self.linear = nn.Linear(in_features=150, out_features=num_classes)\n",
        "        self.softmax = nn.Softmax()\n",
        "\n",
        "    def forward(self, words):\n",
        "        embedded = self.embedding(words)\n",
        "        embedded = self.dropout1(embedded)\n",
        "        embedded = embedded.transpose(1, 2)\n",
        "\n",
        "        hidden = self.cnn(embedded)\n",
        "        hidden = self.relu(hidden)\n",
        "        hidden = hidden.transpose(1, 2)\n",
        "\n",
        "        hidden, _ = self.lstm(hidden)\n",
        "        hidden = hidden[:,-1,:]\n",
        "        hidden = self.dropout2(hidden)\n",
        "\n",
        "        out = self.linear(hidden)\n",
        "        # out = self.softmax(out)   \n",
        "        return out"
      ],
      "execution_count": 17,
      "outputs": []
    },
    {
      "cell_type": "code",
      "source": [
        "batch, y = next(iter(train_iterator))\n",
        "batch, y = batch.to(device='cpu'), y.to(device='cpu')"
      ],
      "metadata": {
        "id": "TFlAKo0koDHi"
      },
      "execution_count": 18,
      "outputs": []
    },
    {
      "cell_type": "code",
      "metadata": {
        "id": "oHc9E_96dJBH"
      },
      "source": [
        "model = CLSTM(weights, num_classes=len(target_labels))\n",
        "output = model(batch)\n",
        "# print(output)"
      ],
      "execution_count": 19,
      "outputs": []
    },
    {
      "cell_type": "code",
      "source": [
        "output.shape"
      ],
      "metadata": {
        "colab": {
          "base_uri": "https://localhost:8080/"
        },
        "id": "rgfpInaBqq5b",
        "outputId": "60551484-5973-4730-df72-84ca92c2ad43"
      },
      "execution_count": 19,
      "outputs": [
        {
          "output_type": "execute_result",
          "data": {
            "text/plain": [
              "torch.Size([64, 6])"
            ]
          },
          "metadata": {},
          "execution_count": 19
        }
      ]
    },
    {
      "cell_type": "code",
      "metadata": {
        "colab": {
          "base_uri": "https://localhost:8080/"
        },
        "id": "CBWdfROdQK5v",
        "outputId": "abacdf08-42b2-4476-f634-9e5a58d36b7d"
      },
      "source": [
        "loss = nn.CrossEntropyLoss()\n",
        "loss(output, y)"
      ],
      "execution_count": 57,
      "outputs": [
        {
          "output_type": "execute_result",
          "data": {
            "text/plain": [
              "tensor(1.8070, grad_fn=<NllLossBackward0>)"
            ]
          },
          "metadata": {},
          "execution_count": 57
        }
      ]
    },
    {
      "cell_type": "code",
      "metadata": {
        "colab": {
          "base_uri": "https://localhost:8080/"
        },
        "id": "q73ELWxPzjtZ",
        "outputId": "eef4f6a8-c93d-4505-872a-6dd80857018a"
      },
      "source": [
        "accuracy_score(np.argmax(output.detach().cpu().numpy(), axis=-1), y.detach().cpu().numpy())"
      ],
      "execution_count": 65,
      "outputs": [
        {
          "output_type": "execute_result",
          "data": {
            "text/plain": [
              "0.1875"
            ]
          },
          "metadata": {},
          "execution_count": 65
        }
      ]
    },
    {
      "cell_type": "markdown",
      "metadata": {
        "id": "cYz0OzYT1vt1"
      },
      "source": [
        "### Training loop"
      ]
    },
    {
      "cell_type": "code",
      "metadata": {
        "id": "BVKQzPPI1seJ"
      },
      "source": [
        "def train(model, iterator, optimizer, criterion):\n",
        "    epoch_loss = 0\n",
        "\n",
        "    model.train()\n",
        "\n",
        "    for i, (texts, ys) in enumerate(iterator):\n",
        "        optimizer.zero_grad()\n",
        "        preds = model(texts)\n",
        "        loss = criterion(preds, ys)\n",
        "        loss.backward()\n",
        "        optimizer.step()\n",
        "        epoch_loss += loss.item()\n",
        "        if not (i + 1) % int(len(iterator)/5):\n",
        "            print(f'Train loss: {epoch_loss/i}')      \n",
        "    return  epoch_loss / len(iterator)"
      ],
      "execution_count": 20,
      "outputs": []
    },
    {
      "cell_type": "code",
      "metadata": {
        "id": "EPfO7p9x1seK"
      },
      "source": [
        "def evaluate(model, iterator, criterion):\n",
        "    epoch_loss = 0\n",
        "    epoch_metric = 0\n",
        "    model.eval() \n",
        "    with torch.no_grad():\n",
        "        for i, (texts, ys) in enumerate(iterator):   \n",
        "            preds = model(texts)\n",
        "            loss = criterion(preds, ys) \n",
        "            epoch_loss += loss.item()\n",
        "            batch_metric = accuracy_score(np.argmax(preds.detach().cpu().numpy(), axis=-1),\n",
        "                                          ys.detach().cpu().numpy())\n",
        "            epoch_metric += batch_metric\n",
        "\n",
        "            if not (i + 1) % int(len(iterator)/5):\n",
        "              print(f'Val loss: {epoch_loss/i}, Val Acc: {epoch_metric/i}')\n",
        "        \n",
        "    return epoch_metric / len(iterator), epoch_loss / len(iterator)"
      ],
      "execution_count": 27,
      "outputs": []
    },
    {
      "cell_type": "code",
      "metadata": {
        "id": "WO35IZES1seL"
      },
      "source": [
        "model = CLSTM(weights, len(target_labels))\n",
        "criterion = nn.CrossEntropyLoss()\n",
        "\n",
        "model = model.to(DEVICE)\n",
        "criterion = criterion.to(DEVICE)"
      ],
      "execution_count": 28,
      "outputs": []
    },
    {
      "cell_type": "code",
      "source": [
        "layers = [{'params': [param for name, param in model.named_parameters() if 'linear' not in name]}, \n",
        "          {'params': model.linear.parameters(), 'weight_decay': 0.001}]"
      ],
      "metadata": {
        "id": "Ufoweqjrt-gq"
      },
      "execution_count": 29,
      "outputs": []
    },
    {
      "cell_type": "code",
      "source": [
        "optimizer = optim.RMSprop(layers)"
      ],
      "metadata": {
        "id": "uyHFnqlKt1TA"
      },
      "execution_count": 30,
      "outputs": []
    },
    {
      "cell_type": "code",
      "source": [
        "epochs = 5"
      ],
      "metadata": {
        "id": "DgxTYdravPFv"
      },
      "execution_count": 31,
      "outputs": []
    },
    {
      "cell_type": "code",
      "metadata": {
        "id": "boMAjlVM1seM",
        "colab": {
          "base_uri": "https://localhost:8080/"
        },
        "outputId": "a97d38ae-e751-4722-b7ce-83a3ddc716a9"
      },
      "source": [
        "losses = []\n",
        "losses_eval = []\n",
        "scores = []\n",
        "scores_eval = []\n",
        "\n",
        "for i in range(epochs):\n",
        "    print(f'\\nstarting Epoch {i}')\n",
        "    print('Training...')\n",
        "    epoch_loss = train(model, train_iterator, optimizer, criterion)\n",
        "    losses.append(epoch_loss)\n",
        "    print('\\nEvaluating on train...')\n",
        "    acc_on_train,_ = evaluate(model, train_iterator, criterion)\n",
        "    scores.append(acc_on_train)\n",
        "    print('\\nEvaluating on test...')\n",
        "    acc_on_test, epoch_loss_on_test = evaluate(model, val_iterator, criterion)\n",
        "    losses_eval.append(epoch_loss_on_test)\n",
        "    scores_eval.append(acc_on_test)"
      ],
      "execution_count": 32,
      "outputs": [
        {
          "output_type": "stream",
          "name": "stdout",
          "text": [
            "\n",
            "starting Epoch 0\n",
            "Training...\n",
            "Train loss: 1.8343641590653805\n",
            "Train loss: 1.665588000546331\n",
            "Train loss: 1.610275950045944\n",
            "Train loss: 1.5730732441980602\n",
            "Train loss: 1.5499780149195845\n",
            "\n",
            "Evaluating on train...\n",
            "Val loss: 1.4228830483921788, Val Acc: 0.4018640350877193\n",
            "Val loss: 1.4159265507822452, Val Acc: 0.3995923913043478\n",
            "Val loss: 1.421325375578996, Val Acc: 0.3949602601156069\n",
            "Val loss: 1.4176748758786684, Val Acc: 0.3953598484848485\n",
            "Val loss: 1.4149343856065744, Val Acc: 0.39718633707645096\n",
            "\n",
            "Evaluating on test...\n",
            "Val loss: 1.5184595401470478, Val Acc: 0.4483173076923077\n",
            "Val loss: 1.4640392153351396, Val Acc: 0.4010416666666667\n",
            "Val loss: 1.4539957424489462, Val Acc: 0.3944359756097561\n",
            "Val loss: 1.4421294342387807, Val Acc: 0.396875\n",
            "Val loss: 1.4404623698497163, Val Acc: 0.395606884057971\n",
            "\n",
            "starting Epoch 1\n",
            "Training...\n",
            "Train loss: 1.4492014416477137\n",
            "Train loss: 1.4272322343743367\n",
            "Train loss: 1.4194356733663922\n",
            "Train loss: 1.411961767580602\n",
            "Train loss: 1.4138254636711727\n",
            "\n",
            "Evaluating on train...\n",
            "Val loss: 1.380442880747611, Val Acc: 0.4232456140350877\n",
            "Val loss: 1.3661445679871933, Val Acc: 0.4199728260869565\n",
            "Val loss: 1.3664432419517827, Val Acc: 0.41184971098265893\n",
            "Val loss: 1.3616465861663158, Val Acc: 0.411525974025974\n",
            "Val loss: 1.3599480485421152, Val Acc: 0.4109618805901939\n",
            "\n",
            "Evaluating on test...\n",
            "Val loss: 1.4599419832229614, Val Acc: 0.4639423076923077\n",
            "Val loss: 1.3970709332713374, Val Acc: 0.41782407407407407\n",
            "Val loss: 1.389668781582902, Val Acc: 0.4115853658536585\n",
            "Val loss: 1.3796406399119985, Val Acc: 0.4127840909090909\n",
            "Val loss: 1.3794928011686907, Val Acc: 0.4121376811594203\n",
            "\n",
            "starting Epoch 2\n",
            "Training...\n",
            "Train loss: 1.4494112667284513\n",
            "Train loss: 1.4216023963430653\n",
            "Train loss: 1.4104960164582798\n",
            "Train loss: 1.4006339306439155\n",
            "Train loss: 1.3911802050976605\n",
            "\n",
            "Evaluating on train...\n",
            "Val loss: 1.3014540274937947, Val Acc: 0.6847587719298246\n",
            "Val loss: 1.2865427556245224, Val Acc: 0.6808423913043479\n",
            "Val loss: 1.2763475930759673, Val Acc: 0.6820809248554913\n",
            "Val loss: 1.2701835436222357, Val Acc: 0.687297077922078\n",
            "Val loss: 1.2721684263651758, Val Acc: 0.6845182232160345\n",
            "\n",
            "Evaluating on test...\n",
            "Val loss: 1.3434540033340454, Val Acc: 0.7548076923076923\n",
            "Val loss: 1.2967157010678891, Val Acc: 0.7204861111111112\n",
            "Val loss: 1.2985475906511632, Val Acc: 0.7000762195121951\n",
            "Val loss: 1.2919347633015026, Val Acc: 0.6963068181818182\n",
            "Val loss: 1.2934437402780505, Val Acc: 0.6904438405797102\n",
            "\n",
            "starting Epoch 3\n",
            "Training...\n",
            "Train loss: 1.2964554042146916\n",
            "Train loss: 1.2423059624174366\n",
            "Train loss: 1.2296846109318595\n",
            "Train loss: 1.2174330036361496\n",
            "Train loss: 1.2134366732567652\n",
            "\n",
            "Evaluating on train...\n",
            "Val loss: 0.9516571300071582, Val Acc: 0.7225877192982456\n",
            "Val loss: 0.962392590875211, Val Acc: 0.7092391304347826\n",
            "Val loss: 0.9550605784950917, Val Acc: 0.7071893063583815\n",
            "Val loss: 0.952678110950437, Val Acc: 0.7058982683982684\n",
            "Val loss: 0.9522355706221505, Val Acc: 0.7048714255402494\n",
            "\n",
            "Evaluating on test...\n",
            "Val loss: 0.9956583151450524, Val Acc: 0.7836538461538461\n",
            "Val loss: 0.9850070322001422, Val Acc: 0.7424768518518519\n",
            "Val loss: 0.9873358025783445, Val Acc: 0.7195121951219512\n",
            "Val loss: 0.9764757936651056, Val Acc: 0.7176136363636364\n",
            "Val loss: 0.9748682146487029, Val Acc: 0.7133152173913043\n",
            "\n",
            "starting Epoch 4\n",
            "Training...\n",
            "Train loss: 1.2212585472224051\n",
            "Train loss: 1.204604256671408\n",
            "Train loss: 1.2025836451205214\n",
            "Train loss: 1.1920357968384054\n",
            "Train loss: 1.1883790823002587\n",
            "\n",
            "Evaluating on train...\n",
            "Val loss: 0.8988259455613923, Val Acc: 0.7039473684210527\n",
            "Val loss: 0.892541620005732, Val Acc: 0.6986413043478261\n",
            "Val loss: 0.8925303737552179, Val Acc: 0.6940028901734104\n",
            "Val loss: 0.893701578115488, Val Acc: 0.6915584415584416\n",
            "Val loss: 0.8972481239625739, Val Acc: 0.6889924185545473\n",
            "\n",
            "Evaluating on test...\n",
            "Val loss: 0.9504679854099567, Val Acc: 0.7620192307692307\n",
            "Val loss: 0.9182875046023616, Val Acc: 0.7291666666666666\n",
            "Val loss: 0.9206529157917674, Val Acc: 0.7054115853658537\n",
            "Val loss: 0.9114285176450556, Val Acc: 0.7019886363636364\n",
            "Val loss: 0.9131818646970002, Val Acc: 0.6961050724637681\n"
          ]
        }
      ]
    },
    {
      "cell_type": "code",
      "metadata": {
        "colab": {
          "base_uri": "https://localhost:8080/",
          "height": 295
        },
        "id": "eH7ws8dXmEn5",
        "outputId": "a330f217-9b75-4905-bc70-2cc132237edf"
      },
      "source": [
        "import matplotlib.pyplot as plt\n",
        "plt.plot(losses)\n",
        "plt.plot(losses_eval)\n",
        "plt.title('BCE loss value')\n",
        "plt.ylabel('BCE loss')\n",
        "plt.xlabel('epoch')\n",
        "plt.legend(['train', 'val'], loc='upper right')\n",
        "plt.show()"
      ],
      "execution_count": 33,
      "outputs": [
        {
          "output_type": "display_data",
          "data": {
            "image/png": "[encoded data removed]",
            "text/plain": [
              "<Figure size 432x288 with 1 Axes>"
            ]
          },
          "metadata": {
            "needs_background": "light"
          }
        }
      ]
    },
    {
      "cell_type": "code",
      "metadata": {
        "colab": {
          "base_uri": "https://localhost:8080/",
          "height": 295
        },
        "id": "q32B6i6BmGOc",
        "outputId": "4a83a9cd-e7be-4822-9559-50ea759e5b18"
      },
      "source": [
        "plt.plot(scores)\n",
        "plt.plot(scores_eval)\n",
        "plt.title('Accuracy')\n",
        "plt.ylabel('Accuracy')\n",
        "plt.xlabel('epoch')\n",
        "plt.legend(['train', 'val'], loc='upper right')\n",
        "plt.show()"
      ],
      "execution_count": 36,
      "outputs": [
        {
          "output_type": "display_data",
          "data": {
            "image/png": "[encoded data removed]",
            "text/plain": [
              "<Figure size 432x288 with 1 Axes>"
            ]
          },
          "metadata": {
            "needs_background": "light"
          }
        }
      ]
    },
    {
      "cell_type": "markdown",
      "metadata": {
        "id": "hj0-XaCkYz8w"
      },
      "source": [
        "Для анализа ошибок можно посмотреть на те примеры, которые мы (не)правильно предсказываем"
      ]
    },
    {
      "cell_type": "code",
      "metadata": {
        "id": "bHtAIt5eCrP5"
      },
      "source": [
        "def predict(model, iterator):\n",
        "    model.eval()\n",
        "    right = []\n",
        "    wrong = []\n",
        "    with torch.no_grad():\n",
        "        for i, (texts, ys) in tqdm(enumerate(iterator), total=len(iterator)):   \n",
        "            preds = model(texts).detach().cpu().numpy()\n",
        "            for pred, gold, text in zip(preds, ys, texts):\n",
        "              pred = np.argmax(pred, axis=-1)\n",
        "              text = ' '.join([id2word[int(symbol)] for symbol in text if symbol !=0])\n",
        "              if pred == gold:\n",
        "                right.append((text, gold.item(), pred))\n",
        "              elif pred != gold:\n",
        "                wrong.append((text, gold.item(), pred))\n",
        "            if i > 10:\n",
        "              break\n",
        "    return right, wrong"
      ],
      "execution_count": 54,
      "outputs": []
    },
    {
      "cell_type": "code",
      "metadata": {
        "id": "phc1BAE4MKhU",
        "colab": {
          "base_uri": "https://localhost:8080/"
        },
        "outputId": "990e0818-a992-488d-c0ef-2a7fccdc2234"
      },
      "source": [
        "right, wrong = predict(model, val_iterator)"
      ],
      "execution_count": 55,
      "outputs": [
        {
          "output_type": "stream",
          "name": "stderr",
          "text": [
            " 15%|█▌        | 11/73 [00:45<04:17,  4.15s/it]\n"
          ]
        }
      ]
    },
    {
      "cell_type": "code",
      "source": [
        "target_labels"
      ],
      "metadata": {
        "colab": {
          "base_uri": "https://localhost:8080/"
        },
        "id": "yiwgzDjU8EJW",
        "outputId": "481d3db7-468d-4fe9-9c3a-46596f4d7142"
      },
      "execution_count": 58,
      "outputs": [
        {
          "output_type": "execute_result",
          "data": {
            "text/plain": [
              "{'Government News': 5,\n",
              " 'Middle-east': 0,\n",
              " 'News': 4,\n",
              " 'US_News': 3,\n",
              " 'left-news': 1,\n",
              " 'politics': 2}"
            ]
          },
          "metadata": {},
          "execution_count": 58
        }
      ]
    },
    {
      "cell_type": "code",
      "source": [
        "label2id = {value:key for key, value in target_labels.items()}"
      ],
      "metadata": {
        "id": "_WephcYD8GMu"
      },
      "execution_count": 59,
      "outputs": []
    },
    {
      "cell_type": "code",
      "metadata": {
        "id": "DZL6OlYcbE9d",
        "colab": {
          "base_uri": "https://localhost:8080/"
        },
        "outputId": "faafc91f-5a31-423d-8b6d-058b02ed3c5f"
      },
      "source": [
        "print(f'{wrong[0][0]}\\nGold:{label2id[wrong[0][1].item()]}\\nPred:{label2id[wrong[0][2]]}')"
      ],
      "execution_count": 61,
      "outputs": [
        {
          "output_type": "stream",
          "name": "stdout",
          "text": [
            "fox news reporter mike interviewed former new black panther leader malik who promised violence on the republican national convention malik from what i know many the groups on the left mainly the white left others i know for fact that there s going be the blocking highways there s going be arrests there s going be some things i hear that s going go on next week it s highly likely there s going be arrests there s going be tear gas it s going be happening this is the same man who called police officers occupiers\n",
            "Gold:left-news\n",
            "Pred:politics\n"
          ]
        }
      ]
    },
    {
      "cell_type": "code",
      "source": [
        "print(f'{wrong[5][0]}\\nGold:{label2id[wrong[5][1].item()]}\\nPred:{label2id[wrong[5][2]]}')"
      ],
      "metadata": {
        "colab": {
          "base_uri": "https://localhost:8080/"
        },
        "id": "o3gl2gd57SXI",
        "outputId": "f3b2698f-0c28-45e4-b1d8-8dd4e581a264"
      },
      "execution_count": 62,
      "outputs": [
        {
          "output_type": "stream",
          "name": "stdout",
          "text": [
            "with % mexico now living in america americans should be demanding our president tell us why he allowed these illegal aliens cross our southern border who will pay for their health care education americans pride ourselves on being people who have government but these days it more often seems as if we ve got government that has people that government is even selecting who its people will be having within generation essentially imported state s worth new people through immigration since the number hispanics mexican origin in the u s has jumped from fewer than 1 million more than million if all these mexicans were state it would be the second largest in population in the country trailing only california did you vote approve that immigration policy did anyone in fact the federal government allowed it happen without any voter input that s by design in recent years congress has attempted draft legislation deal with illegal immigration while the controversial gang eight bill passed the senate in it died in the house after one its authors withdrew his support immigration is difficult topic one that will require difficult discussions instead the obama white house would prefer short circuit the political discussions america cannot wait forever for them act that s why today i am beginning new effort fix as much our immigration system as i can on my own without congress president obama warned last summer after the november elections he acted grant amnesty millions illegals in february federal judge put hold on that policy while he determined its legality the administration admits it went right on ahead issuing 2 more waivers now an appeals court has upheld the stay but the white house says it will press ahead t he administration s enforcement priorities including our focus on deporting felons not families many other executive actions on immigration continue move forward white house spokesman eric schultz told reporters this week it would be shame if an issue so critical like this became mired in political dispute but schultz has it exactly backward if our representative system government means anything it should mean that the people have say in the big issues facing our country it s precisely because the issue is so important that it deserves be subject political disputes it s through the political process in the presidential congressional elections that voters can finally have say in the nation s immigration policy we ve already waited far too long via news\n",
            "Gold:left-news\n",
            "Pred:politics\n"
          ]
        }
      ]
    },
    {
      "cell_type": "code",
      "source": [
        "print(f'{wrong[10][0]}\\nGold:{label2id[wrong[10][1].item()]}\\nPred:{label2id[wrong[10][2]]}')"
      ],
      "metadata": {
        "colab": {
          "base_uri": "https://localhost:8080/"
        },
        "id": "NzfbvmFE8gwm",
        "outputId": "8f59c879-6424-4561-8d49-28bd45bbfafa"
      },
      "execution_count": 63,
      "outputs": [
        {
          "output_type": "stream",
          "name": "stdout",
          "text": [
            "fox 2 the tv station that appears be sympathetic the black lives matter riots in st louis found themselves on the wrong side angry protesters today after the innocent verdict for st louis police officer jason came down today in the murder trial anthony lamar smith fox 2 news showed their solidarity with the movement when they retweeted couple tweets by one the leaders the terror group both s tweets were intended mock the decision made by judge timothy wilson exonerate is murderer # should be alive today pic twitter com september is the second retweet by fox news this from the judge in the case officer # who killed # pic twitter com september fox news also pointed out in seperate tweet that st louis police officers were using mace control the crowd police use mace in confrontation with protesters in downtown st louis https t co pic twitter com september fox 2 news got surprise however when they attempted infiltrate the protesters found themselves in the middle situation that could have very easily ended very badly scariest moment in my career protesters upset about not guilty verdict for an officer accused killing suspect turn on me media pic twitter com dan gray fox 2 september\n",
            "Gold:left-news\n",
            "Pred:politics\n"
          ]
        }
      ]
    },
    {
      "cell_type": "code",
      "source": [
        "def predict_all(model, iterator):\n",
        "    model.eval()\n",
        "    all_preds = []\n",
        "    all_golds = []\n",
        "    with torch.no_grad():\n",
        "        for i, (texts, ys) in tqdm(enumerate(iterator), total=len(iterator)):   \n",
        "            preds = model(texts).detach().cpu().numpy()\n",
        "            preds = np.argmax(preds, axis=-1)\n",
        "            all_golds.append(ys.cpu().numpy())\n",
        "            all_preds.append(preds)\n",
        "    all_preds = np.concatenate(all_preds)\n",
        "    all_golds = np.concatenate(all_golds)\n",
        "    return all_preds, all_golds"
      ],
      "metadata": {
        "id": "rBulp5UQ8jDT"
      },
      "execution_count": 75,
      "outputs": []
    },
    {
      "cell_type": "code",
      "source": [
        "all_preds, all_golds = predict_all(model, val_iterator)"
      ],
      "metadata": {
        "colab": {
          "base_uri": "https://localhost:8080/"
        },
        "id": "jCDFvrDZ9Bfd",
        "outputId": "eda96b7f-63a1-4271-bc3a-e6d6a992ed2e"
      },
      "execution_count": 76,
      "outputs": [
        {
          "output_type": "stream",
          "name": "stderr",
          "text": [
            "100%|██████████| 73/73 [00:07<00:00,  9.14it/s]\n"
          ]
        }
      ]
    },
    {
      "cell_type": "code",
      "source": [
        "from sklearn.metrics import confusion_matrix\n",
        "import seaborn as sns"
      ],
      "metadata": {
        "id": "ZiZdGU1J9GAA"
      },
      "execution_count": 73,
      "outputs": []
    },
    {
      "cell_type": "code",
      "source": [
        "c = confusion_matrix(all_golds, all_preds)\n",
        "c = c/c.sum(axis=-1)"
      ],
      "metadata": {
        "id": "WcO2IjHz9Vsm"
      },
      "execution_count": 81,
      "outputs": []
    },
    {
      "cell_type": "code",
      "source": [
        "ax = sns.heatmap(c, annot=True)\n",
        "ax.set_xticklabels(target_labels.keys(), rotation=45)\n",
        "ax.set_yticklabels(target_labels.keys(), rotation=45)\n",
        "ax.set_title('Confusion matrix')\n",
        "ax.set_ylabel('Gold')\n",
        "ax.set_xlabel('Predicted')\n",
        "plt.show()"
      ],
      "metadata": {
        "colab": {
          "base_uri": "https://localhost:8080/",
          "height": 358
        },
        "id": "7rL-vChE91VG",
        "outputId": "95ca5ba9-6161-457f-c465-98d372fa8f0f"
      },
      "execution_count": 87,
      "outputs": [
        {
          "output_type": "display_data",
          "data": {
            "image/png": "[encoded data removed]",
            "text/plain": [
              "<Figure size 432x288 with 2 Axes>"
            ]
          },
          "metadata": {
            "needs_background": "light"
          }
        }
      ]
    },
    {
      "cell_type": "code",
      "source": [
        "np.unique(all_golds, return_counts=True)"
      ],
      "metadata": {
        "colab": {
          "base_uri": "https://localhost:8080/"
        },
        "id": "fdNRJsei-3Dj",
        "outputId": "55222f0e-1c9d-45f3-97e7-cca06bc2a73b"
      },
      "execution_count": 88,
      "outputs": [
        {
          "output_type": "execute_result",
          "data": {
            "text/plain": [
              "(array([0, 1, 2, 3, 4, 5]), array([ 145,  857, 1364,  141, 1799,  332]))"
            ]
          },
          "metadata": {},
          "execution_count": 88
        }
      ]
    },
    {
      "cell_type": "markdown",
      "source": [
        "Классы, которых изначально было меньше в данных, модель выучила плохо."
      ],
      "metadata": {
        "id": "gR0Q9eyF_AAd"
      }
    }
  ]
}